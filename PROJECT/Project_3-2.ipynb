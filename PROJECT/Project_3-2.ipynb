{
  "cells": [
    {
      "cell_type": "code",
      "execution_count": 1,
      "source": [
        "import numpy as np\n",
        "import pandas as pd\n",
        "\n",
        "\n",
        "import pandas as pd\n",
        "import seaborn as sns\n",
        "import numpy as np\n",
        "sns.set(rc={'figure.figsize':(16,6)}, palette='muted', font_scale = 1.5)\n",
        "\n",
        "import matplotlib.pyplot as plt\n",
        "\n",
        "from plotly import tools\n",
        "import plotly.graph_objs as go\n",
        "import plotly.express as px\n",
        "from plotly.subplots import make_subplots\n",
        "from plotly.offline import download_plotlyjs, init_notebook_mode, plot, iplot\n",
        "import cufflinks as cf\n",
        "cf.go_offline()"
      ],
      "outputs": [
        {
          "output_type": "display_data",
          "data": {
            "text/html": [
              "        <script type=\"text/javascript\">\n",
              "        window.PlotlyConfig = {MathJaxConfig: 'local'};\n",
              "        if (window.MathJax) {MathJax.Hub.Config({SVG: {font: \"STIX-Web\"}});}\n",
              "        if (typeof require !== 'undefined') {\n",
              "        require.undef(\"plotly\");\n",
              "        requirejs.config({\n",
              "            paths: {\n",
              "                'plotly': ['https://cdn.plot.ly/plotly-2.8.3.min']\n",
              "            }\n",
              "        });\n",
              "        require(['plotly'], function(Plotly) {\n",
              "            window._Plotly = Plotly;\n",
              "        });\n",
              "        }\n",
              "        </script>\n",
              "        "
            ]
          },
          "metadata": {}
        }
      ],
      "metadata": {
        "id": "FMmTcbbY1bLD",
        "colab": {
          "base_uri": "https://localhost:8080/",
          "height": 17
        },
        "outputId": "a647b713-f78e-4ea2-c6f8-d6987c9b9f9b"
      }
    },
    {
      "cell_type": "code",
      "source": [
        "df = pd.read_csv('pump_sensor.csv',  index_col=1, parse_dates=True)"
      ],
      "metadata": {
        "id": "c3knTXHY6IHg"
      },
      "execution_count": 3,
      "outputs": []
    },
    {
      "cell_type": "code",
      "source": [
        "df = df.iloc[:,1:]\n",
        "\n",
        "df = df.drop(['sensor_15', 'sensor_50'], axis=1)\n",
        "\n",
        "for col in df.iloc[:, :-1].columns:\n",
        "\n",
        "    q01,q99 = np.nanpercentile(df[col],[1,99])\n",
        "\n",
        "    df.loc[df[col] < q01, col] = np.nan\n",
        "    df.loc[df[col] > q99, col] = np.nan\n",
        "#df = df.dropna()\n",
        "df.fillna(df.mean(), inplace=True)\n",
        "\n",
        "\n",
        "df = df.loc[df['machine_status'] != 'BROKEN']\n",
        "\n",
        "df['machine_status'] = df['machine_status'].map({'NORMAL': 0, 'RECOVERING':1})"
      ],
      "metadata": {
        "colab": {
          "base_uri": "https://localhost:8080/",
          "height": 375
        },
        "id": "z_zu1icRniCO",
        "outputId": "278474c0-6435-4707-e0ba-2b12de7767a6"
      },
      "execution_count": 22,
      "outputs": [
        {
          "output_type": "error",
          "ename": "KeyError",
          "evalue": "ignored",
          "traceback": [
            "\u001b[0;31m---------------------------------------------------------------------------\u001b[0m",
            "\u001b[0;31mKeyError\u001b[0m                                  Traceback (most recent call last)",
            "\u001b[0;32m<ipython-input-22-5a8c13f70524>\u001b[0m in \u001b[0;36m<module>\u001b[0;34m\u001b[0m\n\u001b[1;32m      1\u001b[0m \u001b[0mdf\u001b[0m \u001b[0;34m=\u001b[0m \u001b[0mdf\u001b[0m\u001b[0;34m.\u001b[0m\u001b[0miloc\u001b[0m\u001b[0;34m[\u001b[0m\u001b[0;34m:\u001b[0m\u001b[0;34m,\u001b[0m\u001b[0;36m1\u001b[0m\u001b[0;34m:\u001b[0m\u001b[0;34m]\u001b[0m\u001b[0;34m\u001b[0m\u001b[0;34m\u001b[0m\u001b[0m\n\u001b[1;32m      2\u001b[0m \u001b[0;34m\u001b[0m\u001b[0m\n\u001b[0;32m----> 3\u001b[0;31m \u001b[0mdf\u001b[0m \u001b[0;34m=\u001b[0m \u001b[0mdf\u001b[0m\u001b[0;34m.\u001b[0m\u001b[0mdrop\u001b[0m\u001b[0;34m(\u001b[0m\u001b[0;34m[\u001b[0m\u001b[0;34m'sensor_15'\u001b[0m\u001b[0;34m,\u001b[0m \u001b[0;34m'sensor_50'\u001b[0m\u001b[0;34m]\u001b[0m\u001b[0;34m,\u001b[0m \u001b[0maxis\u001b[0m\u001b[0;34m=\u001b[0m\u001b[0;36m1\u001b[0m\u001b[0;34m)\u001b[0m\u001b[0;34m\u001b[0m\u001b[0;34m\u001b[0m\u001b[0m\n\u001b[0m\u001b[1;32m      4\u001b[0m \u001b[0;34m\u001b[0m\u001b[0m\n\u001b[1;32m      5\u001b[0m \u001b[0;32mfor\u001b[0m \u001b[0mcol\u001b[0m \u001b[0;32min\u001b[0m \u001b[0mdf\u001b[0m\u001b[0;34m.\u001b[0m\u001b[0miloc\u001b[0m\u001b[0;34m[\u001b[0m\u001b[0;34m:\u001b[0m\u001b[0;34m,\u001b[0m \u001b[0;34m:\u001b[0m\u001b[0;34m-\u001b[0m\u001b[0;36m1\u001b[0m\u001b[0;34m]\u001b[0m\u001b[0;34m.\u001b[0m\u001b[0mcolumns\u001b[0m\u001b[0;34m:\u001b[0m\u001b[0;34m\u001b[0m\u001b[0;34m\u001b[0m\u001b[0m\n",
            "\u001b[0;32m/usr/local/lib/python3.8/dist-packages/pandas/util/_decorators.py\u001b[0m in \u001b[0;36mwrapper\u001b[0;34m(*args, **kwargs)\u001b[0m\n\u001b[1;32m    309\u001b[0m                     \u001b[0mstacklevel\u001b[0m\u001b[0;34m=\u001b[0m\u001b[0mstacklevel\u001b[0m\u001b[0;34m,\u001b[0m\u001b[0;34m\u001b[0m\u001b[0;34m\u001b[0m\u001b[0m\n\u001b[1;32m    310\u001b[0m                 )\n\u001b[0;32m--> 311\u001b[0;31m             \u001b[0;32mreturn\u001b[0m \u001b[0mfunc\u001b[0m\u001b[0;34m(\u001b[0m\u001b[0;34m*\u001b[0m\u001b[0margs\u001b[0m\u001b[0;34m,\u001b[0m \u001b[0;34m**\u001b[0m\u001b[0mkwargs\u001b[0m\u001b[0;34m)\u001b[0m\u001b[0;34m\u001b[0m\u001b[0;34m\u001b[0m\u001b[0m\n\u001b[0m\u001b[1;32m    312\u001b[0m \u001b[0;34m\u001b[0m\u001b[0m\n\u001b[1;32m    313\u001b[0m         \u001b[0;32mreturn\u001b[0m \u001b[0mwrapper\u001b[0m\u001b[0;34m\u001b[0m\u001b[0;34m\u001b[0m\u001b[0m\n",
            "\u001b[0;32m/usr/local/lib/python3.8/dist-packages/pandas/core/frame.py\u001b[0m in \u001b[0;36mdrop\u001b[0;34m(self, labels, axis, index, columns, level, inplace, errors)\u001b[0m\n\u001b[1;32m   4904\u001b[0m                 \u001b[0mweight\u001b[0m  \u001b[0;36m1.0\u001b[0m     \u001b[0;36m0.8\u001b[0m\u001b[0;34m\u001b[0m\u001b[0;34m\u001b[0m\u001b[0m\n\u001b[1;32m   4905\u001b[0m         \"\"\"\n\u001b[0;32m-> 4906\u001b[0;31m         return super().drop(\n\u001b[0m\u001b[1;32m   4907\u001b[0m             \u001b[0mlabels\u001b[0m\u001b[0;34m=\u001b[0m\u001b[0mlabels\u001b[0m\u001b[0;34m,\u001b[0m\u001b[0;34m\u001b[0m\u001b[0;34m\u001b[0m\u001b[0m\n\u001b[1;32m   4908\u001b[0m             \u001b[0maxis\u001b[0m\u001b[0;34m=\u001b[0m\u001b[0maxis\u001b[0m\u001b[0;34m,\u001b[0m\u001b[0;34m\u001b[0m\u001b[0;34m\u001b[0m\u001b[0m\n",
            "\u001b[0;32m/usr/local/lib/python3.8/dist-packages/pandas/core/generic.py\u001b[0m in \u001b[0;36mdrop\u001b[0;34m(self, labels, axis, index, columns, level, inplace, errors)\u001b[0m\n\u001b[1;32m   4148\u001b[0m         \u001b[0;32mfor\u001b[0m \u001b[0maxis\u001b[0m\u001b[0;34m,\u001b[0m \u001b[0mlabels\u001b[0m \u001b[0;32min\u001b[0m \u001b[0maxes\u001b[0m\u001b[0;34m.\u001b[0m\u001b[0mitems\u001b[0m\u001b[0;34m(\u001b[0m\u001b[0;34m)\u001b[0m\u001b[0;34m:\u001b[0m\u001b[0;34m\u001b[0m\u001b[0;34m\u001b[0m\u001b[0m\n\u001b[1;32m   4149\u001b[0m             \u001b[0;32mif\u001b[0m \u001b[0mlabels\u001b[0m \u001b[0;32mis\u001b[0m \u001b[0;32mnot\u001b[0m \u001b[0;32mNone\u001b[0m\u001b[0;34m:\u001b[0m\u001b[0;34m\u001b[0m\u001b[0;34m\u001b[0m\u001b[0m\n\u001b[0;32m-> 4150\u001b[0;31m                 \u001b[0mobj\u001b[0m \u001b[0;34m=\u001b[0m \u001b[0mobj\u001b[0m\u001b[0;34m.\u001b[0m\u001b[0m_drop_axis\u001b[0m\u001b[0;34m(\u001b[0m\u001b[0mlabels\u001b[0m\u001b[0;34m,\u001b[0m \u001b[0maxis\u001b[0m\u001b[0;34m,\u001b[0m \u001b[0mlevel\u001b[0m\u001b[0;34m=\u001b[0m\u001b[0mlevel\u001b[0m\u001b[0;34m,\u001b[0m \u001b[0merrors\u001b[0m\u001b[0;34m=\u001b[0m\u001b[0merrors\u001b[0m\u001b[0;34m)\u001b[0m\u001b[0;34m\u001b[0m\u001b[0;34m\u001b[0m\u001b[0m\n\u001b[0m\u001b[1;32m   4151\u001b[0m \u001b[0;34m\u001b[0m\u001b[0m\n\u001b[1;32m   4152\u001b[0m         \u001b[0;32mif\u001b[0m \u001b[0minplace\u001b[0m\u001b[0;34m:\u001b[0m\u001b[0;34m\u001b[0m\u001b[0;34m\u001b[0m\u001b[0m\n",
            "\u001b[0;32m/usr/local/lib/python3.8/dist-packages/pandas/core/generic.py\u001b[0m in \u001b[0;36m_drop_axis\u001b[0;34m(self, labels, axis, level, errors)\u001b[0m\n\u001b[1;32m   4183\u001b[0m                 \u001b[0mnew_axis\u001b[0m \u001b[0;34m=\u001b[0m \u001b[0maxis\u001b[0m\u001b[0;34m.\u001b[0m\u001b[0mdrop\u001b[0m\u001b[0;34m(\u001b[0m\u001b[0mlabels\u001b[0m\u001b[0;34m,\u001b[0m \u001b[0mlevel\u001b[0m\u001b[0;34m=\u001b[0m\u001b[0mlevel\u001b[0m\u001b[0;34m,\u001b[0m \u001b[0merrors\u001b[0m\u001b[0;34m=\u001b[0m\u001b[0merrors\u001b[0m\u001b[0;34m)\u001b[0m\u001b[0;34m\u001b[0m\u001b[0;34m\u001b[0m\u001b[0m\n\u001b[1;32m   4184\u001b[0m             \u001b[0;32melse\u001b[0m\u001b[0;34m:\u001b[0m\u001b[0;34m\u001b[0m\u001b[0;34m\u001b[0m\u001b[0m\n\u001b[0;32m-> 4185\u001b[0;31m                 \u001b[0mnew_axis\u001b[0m \u001b[0;34m=\u001b[0m \u001b[0maxis\u001b[0m\u001b[0;34m.\u001b[0m\u001b[0mdrop\u001b[0m\u001b[0;34m(\u001b[0m\u001b[0mlabels\u001b[0m\u001b[0;34m,\u001b[0m \u001b[0merrors\u001b[0m\u001b[0;34m=\u001b[0m\u001b[0merrors\u001b[0m\u001b[0;34m)\u001b[0m\u001b[0;34m\u001b[0m\u001b[0;34m\u001b[0m\u001b[0m\n\u001b[0m\u001b[1;32m   4186\u001b[0m             \u001b[0mresult\u001b[0m \u001b[0;34m=\u001b[0m \u001b[0mself\u001b[0m\u001b[0;34m.\u001b[0m\u001b[0mreindex\u001b[0m\u001b[0;34m(\u001b[0m\u001b[0;34m**\u001b[0m\u001b[0;34m{\u001b[0m\u001b[0maxis_name\u001b[0m\u001b[0;34m:\u001b[0m \u001b[0mnew_axis\u001b[0m\u001b[0;34m}\u001b[0m\u001b[0;34m)\u001b[0m\u001b[0;34m\u001b[0m\u001b[0;34m\u001b[0m\u001b[0m\n\u001b[1;32m   4187\u001b[0m \u001b[0;34m\u001b[0m\u001b[0m\n",
            "\u001b[0;32m/usr/local/lib/python3.8/dist-packages/pandas/core/indexes/base.py\u001b[0m in \u001b[0;36mdrop\u001b[0;34m(self, labels, errors)\u001b[0m\n\u001b[1;32m   6015\u001b[0m         \u001b[0;32mif\u001b[0m \u001b[0mmask\u001b[0m\u001b[0;34m.\u001b[0m\u001b[0many\u001b[0m\u001b[0;34m(\u001b[0m\u001b[0;34m)\u001b[0m\u001b[0;34m:\u001b[0m\u001b[0;34m\u001b[0m\u001b[0;34m\u001b[0m\u001b[0m\n\u001b[1;32m   6016\u001b[0m             \u001b[0;32mif\u001b[0m \u001b[0merrors\u001b[0m \u001b[0;34m!=\u001b[0m \u001b[0;34m\"ignore\"\u001b[0m\u001b[0;34m:\u001b[0m\u001b[0;34m\u001b[0m\u001b[0;34m\u001b[0m\u001b[0m\n\u001b[0;32m-> 6017\u001b[0;31m                 \u001b[0;32mraise\u001b[0m \u001b[0mKeyError\u001b[0m\u001b[0;34m(\u001b[0m\u001b[0;34mf\"{labels[mask]} not found in axis\"\u001b[0m\u001b[0;34m)\u001b[0m\u001b[0;34m\u001b[0m\u001b[0;34m\u001b[0m\u001b[0m\n\u001b[0m\u001b[1;32m   6018\u001b[0m             \u001b[0mindexer\u001b[0m \u001b[0;34m=\u001b[0m \u001b[0mindexer\u001b[0m\u001b[0;34m[\u001b[0m\u001b[0;34m~\u001b[0m\u001b[0mmask\u001b[0m\u001b[0;34m]\u001b[0m\u001b[0;34m\u001b[0m\u001b[0;34m\u001b[0m\u001b[0m\n\u001b[1;32m   6019\u001b[0m         \u001b[0;32mreturn\u001b[0m \u001b[0mself\u001b[0m\u001b[0;34m.\u001b[0m\u001b[0mdelete\u001b[0m\u001b[0;34m(\u001b[0m\u001b[0mindexer\u001b[0m\u001b[0;34m)\u001b[0m\u001b[0;34m\u001b[0m\u001b[0;34m\u001b[0m\u001b[0m\n",
            "\u001b[0;31mKeyError\u001b[0m: \"['sensor_15' 'sensor_50'] not found in axis\""
          ]
        }
      ]
    },
    {
      "cell_type": "code",
      "source": [
        "from sklearn.decomposition import PCA \n",
        "pca_transformer = PCA() \n",
        "X2 = pca_transformer.fit_transform(df)\n",
        "\n",
        "df_pca = pd.DataFrame(X2, columns = [f'PCA_{i}' for i in range(51)], index = df.index)\n",
        "\n",
        "PCA_variance = pd.DataFrame(data=[pca_transformer.explained_variance_ratio_], \n",
        "columns = [f'PCA_{i}' for i in range(51)], index=[0])\n",
        "\n"
      ],
      "metadata": {
        "id": "j_k8kk61pnEg"
      },
      "execution_count": 6,
      "outputs": []
    },
    {
      "cell_type": "code",
      "source": [
        "# Make a random dataset:\n",
        "height = np.array(PCA_variance.values[0][:10])*100\n",
        "bars = PCA_variance.columns[:10]\n",
        "y_pos = np.arange(len(bars))\n",
        "\n",
        "# Create bars\n",
        "ax =plt.bar(y_pos, height)\n",
        "\n",
        "# Create names on the x-axis\n",
        "plt.xticks(y_pos, bars)\n",
        "\n",
        "plt.title('Explained variance ratio')\n",
        "\n",
        "\n",
        "# Show graphic\n",
        "plt.show()"
      ],
      "metadata": {
        "colab": {
          "base_uri": "https://localhost:8080/",
          "height": 405
        },
        "id": "ylD3xrEjRzrY",
        "outputId": "b0782ffe-9543-4c83-ac90-d86d0fec235e"
      },
      "execution_count": null,
      "outputs": [
        {
          "output_type": "display_data",
          "data": {
            "text/plain": [
              "<Figure size 1152x432 with 1 Axes>"
            ],
            "image/png": "[encoded data removed]"
          },
          "metadata": {}
        }
      ]
    },
    {
      "cell_type": "code",
      "source": [
        "df_pca = df_pca.iloc[:, :10]\n",
        "df_pca['machine_status'] = df['machine_status']\n",
        "\n",
        "from sklearn.preprocessing import MinMaxScaler\n",
        "\n",
        "scaler = MinMaxScaler()\n",
        "df_arr = scaler.fit_transform(df_pca)\n",
        "dfs = pd.DataFrame(df_arr, columns = df_pca.columns, index = df_pca.index)\n",
        "\n",
        "for name in dfs.iloc[:, :-1]:\n",
        "    for j in range(1,61):\n",
        "        dfs[f'{name}_{j}'] = dfs[name].shift(j)\n",
        "\n",
        "dfs['machine_status'] = dfs['machine_status'].shift(-60)\n",
        "\n",
        "dfs = dfs.dropna()"
      ],
      "metadata": {
        "id": "XX3C1CVuprzZ",
        "colab": {
          "base_uri": "https://localhost:8080/"
        },
        "outputId": "8cb58122-1db6-483e-e45d-224499e0cbbf"
      },
      "execution_count": 10,
      "outputs": [
        {
          "output_type": "stream",
          "name": "stderr",
          "text": [
            "<ipython-input-10-670ca35915e6>:12: PerformanceWarning:\n",
            "\n",
            "DataFrame is highly fragmented.  This is usually the result of calling `frame.insert` many times, which has poor performance.  Consider joining all columns at once using pd.concat(axis=1) instead.  To get a de-fragmented frame, use `newframe = frame.copy()`\n",
            "\n"
          ]
        }
      ]
    },
    {
      "cell_type": "code",
      "source": [
        "dfs.head(1)"
      ],
      "metadata": {
        "colab": {
          "base_uri": "https://localhost:8080/",
          "height": 221
        },
        "id": "KvJ6OYNVnk7n",
        "outputId": "611f413c-1d8a-46ea-d13b-9d2a16606a68"
      },
      "execution_count": null,
      "outputs": [
        {
          "output_type": "execute_result",
          "data": {
            "text/plain": [
              "                        PCA_0     PCA_1     PCA_2     PCA_3     PCA_4  \\\n",
              "timestamp                                                               \n",
              "2018-04-01 00:10:00  0.276839  0.725214  0.160918  0.445753  0.475064   \n",
              "\n",
              "                        PCA_5     PCA_6     PCA_7     PCA_8     PCA_9  ...  \\\n",
              "timestamp                                                              ...   \n",
              "2018-04-01 00:10:00  0.528601  0.413463  0.363172  0.425942  0.380381  ...   \n",
              "\n",
              "                      PCA_9_1   PCA_9_2   PCA_9_3   PCA_9_4   PCA_9_5  \\\n",
              "timestamp                                                               \n",
              "2018-04-01 00:10:00  0.396938  0.388794  0.401161  0.397688  0.406827   \n",
              "\n",
              "                      PCA_9_6   PCA_9_7   PCA_9_8   PCA_9_9  PCA_9_10  \n",
              "timestamp                                                              \n",
              "2018-04-01 00:10:00  0.392699  0.381022  0.397876  0.414701  0.414701  \n",
              "\n",
              "[1 rows x 111 columns]"
            ],
            "text/html": [
              "\n",
              "  <div id=\"df-d01e30fd-b7f4-4751-81d2-90d31d0b374b\">\n",
              "    <div class=\"colab-df-container\">\n",
              "      <div>\n",
              "<style scoped>\n",
              "    .dataframe tbody tr th:only-of-type {\n",
              "        vertical-align: middle;\n",
              "    }\n",
              "\n",
              "    .dataframe tbody tr th {\n",
              "        vertical-align: top;\n",
              "    }\n",
              "\n",
              "    .dataframe thead th {\n",
              "        text-align: right;\n",
              "    }\n",
              "</style>\n",
              "<table border=\"1\" class=\"dataframe\">\n",
              "  <thead>\n",
              "    <tr style=\"text-align: right;\">\n",
              "      <th></th>\n",
              "      <th>PCA_0</th>\n",
              "      <th>PCA_1</th>\n",
              "      <th>PCA_2</th>\n",
              "      <th>PCA_3</th>\n",
              "      <th>PCA_4</th>\n",
              "      <th>PCA_5</th>\n",
              "      <th>PCA_6</th>\n",
              "      <th>PCA_7</th>\n",
              "      <th>PCA_8</th>\n",
              "      <th>PCA_9</th>\n",
              "      <th>...</th>\n",
              "      <th>PCA_9_1</th>\n",
              "      <th>PCA_9_2</th>\n",
              "      <th>PCA_9_3</th>\n",
              "      <th>PCA_9_4</th>\n",
              "      <th>PCA_9_5</th>\n",
              "      <th>PCA_9_6</th>\n",
              "      <th>PCA_9_7</th>\n",
              "      <th>PCA_9_8</th>\n",
              "      <th>PCA_9_9</th>\n",
              "      <th>PCA_9_10</th>\n",
              "    </tr>\n",
              "    <tr>\n",
              "      <th>timestamp</th>\n",
              "      <th></th>\n",
              "      <th></th>\n",
              "      <th></th>\n",
              "      <th></th>\n",
              "      <th></th>\n",
              "      <th></th>\n",
              "      <th></th>\n",
              "      <th></th>\n",
              "      <th></th>\n",
              "      <th></th>\n",
              "      <th></th>\n",
              "      <th></th>\n",
              "      <th></th>\n",
              "      <th></th>\n",
              "      <th></th>\n",
              "      <th></th>\n",
              "      <th></th>\n",
              "      <th></th>\n",
              "      <th></th>\n",
              "      <th></th>\n",
              "      <th></th>\n",
              "    </tr>\n",
              "  </thead>\n",
              "  <tbody>\n",
              "    <tr>\n",
              "      <th>2018-04-01 00:10:00</th>\n",
              "      <td>0.276839</td>\n",
              "      <td>0.725214</td>\n",
              "      <td>0.160918</td>\n",
              "      <td>0.445753</td>\n",
              "      <td>0.475064</td>\n",
              "      <td>0.528601</td>\n",
              "      <td>0.413463</td>\n",
              "      <td>0.363172</td>\n",
              "      <td>0.425942</td>\n",
              "      <td>0.380381</td>\n",
              "      <td>...</td>\n",
              "      <td>0.396938</td>\n",
              "      <td>0.388794</td>\n",
              "      <td>0.401161</td>\n",
              "      <td>0.397688</td>\n",
              "      <td>0.406827</td>\n",
              "      <td>0.392699</td>\n",
              "      <td>0.381022</td>\n",
              "      <td>0.397876</td>\n",
              "      <td>0.414701</td>\n",
              "      <td>0.414701</td>\n",
              "    </tr>\n",
              "  </tbody>\n",
              "</table>\n",
              "<p>1 rows × 111 columns</p>\n",
              "</div>\n",
              "      <button class=\"colab-df-convert\" onclick=\"convertToInteractive('df-d01e30fd-b7f4-4751-81d2-90d31d0b374b')\"\n",
              "              title=\"Convert this dataframe to an interactive table.\"\n",
              "              style=\"display:none;\">\n",
              "        \n",
              "  <svg xmlns=\"http://www.w3.org/2000/svg\" height=\"24px\"viewBox=\"0 0 24 24\"\n",
              "       width=\"24px\">\n",
              "    <path d=\"M0 0h24v24H0V0z\" fill=\"none\"/>\n",
              "    <path d=\"M18.56 5.44l.94 2.06.94-2.06 2.06-.94-2.06-.94-.94-2.06-.94 2.06-2.06.94zm-11 1L8.5 8.5l.94-2.06 2.06-.94-2.06-.94L8.5 2.5l-.94 2.06-2.06.94zm10 10l.94 2.06.94-2.06 2.06-.94-2.06-.94-.94-2.06-.94 2.06-2.06.94z\"/><path d=\"M17.41 7.96l-1.37-1.37c-.4-.4-.92-.59-1.43-.59-.52 0-1.04.2-1.43.59L10.3 9.45l-7.72 7.72c-.78.78-.78 2.05 0 2.83L4 21.41c.39.39.9.59 1.41.59.51 0 1.02-.2 1.41-.59l7.78-7.78 2.81-2.81c.8-.78.8-2.07 0-2.86zM5.41 20L4 18.59l7.72-7.72 1.47 1.35L5.41 20z\"/>\n",
              "  </svg>\n",
              "      </button>\n",
              "      \n",
              "  <style>\n",
              "    .colab-df-container {\n",
              "      display:flex;\n",
              "      flex-wrap:wrap;\n",
              "      gap: 12px;\n",
              "    }\n",
              "\n",
              "    .colab-df-convert {\n",
              "      background-color: #E8F0FE;\n",
              "      border: none;\n",
              "      border-radius: 50%;\n",
              "      cursor: pointer;\n",
              "      display: none;\n",
              "      fill: #1967D2;\n",
              "      height: 32px;\n",
              "      padding: 0 0 0 0;\n",
              "      width: 32px;\n",
              "    }\n",
              "\n",
              "    .colab-df-convert:hover {\n",
              "      background-color: #E2EBFA;\n",
              "      box-shadow: 0px 1px 2px rgba(60, 64, 67, 0.3), 0px 1px 3px 1px rgba(60, 64, 67, 0.15);\n",
              "      fill: #174EA6;\n",
              "    }\n",
              "\n",
              "    [theme=dark] .colab-df-convert {\n",
              "      background-color: #3B4455;\n",
              "      fill: #D2E3FC;\n",
              "    }\n",
              "\n",
              "    [theme=dark] .colab-df-convert:hover {\n",
              "      background-color: #434B5C;\n",
              "      box-shadow: 0px 1px 3px 1px rgba(0, 0, 0, 0.15);\n",
              "      filter: drop-shadow(0px 1px 2px rgba(0, 0, 0, 0.3));\n",
              "      fill: #FFFFFF;\n",
              "    }\n",
              "  </style>\n",
              "\n",
              "      <script>\n",
              "        const buttonEl =\n",
              "          document.querySelector('#df-d01e30fd-b7f4-4751-81d2-90d31d0b374b button.colab-df-convert');\n",
              "        buttonEl.style.display =\n",
              "          google.colab.kernel.accessAllowed ? 'block' : 'none';\n",
              "\n",
              "        async function convertToInteractive(key) {\n",
              "          const element = document.querySelector('#df-d01e30fd-b7f4-4751-81d2-90d31d0b374b');\n",
              "          const dataTable =\n",
              "            await google.colab.kernel.invokeFunction('convertToInteractive',\n",
              "                                                     [key], {});\n",
              "          if (!dataTable) return;\n",
              "\n",
              "          const docLinkHtml = 'Like what you see? Visit the ' +\n",
              "            '<a target=\"_blank\" href=https://colab.research.google.com/notebooks/data_table.ipynb>data table notebook</a>'\n",
              "            + ' to learn more about interactive tables.';\n",
              "          element.innerHTML = '';\n",
              "          dataTable['output_type'] = 'display_data';\n",
              "          await google.colab.output.renderOutput(dataTable, element);\n",
              "          const docLink = document.createElement('div');\n",
              "          docLink.innerHTML = docLinkHtml;\n",
              "          element.appendChild(docLink);\n",
              "        }\n",
              "      </script>\n",
              "    </div>\n",
              "  </div>\n",
              "  "
            ]
          },
          "metadata": {},
          "execution_count": 15
        }
      ]
    },
    {
      "cell_type": "code",
      "source": [
        "train = dfs.iloc[:120000]\n",
        "test = dfs.iloc[120000:140000]\n",
        "val = dfs.iloc[140000:]\n",
        "\n",
        "\n",
        "x_train = train.drop(['machine_status'], axis=1)\n",
        "x_test = test.drop(['machine_status'], axis=1)\n",
        "x_val = val.drop(['machine_status'], axis=1)\n",
        "\n",
        "x_train = x_train.values.reshape((x_train.shape[0], x_train.shape[1], 1))\n",
        "x_test = x_test.values.reshape((x_test.shape[0], x_test.shape[1], 1))\n",
        "x_val = x_val.values.reshape((x_val.shape[0], x_val.shape[1], 1))\n",
        "\n",
        "y_train = train['machine_status'].values\n",
        "y_test = test['machine_status'].values\n",
        "y_val = val['machine_status'].values"
      ],
      "metadata": {
        "id": "AFEkkfX47GBJ"
      },
      "execution_count": 11,
      "outputs": []
    },
    {
      "cell_type": "code",
      "source": [
        "import matplotlib.pyplot as plt"
      ],
      "metadata": {
        "id": "uFsHVe3_zmTr"
      },
      "execution_count": 13,
      "outputs": []
    },
    {
      "cell_type": "code",
      "source": [
        "n_classes = len(np.unique(y_train))"
      ],
      "metadata": {
        "id": "uXsCYi4H29Do"
      },
      "execution_count": 12,
      "outputs": []
    },
    {
      "cell_type": "code",
      "execution_count": 14,
      "source": [
        "from tensorflow import keras\n",
        "from tensorflow.keras import layers"
      ],
      "outputs": [],
      "metadata": {
        "id": "yVfuxlzu1bLG"
      }
    },
    {
      "cell_type": "code",
      "execution_count": 15,
      "source": [
        "def transformer_encoder(inputs, head_size, num_heads, ff_dim, dropout=0):\n",
        "    x = layers.LayerNormalization(epsilon=1e-6)(inputs)\n",
        "    x = layers.MultiHeadAttention(\n",
        "        key_dim=head_size, num_heads=num_heads, dropout=dropout\n",
        "    )(inputs, inputs)\n",
        "    x = layers.Dropout(rate=dropout)(x)\n",
        "    res = x + inputs\n",
        "\n",
        "    # Напишите Feed Forward блок \n",
        "    x = layers.Conv1D(filters=ff_dim, kernel_size=1, activation=\"relu\")(res)\n",
        "    x = layers.Dropout(dropout)(x)\n",
        "    x = layers.Conv1D(filters=inputs.shape[-1], kernel_size=1)(x)\n",
        "    x = layers.LayerNormalization(epsilon=1e-6)(x)\n",
        "    return x + res\n"
      ],
      "outputs": [],
      "metadata": {
        "id": "BlxYQeDA1bLH"
      }
    },
    {
      "cell_type": "code",
      "execution_count": 16,
      "source": [
        "def build_model(\n",
        "    input_shape,\n",
        "    head_size,\n",
        "    num_heads,\n",
        "    ff_dim,\n",
        "    num_transformer_blocks,\n",
        "    mlp_units,\n",
        "    dropout=0,\n",
        "    mlp_dropout=0,\n",
        "):\n",
        "    inputs = keras.Input(shape=input_shape)\n",
        "    x = inputs\n",
        "    for _ in range(num_transformer_blocks):\n",
        "        x = transformer_encoder(x, head_size, num_heads, ff_dim, dropout)\n",
        "\n",
        "    #уменьшим выходной тензор части «TransformerEncoder» до вектора признаков для каждой точки данных в текущем батчее\n",
        "    x = layers.GlobalAveragePooling1D(data_format=\"channels_first\")(x)\n",
        "    for dim in mlp_units:\n",
        "        x = layers.Dense(dim, activation=\"relu\")(x)\n",
        "        x = layers.Dropout(mlp_dropout)(x)\n",
        "    outputs = layers.Dense(n_classes, activation=\"softmax\")(x)\n",
        "    return keras.Model(inputs, outputs)\n"
      ],
      "outputs": [],
      "metadata": {
        "id": "9PEdYsU11bLI"
      }
    },
    {
      "cell_type": "code",
      "source": [
        "class_weight = {0: 1.,\n",
        "                1: 15.}"
      ],
      "metadata": {
        "id": "SC4V2iAkK1LS"
      },
      "execution_count": 17,
      "outputs": []
    },
    {
      "cell_type": "markdown",
      "source": [
        "## Обучите и оцените качетсво модели (10 баллов)"
      ],
      "metadata": {
        "id": "92pGY_IA1bLJ"
      }
    },
    {
      "cell_type": "code",
      "execution_count": 19,
      "source": [
        "input_shape = x_train.shape[1:]\n",
        "\n",
        "model = build_model(\n",
        "    input_shape,\n",
        "    head_size=32,\n",
        "    num_heads=4,\n",
        "    ff_dim=4,\n",
        "    num_transformer_blocks=1,\n",
        "    mlp_units=[128],\n",
        "    mlp_dropout=0.4,\n",
        "    dropout=0.25,\n",
        ")\n",
        "\n",
        "model.compile(\n",
        "    loss=\"sparse_categorical_crossentropy\",\n",
        "    optimizer=keras.optimizers.Adam(learning_rate=1e-3),\n",
        "    metrics=[\"sparse_categorical_accuracy\"],\n",
        ")\n",
        "model.summary()\n",
        "\n",
        "history = model.fit(\n",
        "    x_train,\n",
        "    y_train,\n",
        "    validation_data=(x_val, y_val),\n",
        "    epochs=10,\n",
        "    batch_size=256,\n",
        "    class_weight=class_weight\n",
        ")\n",
        "\n",
        "model.evaluate(x_test, y_test, verbose=1)"
      ],
      "outputs": [
        {
          "output_type": "stream",
          "name": "stdout",
          "text": [
            "Model: \"model_1\"\n",
            "__________________________________________________________________________________________________\n",
            " Layer (type)                   Output Shape         Param #     Connected to                     \n",
            "==================================================================================================\n",
            " input_2 (InputLayer)           [(None, 110, 1)]     0           []                               \n",
            "                                                                                                  \n",
            " multi_head_attention_1 (MultiH  (None, 110, 1)      897         ['input_2[0][0]',                \n",
            " eadAttention)                                                    'input_2[0][0]']                \n",
            "                                                                                                  \n",
            " dropout_3 (Dropout)            (None, 110, 1)       0           ['multi_head_attention_1[0][0]'] \n",
            "                                                                                                  \n",
            " tf.__operators__.add_2 (TFOpLa  (None, 110, 1)      0           ['dropout_3[0][0]',              \n",
            " mbda)                                                            'input_2[0][0]']                \n",
            "                                                                                                  \n",
            " conv1d_2 (Conv1D)              (None, 110, 4)       8           ['tf.__operators__.add_2[0][0]'] \n",
            "                                                                                                  \n",
            " dropout_4 (Dropout)            (None, 110, 4)       0           ['conv1d_2[0][0]']               \n",
            "                                                                                                  \n",
            " conv1d_3 (Conv1D)              (None, 110, 1)       5           ['dropout_4[0][0]']              \n",
            "                                                                                                  \n",
            " layer_normalization_3 (LayerNo  (None, 110, 1)      2           ['conv1d_3[0][0]']               \n",
            " rmalization)                                                                                     \n",
            "                                                                                                  \n",
            " tf.__operators__.add_3 (TFOpLa  (None, 110, 1)      0           ['layer_normalization_3[0][0]',  \n",
            " mbda)                                                            'tf.__operators__.add_2[0][0]'] \n",
            "                                                                                                  \n",
            " global_average_pooling1d_1 (Gl  (None, 110)         0           ['tf.__operators__.add_3[0][0]'] \n",
            " obalAveragePooling1D)                                                                            \n",
            "                                                                                                  \n",
            " dense_2 (Dense)                (None, 128)          14208       ['global_average_pooling1d_1[0][0\n",
            "                                                                 ]']                              \n",
            "                                                                                                  \n",
            " dropout_5 (Dropout)            (None, 128)          0           ['dense_2[0][0]']                \n",
            "                                                                                                  \n",
            " dense_3 (Dense)                (None, 2)            258         ['dropout_5[0][0]']              \n",
            "                                                                                                  \n",
            "==================================================================================================\n",
            "Total params: 15,378\n",
            "Trainable params: 15,378\n",
            "Non-trainable params: 0\n",
            "__________________________________________________________________________________________________\n",
            "Epoch 1/10\n",
            "469/469 [==============================] - 199s 422ms/step - loss: 0.2653 - sparse_categorical_accuracy: 0.9641 - val_loss: 0.0302 - val_sparse_categorical_accuracy: 0.9909\n",
            "Epoch 2/10\n",
            "469/469 [==============================] - 197s 419ms/step - loss: 0.2078 - sparse_categorical_accuracy: 0.9714 - val_loss: 0.0559 - val_sparse_categorical_accuracy: 0.9866\n",
            "Epoch 3/10\n",
            "469/469 [==============================] - 200s 428ms/step - loss: 0.1949 - sparse_categorical_accuracy: 0.9734 - val_loss: 0.0338 - val_sparse_categorical_accuracy: 0.9900\n",
            "Epoch 4/10\n",
            "469/469 [==============================] - 198s 422ms/step - loss: 0.1880 - sparse_categorical_accuracy: 0.9721 - val_loss: 0.0343 - val_sparse_categorical_accuracy: 0.9904\n",
            "Epoch 5/10\n",
            "469/469 [==============================] - 198s 422ms/step - loss: 0.1794 - sparse_categorical_accuracy: 0.9723 - val_loss: 0.0298 - val_sparse_categorical_accuracy: 0.9913\n",
            "Epoch 6/10\n",
            "469/469 [==============================] - 198s 422ms/step - loss: 0.1783 - sparse_categorical_accuracy: 0.9727 - val_loss: 0.0525 - val_sparse_categorical_accuracy: 0.9871\n",
            "Epoch 7/10\n",
            "469/469 [==============================] - 198s 423ms/step - loss: 0.1670 - sparse_categorical_accuracy: 0.9732 - val_loss: 0.0306 - val_sparse_categorical_accuracy: 0.9905\n",
            "Epoch 8/10\n",
            "469/469 [==============================] - 201s 429ms/step - loss: 0.1603 - sparse_categorical_accuracy: 0.9732 - val_loss: 0.0274 - val_sparse_categorical_accuracy: 0.9907\n",
            "Epoch 9/10\n",
            "469/469 [==============================] - 199s 424ms/step - loss: 0.1554 - sparse_categorical_accuracy: 0.9728 - val_loss: 0.0667 - val_sparse_categorical_accuracy: 0.9854\n",
            "Epoch 10/10\n",
            "469/469 [==============================] - 198s 422ms/step - loss: 0.1506 - sparse_categorical_accuracy: 0.9721 - val_loss: 0.0458 - val_sparse_categorical_accuracy: 0.9882\n",
            "625/625 [==============================] - 12s 19ms/step - loss: 1.1467 - sparse_categorical_accuracy: 0.7834\n"
          ]
        },
        {
          "output_type": "execute_result",
          "data": {
            "text/plain": [
              "[1.1466717720031738, 0.7833999991416931]"
            ]
          },
          "metadata": {},
          "execution_count": 19
        }
      ],
      "metadata": {
        "id": "iPSaxmUh1bLJ",
        "colab": {
          "base_uri": "https://localhost:8080/"
        },
        "outputId": "5b21ef9d-0702-4000-a2c0-37d28a67298d"
      }
    },
    {
      "cell_type": "code",
      "source": [
        "metric = \"loss\"\n",
        "plt.figure(figsize=(10,10))\n",
        "plt.plot(history.history[metric])\n",
        "plt.plot(history.history[\"val_\" + metric])\n",
        "plt.title(\"model \" + metric)\n",
        "plt.ylabel(metric, fontsize=\"large\")\n",
        "plt.xlabel(\"epoch\", fontsize=\"large\")\n",
        "plt.legend([\"train\", \"val\"], loc=\"best\")\n",
        "plt.show()\n",
        "plt.close()"
      ],
      "metadata": {
        "colab": {
          "base_uri": "https://localhost:8080/",
          "height": 646
        },
        "id": "MBS0MjiQtHeX",
        "outputId": "b7a5b919-22f5-4468-9873-41ec7046edd3"
      },
      "execution_count": 20,
      "outputs": [
        {
          "output_type": "display_data",
          "data": {
            "text/plain": [
              "<Figure size 720x720 with 1 Axes>"
            ],
            "image/png": "[encoded data removed]"
          },
          "metadata": {}
        }
      ]
    },
    {
      "cell_type": "code",
      "source": [
        "test_preds = model.predict(x_test)\n",
        "preds_lstm = pd.DataFrame(y_test, index = test.index, columns=['true'])\n",
        "preds_lstm['pred'] = test_preds.T[1]\n",
        "\n",
        "preds_lstm.iloc[7000:8500].plot()"
      ],
      "metadata": {
        "colab": {
          "base_uri": "https://localhost:8080/",
          "height": 443
        },
        "id": "SaOC-T2c-59E",
        "outputId": "5b71dbde-aaaa-40dc-8d68-8aea6fdac5e5"
      },
      "execution_count": 21,
      "outputs": [
        {
          "output_type": "stream",
          "name": "stdout",
          "text": [
            "625/625 [==============================] - 12s 18ms/step\n"
          ]
        },
        {
          "output_type": "execute_result",
          "data": {
            "text/plain": [
              "<matplotlib.axes._subplots.AxesSubplot at 0x7fdcf5dca2e0>"
            ]
          },
          "metadata": {},
          "execution_count": 21
        },
        {
          "output_type": "display_data",
          "data": {
            "text/plain": [
              "<Figure size 1152x432 with 1 Axes>"
            ],
            "image/png": "[encoded data removed]"
          },
          "metadata": {}
        }
      ]
    },
    {
      "cell_type": "code",
      "source": [
        "preds_lstm.iloc[7500:8500].plot()"
      ],
      "metadata": {
        "colab": {
          "base_uri": "https://localhost:8080/",
          "height": 426
        },
        "id": "pKRtBX2XxzEc",
        "outputId": "fccd7961-f969-4f1f-eb57-d9d8d044d5e6"
      },
      "execution_count": null,
      "outputs": [
        {
          "output_type": "execute_result",
          "data": {
            "text/plain": [
              "<matplotlib.axes._subplots.AxesSubplot at 0x7f3cfc356850>"
            ]
          },
          "metadata": {},
          "execution_count": 62
        },
        {
          "output_type": "display_data",
          "data": {
            "text/plain": [
              "<Figure size 1152x432 with 1 Axes>"
            ],
            "image/png": "[encoded data removed]"
          },
          "metadata": {}
        }
      ]
    },
    {
      "cell_type": "code",
      "source": [
        "test"
      ],
      "metadata": {
        "colab": {
          "base_uri": "https://localhost:8080/",
          "height": 684
        },
        "id": "2oQpi2wvxFDc",
        "outputId": "26a0ddef-17e3-40e3-e9bc-59c930fe3291"
      },
      "execution_count": null,
      "outputs": [
        {
          "output_type": "execute_result",
          "data": {
            "text/plain": [
              "                        PCA_0     PCA_1     PCA_2     PCA_3     PCA_4  \\\n",
              "timestamp                                                               \n",
              "2018-06-23 08:14:00  0.196559  0.333614  0.435821  0.302360  0.401465   \n",
              "2018-06-23 08:15:00  0.200693  0.326888  0.412697  0.300746  0.395844   \n",
              "2018-06-23 08:16:00  0.194351  0.344711  0.434190  0.307154  0.380991   \n",
              "2018-06-23 08:17:00  0.199315  0.342646  0.422148  0.291395  0.381914   \n",
              "2018-06-23 08:18:00  0.196334  0.363746  0.421672  0.308661  0.378870   \n",
              "...                       ...       ...       ...       ...       ...   \n",
              "2018-07-07 05:30:00  0.157150  0.492561  0.395781  0.408538  0.459174   \n",
              "2018-07-07 05:31:00  0.143832  0.507685  0.449054  0.469808  0.443027   \n",
              "2018-07-07 05:32:00  0.138489  0.514237  0.457608  0.478815  0.439580   \n",
              "2018-07-07 05:33:00  0.136420  0.516066  0.472716  0.488957  0.429822   \n",
              "2018-07-07 05:34:00  0.146671  0.505261  0.440202  0.461732  0.443569   \n",
              "\n",
              "                        PCA_5     PCA_6     PCA_7     PCA_8     PCA_9  ...  \\\n",
              "timestamp                                                              ...   \n",
              "2018-06-23 08:14:00  0.420734  0.356439  0.365945  0.448455  0.376580  ...   \n",
              "2018-06-23 08:15:00  0.431515  0.375829  0.355006  0.432893  0.397772  ...   \n",
              "2018-06-23 08:16:00  0.430477  0.389109  0.367363  0.451531  0.383617  ...   \n",
              "2018-06-23 08:17:00  0.433993  0.386110  0.363610  0.442881  0.377382  ...   \n",
              "2018-06-23 08:18:00  0.398731  0.379951  0.371999  0.444933  0.390828  ...   \n",
              "...                       ...       ...       ...       ...       ...  ...   \n",
              "2018-07-07 05:30:00  0.524333  0.336279  0.290872  0.402898  0.482540  ...   \n",
              "2018-07-07 05:31:00  0.543052  0.341166  0.309771  0.441663  0.449474  ...   \n",
              "2018-07-07 05:32:00  0.548605  0.355011  0.306189  0.436388  0.452072  ...   \n",
              "2018-07-07 05:33:00  0.558928  0.345458  0.313738  0.450230  0.439099  ...   \n",
              "2018-07-07 05:34:00  0.556839  0.351453  0.303398  0.434255  0.457532  ...   \n",
              "\n",
              "                      PCA_9_1   PCA_9_2   PCA_9_3   PCA_9_4   PCA_9_5  \\\n",
              "timestamp                                                               \n",
              "2018-06-23 08:14:00  0.363080  0.395115  0.352420  0.371191  0.369063   \n",
              "2018-06-23 08:15:00  0.376580  0.363080  0.395115  0.352420  0.371191   \n",
              "2018-06-23 08:16:00  0.397772  0.376580  0.363080  0.395115  0.352420   \n",
              "2018-06-23 08:17:00  0.383617  0.397772  0.376580  0.363080  0.395115   \n",
              "2018-06-23 08:18:00  0.377382  0.383617  0.397772  0.376580  0.363080   \n",
              "...                       ...       ...       ...       ...       ...   \n",
              "2018-07-07 05:30:00  0.486731  0.477286  0.474257  0.488590  0.483566   \n",
              "2018-07-07 05:31:00  0.482540  0.486731  0.477286  0.474257  0.488590   \n",
              "2018-07-07 05:32:00  0.449474  0.482540  0.486731  0.477286  0.474257   \n",
              "2018-07-07 05:33:00  0.452072  0.449474  0.482540  0.486731  0.477286   \n",
              "2018-07-07 05:34:00  0.439099  0.452072  0.449474  0.482540  0.486731   \n",
              "\n",
              "                      PCA_9_6   PCA_9_7   PCA_9_8   PCA_9_9  PCA_9_10  \n",
              "timestamp                                                              \n",
              "2018-06-23 08:14:00  0.342187  0.376342  0.392006  0.393938  0.382040  \n",
              "2018-06-23 08:15:00  0.369063  0.342187  0.376342  0.392006  0.393938  \n",
              "2018-06-23 08:16:00  0.371191  0.369063  0.342187  0.376342  0.392006  \n",
              "2018-06-23 08:17:00  0.352420  0.371191  0.369063  0.342187  0.376342  \n",
              "2018-06-23 08:18:00  0.395115  0.352420  0.371191  0.369063  0.342187  \n",
              "...                       ...       ...       ...       ...       ...  \n",
              "2018-07-07 05:30:00  0.478601  0.476500  0.462013  0.478969  0.475641  \n",
              "2018-07-07 05:31:00  0.483566  0.478601  0.476500  0.462013  0.478969  \n",
              "2018-07-07 05:32:00  0.488590  0.483566  0.478601  0.476500  0.462013  \n",
              "2018-07-07 05:33:00  0.474257  0.488590  0.483566  0.478601  0.476500  \n",
              "2018-07-07 05:34:00  0.477286  0.474257  0.488590  0.483566  0.478601  \n",
              "\n",
              "[20000 rows x 111 columns]"
            ],
            "text/html": [
              "\n",
              "  <div id=\"df-99a49e1a-022e-4c35-83cb-d9b3e1e293bc\">\n",
              "    <div class=\"colab-df-container\">\n",
              "      <div>\n",
              "<style scoped>\n",
              "    .dataframe tbody tr th:only-of-type {\n",
              "        vertical-align: middle;\n",
              "    }\n",
              "\n",
              "    .dataframe tbody tr th {\n",
              "        vertical-align: top;\n",
              "    }\n",
              "\n",
              "    .dataframe thead th {\n",
              "        text-align: right;\n",
              "    }\n",
              "</style>\n",
              "<table border=\"1\" class=\"dataframe\">\n",
              "  <thead>\n",
              "    <tr style=\"text-align: right;\">\n",
              "      <th></th>\n",
              "      <th>PCA_0</th>\n",
              "      <th>PCA_1</th>\n",
              "      <th>PCA_2</th>\n",
              "      <th>PCA_3</th>\n",
              "      <th>PCA_4</th>\n",
              "      <th>PCA_5</th>\n",
              "      <th>PCA_6</th>\n",
              "      <th>PCA_7</th>\n",
              "      <th>PCA_8</th>\n",
              "      <th>PCA_9</th>\n",
              "      <th>...</th>\n",
              "      <th>PCA_9_1</th>\n",
              "      <th>PCA_9_2</th>\n",
              "      <th>PCA_9_3</th>\n",
              "      <th>PCA_9_4</th>\n",
              "      <th>PCA_9_5</th>\n",
              "      <th>PCA_9_6</th>\n",
              "      <th>PCA_9_7</th>\n",
              "      <th>PCA_9_8</th>\n",
              "      <th>PCA_9_9</th>\n",
              "      <th>PCA_9_10</th>\n",
              "    </tr>\n",
              "    <tr>\n",
              "      <th>timestamp</th>\n",
              "      <th></th>\n",
              "      <th></th>\n",
              "      <th></th>\n",
              "      <th></th>\n",
              "      <th></th>\n",
              "      <th></th>\n",
              "      <th></th>\n",
              "      <th></th>\n",
              "      <th></th>\n",
              "      <th></th>\n",
              "      <th></th>\n",
              "      <th></th>\n",
              "      <th></th>\n",
              "      <th></th>\n",
              "      <th></th>\n",
              "      <th></th>\n",
              "      <th></th>\n",
              "      <th></th>\n",
              "      <th></th>\n",
              "      <th></th>\n",
              "      <th></th>\n",
              "    </tr>\n",
              "  </thead>\n",
              "  <tbody>\n",
              "    <tr>\n",
              "      <th>2018-06-23 08:14:00</th>\n",
              "      <td>0.196559</td>\n",
              "      <td>0.333614</td>\n",
              "      <td>0.435821</td>\n",
              "      <td>0.302360</td>\n",
              "      <td>0.401465</td>\n",
              "      <td>0.420734</td>\n",
              "      <td>0.356439</td>\n",
              "      <td>0.365945</td>\n",
              "      <td>0.448455</td>\n",
              "      <td>0.376580</td>\n",
              "      <td>...</td>\n",
              "      <td>0.363080</td>\n",
              "      <td>0.395115</td>\n",
              "      <td>0.352420</td>\n",
              "      <td>0.371191</td>\n",
              "      <td>0.369063</td>\n",
              "      <td>0.342187</td>\n",
              "      <td>0.376342</td>\n",
              "      <td>0.392006</td>\n",
              "      <td>0.393938</td>\n",
              "      <td>0.382040</td>\n",
              "    </tr>\n",
              "    <tr>\n",
              "      <th>2018-06-23 08:15:00</th>\n",
              "      <td>0.200693</td>\n",
              "      <td>0.326888</td>\n",
              "      <td>0.412697</td>\n",
              "      <td>0.300746</td>\n",
              "      <td>0.395844</td>\n",
              "      <td>0.431515</td>\n",
              "      <td>0.375829</td>\n",
              "      <td>0.355006</td>\n",
              "      <td>0.432893</td>\n",
              "      <td>0.397772</td>\n",
              "      <td>...</td>\n",
              "      <td>0.376580</td>\n",
              "      <td>0.363080</td>\n",
              "      <td>0.395115</td>\n",
              "      <td>0.352420</td>\n",
              "      <td>0.371191</td>\n",
              "      <td>0.369063</td>\n",
              "      <td>0.342187</td>\n",
              "      <td>0.376342</td>\n",
              "      <td>0.392006</td>\n",
              "      <td>0.393938</td>\n",
              "    </tr>\n",
              "    <tr>\n",
              "      <th>2018-06-23 08:16:00</th>\n",
              "      <td>0.194351</td>\n",
              "      <td>0.344711</td>\n",
              "      <td>0.434190</td>\n",
              "      <td>0.307154</td>\n",
              "      <td>0.380991</td>\n",
              "      <td>0.430477</td>\n",
              "      <td>0.389109</td>\n",
              "      <td>0.367363</td>\n",
              "      <td>0.451531</td>\n",
              "      <td>0.383617</td>\n",
              "      <td>...</td>\n",
              "      <td>0.397772</td>\n",
              "      <td>0.376580</td>\n",
              "      <td>0.363080</td>\n",
              "      <td>0.395115</td>\n",
              "      <td>0.352420</td>\n",
              "      <td>0.371191</td>\n",
              "      <td>0.369063</td>\n",
              "      <td>0.342187</td>\n",
              "      <td>0.376342</td>\n",
              "      <td>0.392006</td>\n",
              "    </tr>\n",
              "    <tr>\n",
              "      <th>2018-06-23 08:17:00</th>\n",
              "      <td>0.199315</td>\n",
              "      <td>0.342646</td>\n",
              "      <td>0.422148</td>\n",
              "      <td>0.291395</td>\n",
              "      <td>0.381914</td>\n",
              "      <td>0.433993</td>\n",
              "      <td>0.386110</td>\n",
              "      <td>0.363610</td>\n",
              "      <td>0.442881</td>\n",
              "      <td>0.377382</td>\n",
              "      <td>...</td>\n",
              "      <td>0.383617</td>\n",
              "      <td>0.397772</td>\n",
              "      <td>0.376580</td>\n",
              "      <td>0.363080</td>\n",
              "      <td>0.395115</td>\n",
              "      <td>0.352420</td>\n",
              "      <td>0.371191</td>\n",
              "      <td>0.369063</td>\n",
              "      <td>0.342187</td>\n",
              "      <td>0.376342</td>\n",
              "    </tr>\n",
              "    <tr>\n",
              "      <th>2018-06-23 08:18:00</th>\n",
              "      <td>0.196334</td>\n",
              "      <td>0.363746</td>\n",
              "      <td>0.421672</td>\n",
              "      <td>0.308661</td>\n",
              "      <td>0.378870</td>\n",
              "      <td>0.398731</td>\n",
              "      <td>0.379951</td>\n",
              "      <td>0.371999</td>\n",
              "      <td>0.444933</td>\n",
              "      <td>0.390828</td>\n",
              "      <td>...</td>\n",
              "      <td>0.377382</td>\n",
              "      <td>0.383617</td>\n",
              "      <td>0.397772</td>\n",
              "      <td>0.376580</td>\n",
              "      <td>0.363080</td>\n",
              "      <td>0.395115</td>\n",
              "      <td>0.352420</td>\n",
              "      <td>0.371191</td>\n",
              "      <td>0.369063</td>\n",
              "      <td>0.342187</td>\n",
              "    </tr>\n",
              "    <tr>\n",
              "      <th>...</th>\n",
              "      <td>...</td>\n",
              "      <td>...</td>\n",
              "      <td>...</td>\n",
              "      <td>...</td>\n",
              "      <td>...</td>\n",
              "      <td>...</td>\n",
              "      <td>...</td>\n",
              "      <td>...</td>\n",
              "      <td>...</td>\n",
              "      <td>...</td>\n",
              "      <td>...</td>\n",
              "      <td>...</td>\n",
              "      <td>...</td>\n",
              "      <td>...</td>\n",
              "      <td>...</td>\n",
              "      <td>...</td>\n",
              "      <td>...</td>\n",
              "      <td>...</td>\n",
              "      <td>...</td>\n",
              "      <td>...</td>\n",
              "      <td>...</td>\n",
              "    </tr>\n",
              "    <tr>\n",
              "      <th>2018-07-07 05:30:00</th>\n",
              "      <td>0.157150</td>\n",
              "      <td>0.492561</td>\n",
              "      <td>0.395781</td>\n",
              "      <td>0.408538</td>\n",
              "      <td>0.459174</td>\n",
              "      <td>0.524333</td>\n",
              "      <td>0.336279</td>\n",
              "      <td>0.290872</td>\n",
              "      <td>0.402898</td>\n",
              "      <td>0.482540</td>\n",
              "      <td>...</td>\n",
              "      <td>0.486731</td>\n",
              "      <td>0.477286</td>\n",
              "      <td>0.474257</td>\n",
              "      <td>0.488590</td>\n",
              "      <td>0.483566</td>\n",
              "      <td>0.478601</td>\n",
              "      <td>0.476500</td>\n",
              "      <td>0.462013</td>\n",
              "      <td>0.478969</td>\n",
              "      <td>0.475641</td>\n",
              "    </tr>\n",
              "    <tr>\n",
              "      <th>2018-07-07 05:31:00</th>\n",
              "      <td>0.143832</td>\n",
              "      <td>0.507685</td>\n",
              "      <td>0.449054</td>\n",
              "      <td>0.469808</td>\n",
              "      <td>0.443027</td>\n",
              "      <td>0.543052</td>\n",
              "      <td>0.341166</td>\n",
              "      <td>0.309771</td>\n",
              "      <td>0.441663</td>\n",
              "      <td>0.449474</td>\n",
              "      <td>...</td>\n",
              "      <td>0.482540</td>\n",
              "      <td>0.486731</td>\n",
              "      <td>0.477286</td>\n",
              "      <td>0.474257</td>\n",
              "      <td>0.488590</td>\n",
              "      <td>0.483566</td>\n",
              "      <td>0.478601</td>\n",
              "      <td>0.476500</td>\n",
              "      <td>0.462013</td>\n",
              "      <td>0.478969</td>\n",
              "    </tr>\n",
              "    <tr>\n",
              "      <th>2018-07-07 05:32:00</th>\n",
              "      <td>0.138489</td>\n",
              "      <td>0.514237</td>\n",
              "      <td>0.457608</td>\n",
              "      <td>0.478815</td>\n",
              "      <td>0.439580</td>\n",
              "      <td>0.548605</td>\n",
              "      <td>0.355011</td>\n",
              "      <td>0.306189</td>\n",
              "      <td>0.436388</td>\n",
              "      <td>0.452072</td>\n",
              "      <td>...</td>\n",
              "      <td>0.449474</td>\n",
              "      <td>0.482540</td>\n",
              "      <td>0.486731</td>\n",
              "      <td>0.477286</td>\n",
              "      <td>0.474257</td>\n",
              "      <td>0.488590</td>\n",
              "      <td>0.483566</td>\n",
              "      <td>0.478601</td>\n",
              "      <td>0.476500</td>\n",
              "      <td>0.462013</td>\n",
              "    </tr>\n",
              "    <tr>\n",
              "      <th>2018-07-07 05:33:00</th>\n",
              "      <td>0.136420</td>\n",
              "      <td>0.516066</td>\n",
              "      <td>0.472716</td>\n",
              "      <td>0.488957</td>\n",
              "      <td>0.429822</td>\n",
              "      <td>0.558928</td>\n",
              "      <td>0.345458</td>\n",
              "      <td>0.313738</td>\n",
              "      <td>0.450230</td>\n",
              "      <td>0.439099</td>\n",
              "      <td>...</td>\n",
              "      <td>0.452072</td>\n",
              "      <td>0.449474</td>\n",
              "      <td>0.482540</td>\n",
              "      <td>0.486731</td>\n",
              "      <td>0.477286</td>\n",
              "      <td>0.474257</td>\n",
              "      <td>0.488590</td>\n",
              "      <td>0.483566</td>\n",
              "      <td>0.478601</td>\n",
              "      <td>0.476500</td>\n",
              "    </tr>\n",
              "    <tr>\n",
              "      <th>2018-07-07 05:34:00</th>\n",
              "      <td>0.146671</td>\n",
              "      <td>0.505261</td>\n",
              "      <td>0.440202</td>\n",
              "      <td>0.461732</td>\n",
              "      <td>0.443569</td>\n",
              "      <td>0.556839</td>\n",
              "      <td>0.351453</td>\n",
              "      <td>0.303398</td>\n",
              "      <td>0.434255</td>\n",
              "      <td>0.457532</td>\n",
              "      <td>...</td>\n",
              "      <td>0.439099</td>\n",
              "      <td>0.452072</td>\n",
              "      <td>0.449474</td>\n",
              "      <td>0.482540</td>\n",
              "      <td>0.486731</td>\n",
              "      <td>0.477286</td>\n",
              "      <td>0.474257</td>\n",
              "      <td>0.488590</td>\n",
              "      <td>0.483566</td>\n",
              "      <td>0.478601</td>\n",
              "    </tr>\n",
              "  </tbody>\n",
              "</table>\n",
              "<p>20000 rows × 111 columns</p>\n",
              "</div>\n",
              "      <button class=\"colab-df-convert\" onclick=\"convertToInteractive('df-99a49e1a-022e-4c35-83cb-d9b3e1e293bc')\"\n",
              "              title=\"Convert this dataframe to an interactive table.\"\n",
              "              style=\"display:none;\">\n",
              "        \n",
              "  <svg xmlns=\"http://www.w3.org/2000/svg\" height=\"24px\"viewBox=\"0 0 24 24\"\n",
              "       width=\"24px\">\n",
              "    <path d=\"M0 0h24v24H0V0z\" fill=\"none\"/>\n",
              "    <path d=\"M18.56 5.44l.94 2.06.94-2.06 2.06-.94-2.06-.94-.94-2.06-.94 2.06-2.06.94zm-11 1L8.5 8.5l.94-2.06 2.06-.94-2.06-.94L8.5 2.5l-.94 2.06-2.06.94zm10 10l.94 2.06.94-2.06 2.06-.94-2.06-.94-.94-2.06-.94 2.06-2.06.94z\"/><path d=\"M17.41 7.96l-1.37-1.37c-.4-.4-.92-.59-1.43-.59-.52 0-1.04.2-1.43.59L10.3 9.45l-7.72 7.72c-.78.78-.78 2.05 0 2.83L4 21.41c.39.39.9.59 1.41.59.51 0 1.02-.2 1.41-.59l7.78-7.78 2.81-2.81c.8-.78.8-2.07 0-2.86zM5.41 20L4 18.59l7.72-7.72 1.47 1.35L5.41 20z\"/>\n",
              "  </svg>\n",
              "      </button>\n",
              "      \n",
              "  <style>\n",
              "    .colab-df-container {\n",
              "      display:flex;\n",
              "      flex-wrap:wrap;\n",
              "      gap: 12px;\n",
              "    }\n",
              "\n",
              "    .colab-df-convert {\n",
              "      background-color: #E8F0FE;\n",
              "      border: none;\n",
              "      border-radius: 50%;\n",
              "      cursor: pointer;\n",
              "      display: none;\n",
              "      fill: #1967D2;\n",
              "      height: 32px;\n",
              "      padding: 0 0 0 0;\n",
              "      width: 32px;\n",
              "    }\n",
              "\n",
              "    .colab-df-convert:hover {\n",
              "      background-color: #E2EBFA;\n",
              "      box-shadow: 0px 1px 2px rgba(60, 64, 67, 0.3), 0px 1px 3px 1px rgba(60, 64, 67, 0.15);\n",
              "      fill: #174EA6;\n",
              "    }\n",
              "\n",
              "    [theme=dark] .colab-df-convert {\n",
              "      background-color: #3B4455;\n",
              "      fill: #D2E3FC;\n",
              "    }\n",
              "\n",
              "    [theme=dark] .colab-df-convert:hover {\n",
              "      background-color: #434B5C;\n",
              "      box-shadow: 0px 1px 3px 1px rgba(0, 0, 0, 0.15);\n",
              "      filter: drop-shadow(0px 1px 2px rgba(0, 0, 0, 0.3));\n",
              "      fill: #FFFFFF;\n",
              "    }\n",
              "  </style>\n",
              "\n",
              "      <script>\n",
              "        const buttonEl =\n",
              "          document.querySelector('#df-99a49e1a-022e-4c35-83cb-d9b3e1e293bc button.colab-df-convert');\n",
              "        buttonEl.style.display =\n",
              "          google.colab.kernel.accessAllowed ? 'block' : 'none';\n",
              "\n",
              "        async function convertToInteractive(key) {\n",
              "          const element = document.querySelector('#df-99a49e1a-022e-4c35-83cb-d9b3e1e293bc');\n",
              "          const dataTable =\n",
              "            await google.colab.kernel.invokeFunction('convertToInteractive',\n",
              "                                                     [key], {});\n",
              "          if (!dataTable) return;\n",
              "\n",
              "          const docLinkHtml = 'Like what you see? Visit the ' +\n",
              "            '<a target=\"_blank\" href=https://colab.research.google.com/notebooks/data_table.ipynb>data table notebook</a>'\n",
              "            + ' to learn more about interactive tables.';\n",
              "          element.innerHTML = '';\n",
              "          dataTable['output_type'] = 'display_data';\n",
              "          await google.colab.output.renderOutput(dataTable, element);\n",
              "          const docLink = document.createElement('div');\n",
              "          docLink.innerHTML = docLinkHtml;\n",
              "          element.appendChild(docLink);\n",
              "        }\n",
              "      </script>\n",
              "    </div>\n",
              "  </div>\n",
              "  "
            ]
          },
          "metadata": {},
          "execution_count": 55
        }
      ]
    },
    {
      "cell_type": "code",
      "source": [
        "train_preds = model.predict(x_train)\n",
        "\n",
        "plt.plot(y_train)\n",
        "plt.plot(train_preds.T[1])"
      ],
      "metadata": {
        "colab": {
          "base_uri": "https://localhost:8080/",
          "height": 419
        },
        "id": "r1pGW8o2A_u5",
        "outputId": "56323d1c-5597-4d24-d5c6-7bf207597ef8"
      },
      "execution_count": null,
      "outputs": [
        {
          "output_type": "stream",
          "name": "stdout",
          "text": [
            "3750/3750 [==============================] - 8s 2ms/step\n"
          ]
        },
        {
          "output_type": "execute_result",
          "data": {
            "text/plain": [
              "[<matplotlib.lines.Line2D at 0x7f3cfc602dc0>]"
            ]
          },
          "metadata": {},
          "execution_count": 51
        },
        {
          "output_type": "display_data",
          "data": {
            "text/plain": [
              "<Figure size 1152x432 with 1 Axes>"
            ],
            "image/png": "[encoded data removed]"
          },
          "metadata": {}
        }
      ]
    }
  ],
  "metadata": {
    "colab": {
      "provenance": []
    },
    "kernelspec": {
      "display_name": "Python 3",
      "language": "python",
      "name": "python3"
    },
    "language_info": {
      "codemirror_mode": {
        "name": "ipython",
        "version": 3
      },
      "file_extension": ".py",
      "mimetype": "text/x-python",
      "name": "python",
      "nbconvert_exporter": "python",
      "pygments_lexer": "ipython3",
      "version": "3.7.0"
    },
    "gpuClass": "standard"
  },
  "nbformat": 4,
  "nbformat_minor": 0
}