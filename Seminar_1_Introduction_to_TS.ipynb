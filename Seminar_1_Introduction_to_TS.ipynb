{
  "nbformat": 4,
  "nbformat_minor": 0,
  "metadata": {
    "kernelspec": {
      "display_name": "Python 3",
      "language": "python",
      "name": "python3"
    },
    "language_info": {
      "codemirror_mode": {
        "name": "ipython",
        "version": 3
      },
      "file_extension": ".py",
      "mimetype": "text/x-python",
      "name": "python",
      "nbconvert_exporter": "python",
      "pygments_lexer": "ipython3",
      "version": "3.6.5"
    },
    "colab": {
      "provenance": [],
      "collapsed_sections": [
        "I7yqEF6KaLZT",
        "1_EzMRS2b2hg",
        "aStQb8ezYmwQ",
        "CtRBtQC2ckRT"
      ]
    }
  },
  "cells": [
    {
      "cell_type": "markdown",
      "metadata": {
        "id": "q6sGAP3GZwPh"
      },
      "source": [
        "# Введение\n",
        "## Анализ временных рядов нужен для...\n",
        "\n",
        "- сжатого **описание динамики** наблюдаемых процессов\n",
        "\n",
        "- интерпретации динамики и **оценки импульсного отклика**\n",
        "\n",
        "- **прогнозирования** и симулирования\n",
        "\n",
        "- для решения задач **оптимального управления**\n",
        "\n",
        "## Задача анализа временных рядов\n",
        "\n",
        "Построение модели временного ряда для *текущего значения*  переменной $y_t$\n",
        "\n",
        "* от её *предыстории* $y_{:t} = (y_{t-1}, y_{t-2}, \\ldots)$ - значений переменной в предыдущие моменты времени\n",
        "\n",
        "* *текущего значения* переменных $x_t$ (признаков объектов) и, возможно, *их предыстории* тоже\n",
        "\n",
        "\n",
        "$$\n",
        "    y_t \\approx \\text{модель}\\bigl( t,\\, y_{:t},\\, x_t,\\, x_{:t} \\bigr)\n",
        "\\,. $$\n",
        "\n",
        "<!-- Можно рассматривать задачи прогнозирования на несколько шагов вперёд от текущего значения, однако наиболее часто используется прогнозирование на один шаг вперёд. -->\n",
        "\n",
        "\n",
        "## Отличия от прочих задач машинного обучения\n",
        "\n",
        "* Данные последовательны:\n",
        "\n",
        "  - порядок **времени** нужно строго соблюдать, чтобы не нарушать причинность\n",
        "\n",
        "  * Большой упор на **экстраполяцию**, т.е. прогноз в будущее относительно имеющейся выборки\n",
        "\n",
        "  - <span style=\"color:red;\">**ВАЖНО**</span> убедиться, что <span style=\"color: red;\"> **нет \"утечки\" информации \"из будущего\"** </span> при генерации фичей и построении модели - то есть, что для предсказания в более позднем времени используются **только** прошлые данные\n",
        "\n",
        "  Поэтому признаки в модели могут зависеть только от\n",
        "* **эндогенных** переменных (целевой переменной) $y_{t-1}, y_{t-2}, \\ldots$, т.е. доступных на момент $t-1$ *включительно*;\n",
        "* **экзогенных** переменных (признаков) $x_t, x_{t-1}, \\ldots$, доступных на момент $t$ *включительно*."
      ]
    },
    {
      "cell_type": "markdown",
      "metadata": {
        "id": "I7yqEF6KaLZT"
      },
      "source": [
        "## Постановка задачи\n",
        "\n",
        "Сегодня мы рассмотрим обучающий пример - предсказание концентрации $CO_2$ в атмосфере. Тем не менее, подходы, рассмотренные в данной тетради применимы к реальным задачам предсказания временных рядов."
      ]
    },
    {
      "cell_type": "code",
      "metadata": {
        "id": "Goa2r9q6YmwG"
      },
      "source": [
        "import warnings\n",
        "warnings.filterwarnings(\"ignore\")\n",
        "# библиотека для работы с массивами чисел\n",
        "import numpy as np\n",
        "# библиотека для работы с csv файлами\n",
        "import pandas as pd\n",
        "# библиотека для отрисовки графиков\n",
        "%matplotlib inline\n",
        "import matplotlib.pyplot as plt"
      ],
      "execution_count": null,
      "outputs": []
    },
    {
      "cell_type": "markdown",
      "metadata": {
        "id": "1_EzMRS2b2hg"
      },
      "source": [
        "# 1. Загрузка данных\n"
      ]
    },
    {
      "cell_type": "markdown",
      "metadata": {
        "id": "lbFQnA68YmwK"
      },
      "source": [
        "Загрузим временной ряд концентрации $CO_2$ в атмосфере (основано на данных [отсюда](https://www.co2.earth/weekly-co2))"
      ]
    },
    {
      "cell_type": "code",
      "metadata": {
        "id": "t2EqQ0OjZF8Z"
      },
      "source": [
        "!wget https://www.dropbox.com/s/h9e3yw97w58x7qa/seminar4_time_series.zip --quiet"
      ],
      "execution_count": null,
      "outputs": []
    },
    {
      "cell_type": "code",
      "metadata": {
        "id": "74hP3RPwZT4i"
      },
      "source": [
        "from zipfile import ZipFile\n",
        "\n",
        "with ZipFile('seminar4_time_series.zip', 'r') as zipObj:\n",
        "   # Extract all the contents of zip file in current directory\n",
        "   zipObj.extractall()"
      ],
      "execution_count": null,
      "outputs": []
    },
    {
      "cell_type": "code",
      "metadata": {
        "id": "SICQxVyMYmwK"
      },
      "source": [
        "dataset = pd.read_csv(\"./data/mauna_loa_atmospheric_c02.csv\",\n",
        "                      index_col=None, usecols=[\"date\", \"WMLCO2\"])"
      ],
      "execution_count": null,
      "outputs": []
    },
    {
      "cell_type": "code",
      "metadata": {
        "scrolled": true,
        "colab": {
          "base_uri": "https://localhost:8080/",
          "height": 353
        },
        "id": "XfSYKQ-zYmwK",
        "outputId": "aaf45ec9-9a79-4479-e432-e66d7dd6a6b1"
      },
      "source": [
        "dataset.head()"
      ],
      "execution_count": null,
      "outputs": [
        {
          "output_type": "execute_result",
          "data": {
            "text/plain": [
              "         date  WMLCO2\n",
              "0  1958-03-29   316.1\n",
              "1  1958-04-05   317.3\n",
              "2  1958-04-12   317.6\n",
              "3  1958-04-19   317.5\n",
              "4  1958-04-26   316.4"
            ],
            "text/html": [
              "\n",
              "  <div id=\"df-6680b2ae-3c7a-45ae-a400-384f2e78cf47\">\n",
              "    <div class=\"colab-df-container\">\n",
              "      <div>\n",
              "<style scoped>\n",
              "    .dataframe tbody tr th:only-of-type {\n",
              "        vertical-align: middle;\n",
              "    }\n",
              "\n",
              "    .dataframe tbody tr th {\n",
              "        vertical-align: top;\n",
              "    }\n",
              "\n",
              "    .dataframe thead th {\n",
              "        text-align: right;\n",
              "    }\n",
              "</style>\n",
              "<table border=\"1\" class=\"dataframe\">\n",
              "  <thead>\n",
              "    <tr style=\"text-align: right;\">\n",
              "      <th></th>\n",
              "      <th>date</th>\n",
              "      <th>WMLCO2</th>\n",
              "    </tr>\n",
              "  </thead>\n",
              "  <tbody>\n",
              "    <tr>\n",
              "      <th>0</th>\n",
              "      <td>1958-03-29</td>\n",
              "      <td>316.1</td>\n",
              "    </tr>\n",
              "    <tr>\n",
              "      <th>1</th>\n",
              "      <td>1958-04-05</td>\n",
              "      <td>317.3</td>\n",
              "    </tr>\n",
              "    <tr>\n",
              "      <th>2</th>\n",
              "      <td>1958-04-12</td>\n",
              "      <td>317.6</td>\n",
              "    </tr>\n",
              "    <tr>\n",
              "      <th>3</th>\n",
              "      <td>1958-04-19</td>\n",
              "      <td>317.5</td>\n",
              "    </tr>\n",
              "    <tr>\n",
              "      <th>4</th>\n",
              "      <td>1958-04-26</td>\n",
              "      <td>316.4</td>\n",
              "    </tr>\n",
              "  </tbody>\n",
              "</table>\n",
              "</div>\n",
              "      <button class=\"colab-df-convert\" onclick=\"convertToInteractive('df-6680b2ae-3c7a-45ae-a400-384f2e78cf47')\"\n",
              "              title=\"Convert this dataframe to an interactive table.\"\n",
              "              style=\"display:none;\">\n",
              "        \n",
              "  <svg xmlns=\"http://www.w3.org/2000/svg\" height=\"24px\"viewBox=\"0 0 24 24\"\n",
              "       width=\"24px\">\n",
              "    <path d=\"M0 0h24v24H0V0z\" fill=\"none\"/>\n",
              "    <path d=\"M18.56 5.44l.94 2.06.94-2.06 2.06-.94-2.06-.94-.94-2.06-.94 2.06-2.06.94zm-11 1L8.5 8.5l.94-2.06 2.06-.94-2.06-.94L8.5 2.5l-.94 2.06-2.06.94zm10 10l.94 2.06.94-2.06 2.06-.94-2.06-.94-.94-2.06-.94 2.06-2.06.94z\"/><path d=\"M17.41 7.96l-1.37-1.37c-.4-.4-.92-.59-1.43-.59-.52 0-1.04.2-1.43.59L10.3 9.45l-7.72 7.72c-.78.78-.78 2.05 0 2.83L4 21.41c.39.39.9.59 1.41.59.51 0 1.02-.2 1.41-.59l7.78-7.78 2.81-2.81c.8-.78.8-2.07 0-2.86zM5.41 20L4 18.59l7.72-7.72 1.47 1.35L5.41 20z\"/>\n",
              "  </svg>\n",
              "      </button>\n",
              "      \n",
              "  <style>\n",
              "    .colab-df-container {\n",
              "      display:flex;\n",
              "      flex-wrap:wrap;\n",
              "      gap: 12px;\n",
              "    }\n",
              "\n",
              "    .colab-df-convert {\n",
              "      background-color: #E8F0FE;\n",
              "      border: none;\n",
              "      border-radius: 50%;\n",
              "      cursor: pointer;\n",
              "      display: none;\n",
              "      fill: #1967D2;\n",
              "      height: 32px;\n",
              "      padding: 0 0 0 0;\n",
              "      width: 32px;\n",
              "    }\n",
              "\n",
              "    .colab-df-convert:hover {\n",
              "      background-color: #E2EBFA;\n",
              "      box-shadow: 0px 1px 2px rgba(60, 64, 67, 0.3), 0px 1px 3px 1px rgba(60, 64, 67, 0.15);\n",
              "      fill: #174EA6;\n",
              "    }\n",
              "\n",
              "    [theme=dark] .colab-df-convert {\n",
              "      background-color: #3B4455;\n",
              "      fill: #D2E3FC;\n",
              "    }\n",
              "\n",
              "    [theme=dark] .colab-df-convert:hover {\n",
              "      background-color: #434B5C;\n",
              "      box-shadow: 0px 1px 3px 1px rgba(0, 0, 0, 0.15);\n",
              "      filter: drop-shadow(0px 1px 2px rgba(0, 0, 0, 0.3));\n",
              "      fill: #FFFFFF;\n",
              "    }\n",
              "  </style>\n",
              "\n",
              "      <script>\n",
              "        const buttonEl =\n",
              "          document.querySelector('#df-6680b2ae-3c7a-45ae-a400-384f2e78cf47 button.colab-df-convert');\n",
              "        buttonEl.style.display =\n",
              "          google.colab.kernel.accessAllowed ? 'block' : 'none';\n",
              "\n",
              "        async function convertToInteractive(key) {\n",
              "          const element = document.querySelector('#df-6680b2ae-3c7a-45ae-a400-384f2e78cf47');\n",
              "          const dataTable =\n",
              "            await google.colab.kernel.invokeFunction('convertToInteractive',\n",
              "                                                     [key], {});\n",
              "          if (!dataTable) return;\n",
              "\n",
              "          const docLinkHtml = 'Like what you see? Visit the ' +\n",
              "            '<a target=\"_blank\" href=https://colab.research.google.com/notebooks/data_table.ipynb>data table notebook</a>'\n",
              "            + ' to learn more about interactive tables.';\n",
              "          element.innerHTML = '';\n",
              "          dataTable['output_type'] = 'display_data';\n",
              "          await google.colab.output.renderOutput(dataTable, element);\n",
              "          const docLink = document.createElement('div');\n",
              "          docLink.innerHTML = docLinkHtml;\n",
              "          element.appendChild(docLink);\n",
              "        }\n",
              "      </script>\n",
              "    </div>\n",
              "  </div>\n",
              "  "
            ]
          },
          "metadata": {},
          "execution_count": 39
        }
      ]
    },
    {
      "cell_type": "markdown",
      "metadata": {
        "id": "efkY_pWwYmwL"
      },
      "source": [
        "При загрузке временного ряда в Pandas нужно явно указывать на необходимость\n",
        "превращения меток даты-времени из текстового в формат даты-времени.\n",
        "\n",
        "* Это можно также указать при вызове `pd.read_csv`"
      ]
    },
    {
      "cell_type": "code",
      "metadata": {
        "id": "wI8RdFSEYmwM"
      },
      "source": [
        "dataset[\"date\"] = pd.to_datetime(dataset[\"date\"], format=\"%Y-%m-%d\")"
      ],
      "execution_count": null,
      "outputs": []
    },
    {
      "cell_type": "markdown",
      "metadata": {
        "id": "fJ-fc9ntYmwM"
      },
      "source": [
        "Переименуем колонки"
      ]
    },
    {
      "cell_type": "code",
      "metadata": {
        "id": "lV453psoYmwM"
      },
      "source": [
        "dataset = dataset.rename(columns={\"date\": \"дата\", \"WMLCO2\": \"концентрация CO2\"})"
      ],
      "execution_count": null,
      "outputs": []
    },
    {
      "cell_type": "markdown",
      "metadata": {
        "id": "KUfacl1EYmwM"
      },
      "source": [
        "Создадим индекс для загруженных данных: это будет **еженедельный периодический индекс**\n",
        "\n",
        "У нас получатся данные с регулярной частотой"
      ]
    },
    {
      "cell_type": "code",
      "metadata": {
        "id": "SiUN5J4PYmwM"
      },
      "source": [
        "dataset = dataset.set_index(\"дата\").to_period(\"W\")"
      ],
      "execution_count": null,
      "outputs": []
    },
    {
      "cell_type": "code",
      "metadata": {
        "scrolled": true,
        "colab": {
          "base_uri": "https://localhost:8080/",
          "height": 571
        },
        "id": "yc0WZ57DYmwM",
        "outputId": "4f3365a5-f873-499f-d62f-ea26958701cd"
      },
      "source": [
        "dataset.head()"
      ],
      "execution_count": null,
      "outputs": [
        {
          "output_type": "execute_result",
          "data": {
            "text/plain": [
              "                       концентрация CO2\n",
              "дата                                   \n",
              "1958-03-24/1958-03-30             316.1\n",
              "1958-03-31/1958-04-06             317.3\n",
              "1958-04-07/1958-04-13             317.6\n",
              "1958-04-14/1958-04-20             317.5\n",
              "1958-04-21/1958-04-27             316.4"
            ],
            "text/html": [
              "\n",
              "  <div id=\"df-98e8c1e6-a903-4442-b11d-51b6d38f76b0\">\n",
              "    <div class=\"colab-df-container\">\n",
              "      <div>\n",
              "<style scoped>\n",
              "    .dataframe tbody tr th:only-of-type {\n",
              "        vertical-align: middle;\n",
              "    }\n",
              "\n",
              "    .dataframe tbody tr th {\n",
              "        vertical-align: top;\n",
              "    }\n",
              "\n",
              "    .dataframe thead th {\n",
              "        text-align: right;\n",
              "    }\n",
              "</style>\n",
              "<table border=\"1\" class=\"dataframe\">\n",
              "  <thead>\n",
              "    <tr style=\"text-align: right;\">\n",
              "      <th></th>\n",
              "      <th>концентрация CO2</th>\n",
              "    </tr>\n",
              "    <tr>\n",
              "      <th>дата</th>\n",
              "      <th></th>\n",
              "    </tr>\n",
              "  </thead>\n",
              "  <tbody>\n",
              "    <tr>\n",
              "      <th>1958-03-24/1958-03-30</th>\n",
              "      <td>316.1</td>\n",
              "    </tr>\n",
              "    <tr>\n",
              "      <th>1958-03-31/1958-04-06</th>\n",
              "      <td>317.3</td>\n",
              "    </tr>\n",
              "    <tr>\n",
              "      <th>1958-04-07/1958-04-13</th>\n",
              "      <td>317.6</td>\n",
              "    </tr>\n",
              "    <tr>\n",
              "      <th>1958-04-14/1958-04-20</th>\n",
              "      <td>317.5</td>\n",
              "    </tr>\n",
              "    <tr>\n",
              "      <th>1958-04-21/1958-04-27</th>\n",
              "      <td>316.4</td>\n",
              "    </tr>\n",
              "  </tbody>\n",
              "</table>\n",
              "</div>\n",
              "      <button class=\"colab-df-convert\" onclick=\"convertToInteractive('df-98e8c1e6-a903-4442-b11d-51b6d38f76b0')\"\n",
              "              title=\"Convert this dataframe to an interactive table.\"\n",
              "              style=\"display:none;\">\n",
              "        \n",
              "  <svg xmlns=\"http://www.w3.org/2000/svg\" height=\"24px\"viewBox=\"0 0 24 24\"\n",
              "       width=\"24px\">\n",
              "    <path d=\"M0 0h24v24H0V0z\" fill=\"none\"/>\n",
              "    <path d=\"M18.56 5.44l.94 2.06.94-2.06 2.06-.94-2.06-.94-.94-2.06-.94 2.06-2.06.94zm-11 1L8.5 8.5l.94-2.06 2.06-.94-2.06-.94L8.5 2.5l-.94 2.06-2.06.94zm10 10l.94 2.06.94-2.06 2.06-.94-2.06-.94-.94-2.06-.94 2.06-2.06.94z\"/><path d=\"M17.41 7.96l-1.37-1.37c-.4-.4-.92-.59-1.43-.59-.52 0-1.04.2-1.43.59L10.3 9.45l-7.72 7.72c-.78.78-.78 2.05 0 2.83L4 21.41c.39.39.9.59 1.41.59.51 0 1.02-.2 1.41-.59l7.78-7.78 2.81-2.81c.8-.78.8-2.07 0-2.86zM5.41 20L4 18.59l7.72-7.72 1.47 1.35L5.41 20z\"/>\n",
              "  </svg>\n",
              "      </button>\n",
              "      \n",
              "  <style>\n",
              "    .colab-df-container {\n",
              "      display:flex;\n",
              "      flex-wrap:wrap;\n",
              "      gap: 12px;\n",
              "    }\n",
              "\n",
              "    .colab-df-convert {\n",
              "      background-color: #E8F0FE;\n",
              "      border: none;\n",
              "      border-radius: 50%;\n",
              "      cursor: pointer;\n",
              "      display: none;\n",
              "      fill: #1967D2;\n",
              "      height: 32px;\n",
              "      padding: 0 0 0 0;\n",
              "      width: 32px;\n",
              "    }\n",
              "\n",
              "    .colab-df-convert:hover {\n",
              "      background-color: #E2EBFA;\n",
              "      box-shadow: 0px 1px 2px rgba(60, 64, 67, 0.3), 0px 1px 3px 1px rgba(60, 64, 67, 0.15);\n",
              "      fill: #174EA6;\n",
              "    }\n",
              "\n",
              "    [theme=dark] .colab-df-convert {\n",
              "      background-color: #3B4455;\n",
              "      fill: #D2E3FC;\n",
              "    }\n",
              "\n",
              "    [theme=dark] .colab-df-convert:hover {\n",
              "      background-color: #434B5C;\n",
              "      box-shadow: 0px 1px 3px 1px rgba(0, 0, 0, 0.15);\n",
              "      filter: drop-shadow(0px 1px 2px rgba(0, 0, 0, 0.3));\n",
              "      fill: #FFFFFF;\n",
              "    }\n",
              "  </style>\n",
              "\n",
              "      <script>\n",
              "        const buttonEl =\n",
              "          document.querySelector('#df-98e8c1e6-a903-4442-b11d-51b6d38f76b0 button.colab-df-convert');\n",
              "        buttonEl.style.display =\n",
              "          google.colab.kernel.accessAllowed ? 'block' : 'none';\n",
              "\n",
              "        async function convertToInteractive(key) {\n",
              "          const element = document.querySelector('#df-98e8c1e6-a903-4442-b11d-51b6d38f76b0');\n",
              "          const dataTable =\n",
              "            await google.colab.kernel.invokeFunction('convertToInteractive',\n",
              "                                                     [key], {});\n",
              "          if (!dataTable) return;\n",
              "\n",
              "          const docLinkHtml = 'Like what you see? Visit the ' +\n",
              "            '<a target=\"_blank\" href=https://colab.research.google.com/notebooks/data_table.ipynb>data table notebook</a>'\n",
              "            + ' to learn more about interactive tables.';\n",
              "          element.innerHTML = '';\n",
              "          dataTable['output_type'] = 'display_data';\n",
              "          await google.colab.output.renderOutput(dataTable, element);\n",
              "          const docLink = document.createElement('div');\n",
              "          docLink.innerHTML = docLinkHtml;\n",
              "          element.appendChild(docLink);\n",
              "        }\n",
              "      </script>\n",
              "    </div>\n",
              "  </div>\n",
              "  "
            ]
          },
          "metadata": {},
          "execution_count": 43
        }
      ]
    },
    {
      "cell_type": "markdown",
      "metadata": {
        "scrolled": false,
        "id": "8Op9ssf-YmwN"
      },
      "source": [
        "Нарисуем динамику ряда"
      ]
    },
    {
      "cell_type": "code",
      "metadata": {
        "scrolled": false,
        "colab": {
          "base_uri": "https://localhost:8080/",
          "height": 54
        },
        "id": "A2hX2jv5YmwN",
        "outputId": "70ca51f1-541e-4438-b0e4-8c51d958e730"
      },
      "source": [
        "dataset.plot(figsize=(12, 4))\n",
        "\n",
        "plt.grid(which=\"major\", axis=\"both\")"
      ],
      "execution_count": null,
      "outputs": [
        {
          "output_type": "display_data",
          "data": {
            "text/plain": [
              "<Figure size 864x288 with 1 Axes>"
            ],
            "image/png": "[encoded data removed]"
          },
          "metadata": {
            "needs_background": "light"
          }
        }
      ]
    },
    {
      "cell_type": "markdown",
      "metadata": {
        "id": "fvwNjDRoYmwN"
      },
      "source": [
        "Агрегируем еженедельные данные до ежемесячных"
      ]
    },
    {
      "cell_type": "code",
      "metadata": {
        "id": "ga0eEUdhYmwN"
      },
      "source": [
        "dataset = dataset.to_timestamp()\n",
        "\n",
        "dataset = dataset.resample(\"M\").mean()"
      ],
      "execution_count": null,
      "outputs": []
    },
    {
      "cell_type": "code",
      "metadata": {
        "colab": {
          "base_uri": "https://localhost:8080/",
          "height": 401
        },
        "id": "5fDLXqG-YmwN",
        "outputId": "fc042816-f1a3-4343-cf1c-e9641e957865"
      },
      "source": [
        "dataset.head()"
      ],
      "execution_count": null,
      "outputs": [
        {
          "output_type": "execute_result",
          "data": {
            "text/plain": [
              "            концентрация CO2\n",
              "дата                        \n",
              "1958-03-31           316.700\n",
              "1958-04-30           317.100\n",
              "1958-05-31           317.700\n",
              "1958-06-30           315.800\n",
              "1958-07-31           315.575"
            ],
            "text/html": [
              "\n",
              "  <div id=\"df-b46607d2-377c-482d-b177-3338d855fb6d\">\n",
              "    <div class=\"colab-df-container\">\n",
              "      <div>\n",
              "<style scoped>\n",
              "    .dataframe tbody tr th:only-of-type {\n",
              "        vertical-align: middle;\n",
              "    }\n",
              "\n",
              "    .dataframe tbody tr th {\n",
              "        vertical-align: top;\n",
              "    }\n",
              "\n",
              "    .dataframe thead th {\n",
              "        text-align: right;\n",
              "    }\n",
              "</style>\n",
              "<table border=\"1\" class=\"dataframe\">\n",
              "  <thead>\n",
              "    <tr style=\"text-align: right;\">\n",
              "      <th></th>\n",
              "      <th>концентрация CO2</th>\n",
              "    </tr>\n",
              "    <tr>\n",
              "      <th>дата</th>\n",
              "      <th></th>\n",
              "    </tr>\n",
              "  </thead>\n",
              "  <tbody>\n",
              "    <tr>\n",
              "      <th>1958-03-31</th>\n",
              "      <td>316.700</td>\n",
              "    </tr>\n",
              "    <tr>\n",
              "      <th>1958-04-30</th>\n",
              "      <td>317.100</td>\n",
              "    </tr>\n",
              "    <tr>\n",
              "      <th>1958-05-31</th>\n",
              "      <td>317.700</td>\n",
              "    </tr>\n",
              "    <tr>\n",
              "      <th>1958-06-30</th>\n",
              "      <td>315.800</td>\n",
              "    </tr>\n",
              "    <tr>\n",
              "      <th>1958-07-31</th>\n",
              "      <td>315.575</td>\n",
              "    </tr>\n",
              "  </tbody>\n",
              "</table>\n",
              "</div>\n",
              "      <button class=\"colab-df-convert\" onclick=\"convertToInteractive('df-b46607d2-377c-482d-b177-3338d855fb6d')\"\n",
              "              title=\"Convert this dataframe to an interactive table.\"\n",
              "              style=\"display:none;\">\n",
              "        \n",
              "  <svg xmlns=\"http://www.w3.org/2000/svg\" height=\"24px\"viewBox=\"0 0 24 24\"\n",
              "       width=\"24px\">\n",
              "    <path d=\"M0 0h24v24H0V0z\" fill=\"none\"/>\n",
              "    <path d=\"M18.56 5.44l.94 2.06.94-2.06 2.06-.94-2.06-.94-.94-2.06-.94 2.06-2.06.94zm-11 1L8.5 8.5l.94-2.06 2.06-.94-2.06-.94L8.5 2.5l-.94 2.06-2.06.94zm10 10l.94 2.06.94-2.06 2.06-.94-2.06-.94-.94-2.06-.94 2.06-2.06.94z\"/><path d=\"M17.41 7.96l-1.37-1.37c-.4-.4-.92-.59-1.43-.59-.52 0-1.04.2-1.43.59L10.3 9.45l-7.72 7.72c-.78.78-.78 2.05 0 2.83L4 21.41c.39.39.9.59 1.41.59.51 0 1.02-.2 1.41-.59l7.78-7.78 2.81-2.81c.8-.78.8-2.07 0-2.86zM5.41 20L4 18.59l7.72-7.72 1.47 1.35L5.41 20z\"/>\n",
              "  </svg>\n",
              "      </button>\n",
              "      \n",
              "  <style>\n",
              "    .colab-df-container {\n",
              "      display:flex;\n",
              "      flex-wrap:wrap;\n",
              "      gap: 12px;\n",
              "    }\n",
              "\n",
              "    .colab-df-convert {\n",
              "      background-color: #E8F0FE;\n",
              "      border: none;\n",
              "      border-radius: 50%;\n",
              "      cursor: pointer;\n",
              "      display: none;\n",
              "      fill: #1967D2;\n",
              "      height: 32px;\n",
              "      padding: 0 0 0 0;\n",
              "      width: 32px;\n",
              "    }\n",
              "\n",
              "    .colab-df-convert:hover {\n",
              "      background-color: #E2EBFA;\n",
              "      box-shadow: 0px 1px 2px rgba(60, 64, 67, 0.3), 0px 1px 3px 1px rgba(60, 64, 67, 0.15);\n",
              "      fill: #174EA6;\n",
              "    }\n",
              "\n",
              "    [theme=dark] .colab-df-convert {\n",
              "      background-color: #3B4455;\n",
              "      fill: #D2E3FC;\n",
              "    }\n",
              "\n",
              "    [theme=dark] .colab-df-convert:hover {\n",
              "      background-color: #434B5C;\n",
              "      box-shadow: 0px 1px 3px 1px rgba(0, 0, 0, 0.15);\n",
              "      filter: drop-shadow(0px 1px 2px rgba(0, 0, 0, 0.3));\n",
              "      fill: #FFFFFF;\n",
              "    }\n",
              "  </style>\n",
              "\n",
              "      <script>\n",
              "        const buttonEl =\n",
              "          document.querySelector('#df-b46607d2-377c-482d-b177-3338d855fb6d button.colab-df-convert');\n",
              "        buttonEl.style.display =\n",
              "          google.colab.kernel.accessAllowed ? 'block' : 'none';\n",
              "\n",
              "        async function convertToInteractive(key) {\n",
              "          const element = document.querySelector('#df-b46607d2-377c-482d-b177-3338d855fb6d');\n",
              "          const dataTable =\n",
              "            await google.colab.kernel.invokeFunction('convertToInteractive',\n",
              "                                                     [key], {});\n",
              "          if (!dataTable) return;\n",
              "\n",
              "          const docLinkHtml = 'Like what you see? Visit the ' +\n",
              "            '<a target=\"_blank\" href=https://colab.research.google.com/notebooks/data_table.ipynb>data table notebook</a>'\n",
              "            + ' to learn more about interactive tables.';\n",
              "          element.innerHTML = '';\n",
              "          dataTable['output_type'] = 'display_data';\n",
              "          await google.colab.output.renderOutput(dataTable, element);\n",
              "          const docLink = document.createElement('div');\n",
              "          docLink.innerHTML = docLinkHtml;\n",
              "          element.appendChild(docLink);\n",
              "        }\n",
              "      </script>\n",
              "    </div>\n",
              "  </div>\n",
              "  "
            ]
          },
          "metadata": {},
          "execution_count": 46
        }
      ]
    },
    {
      "cell_type": "code",
      "metadata": {
        "scrolled": false,
        "colab": {
          "base_uri": "https://localhost:8080/",
          "height": 54
        },
        "id": "F1BsvCrtYmwO",
        "outputId": "ea8adb0f-86bb-40a5-db2d-3f95551e3ea7"
      },
      "source": [
        "dataset.plot(figsize=(12, 4))\n",
        "\n",
        "plt.grid(which=\"major\", axis=\"both\")"
      ],
      "execution_count": null,
      "outputs": [
        {
          "output_type": "display_data",
          "data": {
            "text/plain": [
              "<Figure size 864x288 with 1 Axes>"
            ],
            "image/png": "[encoded data removed]"
          },
          "metadata": {
            "needs_background": "light"
          }
        }
      ]
    },
    {
      "cell_type": "code",
      "metadata": {
        "colab": {
          "base_uri": "https://localhost:8080/"
        },
        "id": "tN9Hla2YTroy",
        "outputId": "2f406e2d-61fe-4688-b1ed-23143b0e9078"
      },
      "source": [
        "dataset.shape"
      ],
      "execution_count": null,
      "outputs": [
        {
          "output_type": "execute_result",
          "data": {
            "text/plain": [
              "(526, 1)"
            ]
          },
          "metadata": {},
          "execution_count": 48
        }
      ]
    },
    {
      "cell_type": "markdown",
      "metadata": {
        "id": "sXEIint9YmwO"
      },
      "source": [
        "Посмотрим на сводную статистику рядов"
      ]
    },
    {
      "cell_type": "code",
      "metadata": {
        "colab": {
          "base_uri": "https://localhost:8080/",
          "height": 178
        },
        "id": "aM5zKnQVYmwO",
        "outputId": "fa6fb434-d222-4c8e-fb4e-706d5b01e153"
      },
      "source": [
        "print(\"Рядов {1}, Наблюдений {0}\".format(*dataset.shape))\n",
        "\n",
        "dataset.describe().T.head()"
      ],
      "execution_count": null,
      "outputs": [
        {
          "output_type": "stream",
          "name": "stdout",
          "text": [
            "Рядов 1, Наблюдений 526\n"
          ]
        },
        {
          "output_type": "execute_result",
          "data": {
            "text/plain": [
              "                  count        mean        std      min      25%       50%  \\\n",
              "концентрация CO2  522.0  339.794055  17.090851  313.425  324.185  337.9825   \n",
              "\n",
              "                      75%      max  \n",
              "концентрация CO2  354.545  373.825  "
            ],
            "text/html": [
              "\n",
              "  <div id=\"df-bc0ff8a4-5bab-40a1-9080-8e293302587c\">\n",
              "    <div class=\"colab-df-container\">\n",
              "      <div>\n",
              "<style scoped>\n",
              "    .dataframe tbody tr th:only-of-type {\n",
              "        vertical-align: middle;\n",
              "    }\n",
              "\n",
              "    .dataframe tbody tr th {\n",
              "        vertical-align: top;\n",
              "    }\n",
              "\n",
              "    .dataframe thead th {\n",
              "        text-align: right;\n",
              "    }\n",
              "</style>\n",
              "<table border=\"1\" class=\"dataframe\">\n",
              "  <thead>\n",
              "    <tr style=\"text-align: right;\">\n",
              "      <th></th>\n",
              "      <th>count</th>\n",
              "      <th>mean</th>\n",
              "      <th>std</th>\n",
              "      <th>min</th>\n",
              "      <th>25%</th>\n",
              "      <th>50%</th>\n",
              "      <th>75%</th>\n",
              "      <th>max</th>\n",
              "    </tr>\n",
              "  </thead>\n",
              "  <tbody>\n",
              "    <tr>\n",
              "      <th>концентрация CO2</th>\n",
              "      <td>522.0</td>\n",
              "      <td>339.794055</td>\n",
              "      <td>17.090851</td>\n",
              "      <td>313.425</td>\n",
              "      <td>324.185</td>\n",
              "      <td>337.9825</td>\n",
              "      <td>354.545</td>\n",
              "      <td>373.825</td>\n",
              "    </tr>\n",
              "  </tbody>\n",
              "</table>\n",
              "</div>\n",
              "      <button class=\"colab-df-convert\" onclick=\"convertToInteractive('df-bc0ff8a4-5bab-40a1-9080-8e293302587c')\"\n",
              "              title=\"Convert this dataframe to an interactive table.\"\n",
              "              style=\"display:none;\">\n",
              "        \n",
              "  <svg xmlns=\"http://www.w3.org/2000/svg\" height=\"24px\"viewBox=\"0 0 24 24\"\n",
              "       width=\"24px\">\n",
              "    <path d=\"M0 0h24v24H0V0z\" fill=\"none\"/>\n",
              "    <path d=\"M18.56 5.44l.94 2.06.94-2.06 2.06-.94-2.06-.94-.94-2.06-.94 2.06-2.06.94zm-11 1L8.5 8.5l.94-2.06 2.06-.94-2.06-.94L8.5 2.5l-.94 2.06-2.06.94zm10 10l.94 2.06.94-2.06 2.06-.94-2.06-.94-.94-2.06-.94 2.06-2.06.94z\"/><path d=\"M17.41 7.96l-1.37-1.37c-.4-.4-.92-.59-1.43-.59-.52 0-1.04.2-1.43.59L10.3 9.45l-7.72 7.72c-.78.78-.78 2.05 0 2.83L4 21.41c.39.39.9.59 1.41.59.51 0 1.02-.2 1.41-.59l7.78-7.78 2.81-2.81c.8-.78.8-2.07 0-2.86zM5.41 20L4 18.59l7.72-7.72 1.47 1.35L5.41 20z\"/>\n",
              "  </svg>\n",
              "      </button>\n",
              "      \n",
              "  <style>\n",
              "    .colab-df-container {\n",
              "      display:flex;\n",
              "      flex-wrap:wrap;\n",
              "      gap: 12px;\n",
              "    }\n",
              "\n",
              "    .colab-df-convert {\n",
              "      background-color: #E8F0FE;\n",
              "      border: none;\n",
              "      border-radius: 50%;\n",
              "      cursor: pointer;\n",
              "      display: none;\n",
              "      fill: #1967D2;\n",
              "      height: 32px;\n",
              "      padding: 0 0 0 0;\n",
              "      width: 32px;\n",
              "    }\n",
              "\n",
              "    .colab-df-convert:hover {\n",
              "      background-color: #E2EBFA;\n",
              "      box-shadow: 0px 1px 2px rgba(60, 64, 67, 0.3), 0px 1px 3px 1px rgba(60, 64, 67, 0.15);\n",
              "      fill: #174EA6;\n",
              "    }\n",
              "\n",
              "    [theme=dark] .colab-df-convert {\n",
              "      background-color: #3B4455;\n",
              "      fill: #D2E3FC;\n",
              "    }\n",
              "\n",
              "    [theme=dark] .colab-df-convert:hover {\n",
              "      background-color: #434B5C;\n",
              "      box-shadow: 0px 1px 3px 1px rgba(0, 0, 0, 0.15);\n",
              "      filter: drop-shadow(0px 1px 2px rgba(0, 0, 0, 0.3));\n",
              "      fill: #FFFFFF;\n",
              "    }\n",
              "  </style>\n",
              "\n",
              "      <script>\n",
              "        const buttonEl =\n",
              "          document.querySelector('#df-bc0ff8a4-5bab-40a1-9080-8e293302587c button.colab-df-convert');\n",
              "        buttonEl.style.display =\n",
              "          google.colab.kernel.accessAllowed ? 'block' : 'none';\n",
              "\n",
              "        async function convertToInteractive(key) {\n",
              "          const element = document.querySelector('#df-bc0ff8a4-5bab-40a1-9080-8e293302587c');\n",
              "          const dataTable =\n",
              "            await google.colab.kernel.invokeFunction('convertToInteractive',\n",
              "                                                     [key], {});\n",
              "          if (!dataTable) return;\n",
              "\n",
              "          const docLinkHtml = 'Like what you see? Visit the ' +\n",
              "            '<a target=\"_blank\" href=https://colab.research.google.com/notebooks/data_table.ipynb>data table notebook</a>'\n",
              "            + ' to learn more about interactive tables.';\n",
              "          element.innerHTML = '';\n",
              "          dataTable['output_type'] = 'display_data';\n",
              "          await google.colab.output.renderOutput(dataTable, element);\n",
              "          const docLink = document.createElement('div');\n",
              "          docLink.innerHTML = docLinkHtml;\n",
              "          element.appendChild(docLink);\n",
              "        }\n",
              "      </script>\n",
              "    </div>\n",
              "  </div>\n",
              "  "
            ]
          },
          "metadata": {},
          "execution_count": 49
        }
      ]
    },
    {
      "cell_type": "code",
      "metadata": {
        "colab": {
          "base_uri": "https://localhost:8080/",
          "height": 54
        },
        "id": "rjzDqFg1YmwO",
        "outputId": "7e114a02-bef5-4bb1-bede-5fd588c203fb"
      },
      "source": [
        "dataset.loc[\"1960\":\"1967\"].plot(figsize=(12, 4))\n",
        "\n",
        "plt.grid(which=\"major\", axis=\"both\")"
      ],
      "execution_count": null,
      "outputs": [
        {
          "output_type": "display_data",
          "data": {
            "text/plain": [
              "<Figure size 864x288 with 1 Axes>"
            ],
            "image/png": "[encoded data removed]"
          },
          "metadata": {
            "needs_background": "light"
          }
        }
      ]
    },
    {
      "cell_type": "markdown",
      "metadata": {
        "id": "aStQb8ezYmwQ"
      },
      "source": [
        "# 2. Обработка пропущенных значений\n"
      ]
    },
    {
      "cell_type": "code",
      "metadata": {
        "id": "PCRpEDiaYmwR"
      },
      "source": [
        "# Функция slice позволяет вытаскивать интервалы из последовательностей\n",
        "# На вход принимается старт и конец последовательности\n",
        "maginfy_slice = slice(\"1960\", \"1967\")"
      ],
      "execution_count": null,
      "outputs": []
    },
    {
      "cell_type": "code",
      "metadata": {
        "colab": {
          "base_uri": "https://localhost:8080/"
        },
        "id": "q4i9N7GKUbP5",
        "outputId": "5129b0e6-6477-4f1c-90eb-933c3cbaa1ff"
      },
      "source": [
        "maginfy_slice"
      ],
      "execution_count": null,
      "outputs": [
        {
          "output_type": "execute_result",
          "data": {
            "text/plain": [
              "slice('1960', '1967', None)"
            ]
          },
          "metadata": {},
          "execution_count": 52
        }
      ]
    },
    {
      "cell_type": "markdown",
      "metadata": {
        "id": "F-lY8dBoYmwR"
      },
      "source": [
        "От пропущенных значений во временных рядах можно избавиться:\n",
        "\n",
        "1) заполнив последним известным значением\n",
        "  + **+** не заглядывает \"в будущее\"\n",
        "\n",
        "  + **-** не может заполнить пустые значения в начале ряда\n",
        "\n",
        "  - **-** не учитывает особенности ряда"
      ]
    },
    {
      "cell_type": "markdown",
      "metadata": {
        "id": "BAEgapjVYmwR"
      },
      "source": [
        "2) с помощью интерполяции соседних наблюдаемых значений\n",
        "\n",
        "  + **+** сглаживает скачки в значениях\n",
        "\n",
        "  - **-** не позволяет заполнить пустые значения на концах ряда\n",
        "\n",
        "  + **-** немного заглядывает \"в будущее\""
      ]
    },
    {
      "cell_type": "code",
      "metadata": {
        "id": "EI3wylfFYmwS"
      },
      "source": [
        "dataset_linterp = dataset.interpolate(method='linear')\n",
        "\n",
        "dataset_pinterp = dataset.interpolate(method='polynomial', order=2)"
      ],
      "execution_count": null,
      "outputs": []
    },
    {
      "cell_type": "code",
      "metadata": {
        "colab": {
          "base_uri": "https://localhost:8080/",
          "height": 54
        },
        "id": "N3ZIpbjKYmwS",
        "outputId": "7bb1062b-25d4-4dc9-bfa9-4f43913a546e"
      },
      "source": [
        "ax = dataset_pinterp.loc[maginfy_slice].plot(figsize=(12, 4))\n",
        "\n",
        "dataset_linterp.loc[maginfy_slice].plot(ax=ax)\n",
        "\n",
        "plt.grid(which=\"major\", axis=\"both\")"
      ],
      "execution_count": null,
      "outputs": [
        {
          "output_type": "display_data",
          "data": {
            "text/plain": [
              "<Figure size 864x288 with 1 Axes>"
            ],
            "image/png": "[encoded data removed]"
          },
          "metadata": {
            "needs_background": "light"
          }
        }
      ]
    },
    {
      "cell_type": "markdown",
      "metadata": {
        "id": "1su0Sh4zYmwS"
      },
      "source": [
        "3) просто исключить вовсе\n",
        "\n",
        "  + **+** не привносит искажений в значения\n",
        "  - **-** нарушает регулярность и относительную периодичность\n",
        "\n",
        "  - **-** истощает выборку\n"
      ]
    },
    {
      "cell_type": "markdown",
      "metadata": {
        "id": "CtRBtQC2ckRT"
      },
      "source": [
        "# 3. Деление выборки на тренировочную и тестовую"
      ]
    },
    {
      "cell_type": "code",
      "metadata": {
        "id": "CD_WIojFYmwT"
      },
      "source": [
        "full_dataset = dataset_pinterp"
      ],
      "execution_count": null,
      "outputs": []
    },
    {
      "cell_type": "markdown",
      "metadata": {
        "id": "VZCU2gEkYmwT"
      },
      "source": [
        "Подготовим обучающую выборку и тестовую в пропорции 3 к 1"
      ]
    },
    {
      "cell_type": "code",
      "metadata": {
        "colab": {
          "base_uri": "https://localhost:8080/"
        },
        "id": "5JrBmdAzYmwU",
        "outputId": "4c7a1e19-b1e6-44fa-8e66-26a1e8022274"
      },
      "source": [
        "holdout = full_dataset.loc[\"1991-01-01\":]\n",
        "\n",
        "dataset = full_dataset.loc[:\"1990-12-31\"]\n",
        "\n",
        "print(len(dataset), len(holdout))"
      ],
      "execution_count": null,
      "outputs": [
        {
          "output_type": "stream",
          "name": "stdout",
          "text": [
            "394 132\n"
          ]
        }
      ]
    },
    {
      "cell_type": "markdown",
      "metadata": {
        "id": "Cx5utohCrwWy"
      },
      "source": [
        "Явно сохраним границы отрезков"
      ]
    },
    {
      "cell_type": "code",
      "metadata": {
        "colab": {
          "base_uri": "https://localhost:8080/"
        },
        "id": "05DTFoQ3rvxr",
        "outputId": "a209db8d-9874-41bb-ded9-b3a59bd7be57"
      },
      "source": [
        "holdout_slice = slice(*holdout.index[[0, -1]])\n",
        "\n",
        "print(\"Обучающая выборка с {} по {}\".format(*dataset.index[[0, -1]]))\n",
        "\n",
        "print(\"Тестовая выборка с {} по {}\".format(holdout_slice.start, holdout_slice.stop))"
      ],
      "execution_count": null,
      "outputs": [
        {
          "output_type": "stream",
          "name": "stdout",
          "text": [
            "Обучающая выборка с 1958-03-31 00:00:00 по 1990-12-31 00:00:00\n",
            "Тестовая выборка с 1991-01-31 00:00:00 по 2001-12-31 00:00:00\n"
          ]
        }
      ]
    },
    {
      "cell_type": "markdown",
      "metadata": {
        "id": "wO8JlcqMYmwV"
      },
      "source": [
        "Выберем колонку"
      ]
    },
    {
      "cell_type": "code",
      "metadata": {
        "id": "VhbdtYfxYmwV"
      },
      "source": [
        "target_column = \"концентрация CO2\""
      ],
      "execution_count": null,
      "outputs": []
    },
    {
      "cell_type": "code",
      "metadata": {
        "scrolled": false,
        "colab": {
          "base_uri": "https://localhost:8080/",
          "height": 54
        },
        "id": "XjaY7NreYmwV",
        "outputId": "8b3c5765-85d4-4c2c-ef2a-4e7b342fb84c"
      },
      "source": [
        "# создадим и настроим холст\n",
        "fig = plt.figure(figsize=(12, 5))\n",
        "ax = fig.add_subplot(111, xlabel=\"Дата\", ylabel=\"значение\", title=target_column)\n",
        "\n",
        "# нарисуем динамику всего ряда\n",
        "full_dataset[target_column].plot(ax=ax)\n",
        "\n",
        "# затемнение отложенного интервала\n",
        "ax.axvspan(holdout_slice.start, holdout_slice.stop,\n",
        "           color=\"C1\", alpha=0.25, zorder=-99)\n",
        "\n",
        "ax.grid(which=\"major\", axis=\"both\") ;\n"
      ],
      "execution_count": null,
      "outputs": [
        {
          "output_type": "display_data",
          "data": {
            "text/plain": [
              "<Figure size 864x360 with 1 Axes>"
            ],
            "image/png": "[encoded data removed]"
          },
          "metadata": {
            "needs_background": "light"
          }
        }
      ]
    },
    {
      "cell_type": "markdown",
      "metadata": {
        "id": "9iPK81qrYmwV"
      },
      "source": [
        "<br>"
      ]
    },
    {
      "cell_type": "markdown",
      "metadata": {
        "id": "wwCim-5XYmwW"
      },
      "source": [
        "# 4. Свойство ...\n",
        "\n",
        "**Стационарность** -- полезное свойство процесса, означающее, что:\n",
        "\n",
        "> вероятностные взаимосвязи в наборе $(y_{t_1},\\,\\ldots,\\,y_{t_m})$ ровно такие же, что и\n",
        "в $(y_{t_1+s},\\,\\ldots,\\,y_{t_m+s})$, для любого сдвига $s \\neq 0$."
      ]
    },
    {
      "cell_type": "markdown",
      "metadata": {
        "id": "pTx5Kic-YmwW"
      },
      "source": [
        "* нет **особых моментов времени**, когда изменяются статистические свойства наблюдений;"
      ]
    },
    {
      "cell_type": "markdown",
      "metadata": {
        "id": "WLJ6wGQxYmwW"
      },
      "source": [
        "* закономерности устойчивы во времени и определяются только **отступом наблюдений друг относительно друга**;\n",
        "  * среднее, дисперсия и автокорреляции не зависят от момента времени;"
      ]
    },
    {
      "cell_type": "markdown",
      "metadata": {
        "id": "PCw0cHf9YmwW"
      },
      "source": [
        "## ... которого нет\n",
        "\n",
        "Случайные процессы, встречающиеся в реальных задачах, **практически всегда нестационарны**.\n",
        "\n",
        "* средний уровень зависит от времени (в динамике есть тренд)\n",
        "  - устойчивый рост ВВП\n",
        "  - снижение добычи в скважине\n",
        "  - зависимость от внешних факторов (экзогенных переменных)"
      ]
    },
    {
      "cell_type": "markdown",
      "metadata": {
        "id": "QK9CcRxyYmwW"
      },
      "source": [
        "* календарные события\n",
        "  - государственные и религиозные праздники"
      ]
    },
    {
      "cell_type": "markdown",
      "metadata": {
        "id": "izo_aQ5sYmwW"
      },
      "source": [
        "* сезонная периодичность\n",
        "  - внутридневная цикличность потребления электроэнергии\n",
        "  - сезонные температуры\n",
        "  - ежегодный пик месячной инфляции в январе-феврале "
      ]
    },
    {
      "cell_type": "markdown",
      "metadata": {
        "id": "UlswHC1EYmwX"
      },
      "source": [
        "* периоды спокойной динамики сменяются периодами относительно высокой волатильности\n",
        "  - сильные возмущения на финансовых рынках во время кризиса"
      ]
    },
    {
      "cell_type": "markdown",
      "metadata": {
        "id": "2xSw_9-gYmwX"
      },
      "source": [
        "Соответственно большинство временных рядов, в особенности экономические, климатические и финансовые, нестационарны."
      ]
    },
    {
      "cell_type": "markdown",
      "metadata": {
        "id": "M3wbbaS2YmwX"
      },
      "source": [
        "<br>"
      ]
    },
    {
      "cell_type": "markdown",
      "metadata": {
        "id": "Kjk-fV_sYmwX"
      },
      "source": [
        "## 4.1 Визуализация и диагностика нестационарности \n",
        "\n",
        "(оставить только скользящие статистики сезонность и проблему)"
      ]
    },
    {
      "cell_type": "markdown",
      "metadata": {
        "id": "Cvr95-M5YmwX"
      },
      "source": [
        "Визуализация в анализе временных рядов позволяет:\n",
        "\n",
        "- получить предварительное представление о корреляционных закономерностях\n",
        "\n",
        "- выбрать целесообразную стратегию валидации\n",
        "\n",
        "- прикинуть, есть ли в динамике ряда структурные изменения\n",
        "  * скачки и разрывы\n",
        "  * скопления интенсивных колебаний и периоды плавных движений\n",
        "\n",
        "- провести диагностику нестационарности: наличие тренда, сезонности, пр."
      ]
    },
    {
      "cell_type": "code",
      "metadata": {
        "id": "sbJEEioje3xB"
      },
      "source": [
        "def diagnostics(series, window=250, fraction=0.25, lags=250):\n",
        "    # скользящие статистики\n",
        "    rolling_diagnostics(series, window=window)\n",
        "    plt.show()\n",
        "    plt.close()\n",
        "\n",
        "    # грубая сезонность\n",
        "    monthly_seasonality_diagnostics(series, fraction=fraction)\n",
        "    plt.show()\n",
        "    plt.close()"
      ],
      "execution_count": null,
      "outputs": []
    },
    {
      "cell_type": "markdown",
      "metadata": {
        "id": "PKNCom0TYmwY"
      },
      "source": [
        "### График скользящих статистик"
      ]
    },
    {
      "cell_type": "markdown",
      "metadata": {
        "id": "e8RaCFONYmwY"
      },
      "source": [
        "Скользящие статистики ряда в окне длины $N$ дают понять есть ли изменения во времени\n",
        "\n",
        "* **скользящее среднее:** среднего уровня ряда\n",
        "$$\n",
        "    m_t = \\frac1{N} \\sum_{s=t-N+1}^t y_s\n",
        "\\,; $$\n",
        "\n",
        "* **скользящее стандартное отклонение:** разброс или волатильность\n",
        "$$\n",
        "    s_t = \\sqrt{s^2_t}\n",
        "        \\,, \\quad\n",
        "    s^2_t = \\frac1{N-1} \\sum_{s=t-N+1}^t (y_s - m_t)^2\n",
        "\\,; $$"
      ]
    },
    {
      "cell_type": "markdown",
      "metadata": {
        "id": "yU2m3IYnYmwY"
      },
      "source": [
        "Ниже приведена процедура для удобного построения графиков диагностики."
      ]
    },
    {
      "cell_type": "code",
      "metadata": {
        "id": "XfHv5f1tYmwY"
      },
      "source": [
        "def rolling_diagnostics(series, window=500):\n",
        "    rolling = series.rolling(window)\n",
        "\n",
        "    # создадим и настроим холсты: верхний и нижний\n",
        "    fig = plt.figure(figsize=(12, 6))\n",
        "    ax_top = fig.add_subplot(211, title=\"Скользящее среднее\", xlabel=\"Дата\", ylabel=\"значение\")\n",
        "    ax_bottom = fig.add_subplot(212, title=\"Скользящее стд. отклонение\",\n",
        "                                sharex=ax_top, xlabel=\"Дата\", ylabel=\"стд. откл.\")\n",
        "\n",
        "    # нарисуем графики:\n",
        "    # ряд и скользящее среднее\n",
        "    rolling.mean().plot(ax=ax_top)\n",
        "    series.plot(ax=ax_top, color=\"black\", lw=2, alpha=.25, zorder=-10)\n",
        "    ax_top.grid(which=\"major\", axis=\"both\")\n",
        "\n",
        "    # скользящее стандартное отклонение\n",
        "    rolling.std().plot(ax=ax_bottom)\n",
        "    ax_bottom.grid(which=\"major\", axis=\"both\")\n",
        "\n",
        "    fig.tight_layout()\n",
        "    return fig"
      ],
      "execution_count": null,
      "outputs": []
    },
    {
      "cell_type": "markdown",
      "metadata": {
        "id": "ONAmRi4SYmwY"
      },
      "source": [
        "По графикам скользящих статистик можно судить, что в динамике имеется тренд"
      ]
    },
    {
      "cell_type": "code",
      "metadata": {
        "colab": {
          "base_uri": "https://localhost:8080/",
          "height": 441
        },
        "id": "sFH6VzUMYmwZ",
        "outputId": "b966c803-405d-474e-aa8e-eec84e58925f"
      },
      "source": [
        "rolling_diagnostics(dataset[target_column], window=36) ;"
      ],
      "execution_count": null,
      "outputs": [
        {
          "output_type": "display_data",
          "data": {
            "text/plain": [
              "<Figure size 864x432 with 2 Axes>"
            ],
            "image/png": "[encoded data removed]"
          },
          "metadata": {
            "needs_background": "light"
          }
        }
      ]
    },
    {
      "cell_type": "markdown",
      "metadata": {
        "id": "yJgQM9BrYmwZ"
      },
      "source": [
        "<br>"
      ]
    },
    {
      "cell_type": "markdown",
      "metadata": {
        "id": "6HDc9_y7YmwZ"
      },
      "source": [
        "### Грубая оценка сезонности"
      ]
    },
    {
      "cell_type": "markdown",
      "metadata": {
        "id": "xxYVmZ2UYmwZ"
      },
      "source": [
        "Можно попробовать исследовать сезонность, например месячную или недельную.\n",
        "\n",
        "* при оценке сезонности желательно, чтобы сезонные корректировки производились относительно тренда."
      ]
    },
    {
      "cell_type": "code",
      "metadata": {
        "id": "LDVSDiTTYmwZ"
      },
      "source": [
        "def monthly_seasonality_diagnostics(series, fraction=0.66, period=\"month\"):\n",
        "    import statsmodels as sm\n",
        "    import statsmodels.api\n",
        "    # воспользуемся непараметрической локальной линейной регрессией для предварительной оценки тренда\n",
        "    trend = sm.api.nonparametric.lowess(series, np.r_[:len(series)],\n",
        "                                        frac=fraction, it=5)\n",
        "\n",
        "    # сгруппируем по месяцам и вычислим среднее и стд. отклонение\n",
        "    by = getattr(series.index, period, \"month\")\n",
        "    season_groupby = (series - trend[:, 1]).groupby(by)\n",
        "    seas_mean, seas_std = season_groupby.mean(), season_groupby.std()\n",
        "\n",
        "    # создадим и настроим холсты: верхний и нижний\n",
        "    fig = plt.figure(figsize=(12, 6))\n",
        "    ax_top = fig.add_subplot(211, title=\"Тренд\", xlabel=\"Дата\")\n",
        "    ax_bottom = fig.add_subplot(212, title=\"Сезонность\", xlabel=period)\n",
        "\n",
        "    # нарисуем графики\n",
        "    # ряд и тренд\n",
        "    pd.Series(trend[:, 1], index=series.index).plot(ax=ax_top)\n",
        "    series.plot(ax=ax_top, color=\"black\", lw=2, alpha=.25, zorder=-10)\n",
        "    ax_top.grid(which=\"major\", axis=\"both\")\n",
        "\n",
        "    # сезонность и 90% нормальный доверительный интервал\n",
        "    ax_bottom.plot(1 + np.r_[:len(seas_mean)], seas_mean, lw=2)\n",
        "    ax_bottom.fill_between(1 + np.r_[:len(seas_mean)],\n",
        "                           seas_mean - 1.96 * seas_std,\n",
        "                           seas_mean + 1.96 * seas_std,\n",
        "                           zorder=-10, color=\"C1\", alpha=0.15)\n",
        "    ax_bottom.grid(which=\"major\", axis=\"both\")\n",
        "\n",
        "\n",
        "    fig.tight_layout()\n",
        "    return fig"
      ],
      "execution_count": null,
      "outputs": []
    },
    {
      "cell_type": "markdown",
      "metadata": {
        "id": "e419pEZ9Ymwa"
      },
      "source": [
        "На графиках видно, что в динамике сезонная периодичность"
      ]
    },
    {
      "cell_type": "code",
      "metadata": {
        "scrolled": false,
        "colab": {
          "base_uri": "https://localhost:8080/",
          "height": 441
        },
        "id": "AsEZLy9DYmwa",
        "outputId": "be49fa8e-38f7-4b20-e62d-8db801e14526"
      },
      "source": [
        "monthly_seasonality_diagnostics(dataset[target_column], fraction=0.33, period=\"month\");"
      ],
      "execution_count": null,
      "outputs": [
        {
          "output_type": "display_data",
          "data": {
            "text/plain": [
              "<Figure size 864x432 with 2 Axes>"
            ],
            "image/png": "[encoded data removed]"
          },
          "metadata": {
            "needs_background": "light"
          }
        }
      ]
    },
    {
      "cell_type": "markdown",
      "metadata": {
        "id": "9cfReGwnYmwa"
      },
      "source": [
        "<br>"
      ]
    },
    {
      "cell_type": "markdown",
      "metadata": {
        "id": "1lM0qHsfYmwa"
      },
      "source": [
        "### (Бонус) Полная и частная автокорреляция"
      ]
    },
    {
      "cell_type": "markdown",
      "metadata": {
        "id": "YczggPzhYmwa"
      },
      "source": [
        "Эти функции оценивают влияние наблюдения $h$ шагов на текущее наблюдение, однако делают это по-разному:\n",
        "\n",
        "* **полная автокорреляция** $\\rho_h$ <!-- ($y_t \\sim y_{t-h}$) -->\n",
        "  - отражает **совокупный** эффект $y_{t-h}$ на $y_t$ **через** влияние на все промежуточные $y_{t-j}$, $j=1,\\,...,\\,h-1$"
      ]
    },
    {
      "cell_type": "markdown",
      "metadata": {
        "id": "UL3P7zrsYmwb"
      },
      "source": [
        "* **частная автокорреляция** $\\phi_h$ <!-- ($y_t \\sim y_{t-1}, \\ldots, y_{t-h}$) -->\n",
        "  - показывает **чистый** эффект $y_{t-h}$ на $y_t$ **исключая** влияние на промежуточные $y_{t-j}$, $j=1,\\,...,\\,h-1$"
      ]
    },
    {
      "cell_type": "code",
      "metadata": {
        "id": "NfsNRaGvYmwb"
      },
      "source": [
        "from statsmodels.tsa.stattools import acf, pacf"
      ],
      "execution_count": null,
      "outputs": []
    },
    {
      "cell_type": "markdown",
      "metadata": {
        "id": "bqQUcYTWYmwb"
      },
      "source": [
        "Ниже приведена процедура для удобного построения графиков диагностики."
      ]
    },
    {
      "cell_type": "code",
      "metadata": {
        "id": "tJrGfbnMYmwb"
      },
      "source": [
        "from statsmodels.graphics.tsaplots import plot_acf, plot_pacf\n",
        "\n",
        "\n",
        "def correlation_diagnostics(series, lags=60):\n",
        "    # создадим и настроим холсты: левый и правый\n",
        "    fig = plt.figure(figsize=(12, 3))\n",
        "    ax_left, ax_right = fig.subplots(\n",
        "        nrows=1, ncols=2, sharey=True, sharex=True,\n",
        "        subplot_kw={\"xlabel\": \"Лаг\", \"ylim\": (-1.1, 1.1)})\n",
        "\n",
        "    # Нарисуем графики при помощи встроенных функций в statsmodels\n",
        "    plot_acf(series, ax_left, lags=lags, zero=False, alpha=0.05,\n",
        "             title=\"Выборочная Автокорреляция\", marker=None)\n",
        "\n",
        "    plot_pacf(series, ax_right, lags=lags, zero=False, alpha=0.05,\n",
        "              title=\"Выборочная Частная Автокорреляция\", marker=None)\n",
        "\n",
        "    fig.tight_layout()\n",
        "    return fig"
      ],
      "execution_count": null,
      "outputs": []
    },
    {
      "cell_type": "markdown",
      "metadata": {
        "id": "w5SClHaKYmwb"
      },
      "source": [
        "Исследуем выборочные автокорреляции нашего ряда"
      ]
    },
    {
      "cell_type": "code",
      "metadata": {
        "id": "8wK3DxkTYmwb",
        "colab": {
          "base_uri": "https://localhost:8080/",
          "height": 225
        },
        "outputId": "32997230-85c0-42c3-b370-98870ed48fe6"
      },
      "source": [
        "correlation_diagnostics(dataset[target_column], lags=150);"
      ],
      "execution_count": null,
      "outputs": [
        {
          "output_type": "display_data",
          "data": {
            "text/plain": [
              "<Figure size 864x216 with 2 Axes>"
            ],
            "image/png": "[encoded data removed]"
          },
          "metadata": {
            "needs_background": "light"
          }
        }
      ]
    },
    {
      "cell_type": "markdown",
      "metadata": {
        "id": "8p6XdvyCYmwc"
      },
      "source": [
        "* на *левом графике* автокорреляция малых лагов близка к $1.0$ и убывает достаточно медленно\n",
        "* на *правом графике* статистически ненулевой чистый эффект имеется у наблюдения с лагом 1\n",
        "\n",
        "Это симптомы самого типичного вида нестационарности -- т.н. наличие зависимости вида $y_t = y_{t-1} + \\ldots$.\n",
        "\n",
        "Это означает, что наблюдается сильная зависимость от истории процесса."
      ]
    },
    {
      "cell_type": "markdown",
      "metadata": {
        "id": "e00RwiH6Ymwc"
      },
      "source": [
        "<br>"
      ]
    },
    {
      "cell_type": "markdown",
      "metadata": {
        "id": "Hr4xRkGxYmwe"
      },
      "source": [
        "## 4.2 Проблема"
      ]
    },
    {
      "cell_type": "markdown",
      "metadata": {
        "id": "AEW0wcFxYmwe"
      },
      "source": [
        "**Без стационарности** моделировать ряды очень тяжело\n",
        "\n",
        "* нет устойчивых инвариантных закономерностей, пригодных для моделирования и прогнозирования"
      ]
    },
    {
      "cell_type": "markdown",
      "metadata": {
        "id": "xCuNZc6xYmwf"
      },
      "source": [
        "<br>"
      ]
    },
    {
      "cell_type": "markdown",
      "metadata": {
        "id": "aJ1GgJlLYmwf"
      },
      "source": [
        "## 4.3 Что же делать?"
      ]
    },
    {
      "cell_type": "markdown",
      "metadata": {
        "id": "9G4JfhFqYmwf"
      },
      "source": [
        "Если **приблизить** ряд как можно сильнее к стационарному, **учитывая тренд, сезонность и иные портящие факторы**\n",
        "\n",
        "то **можно надеяться на** более-менее успешное **моделирование и решение** прикладных задач."
      ]
    },
    {
      "cell_type": "markdown",
      "metadata": {
        "id": "DLsClMWXYmwf"
      },
      "source": [
        "<br>"
      ]
    },
    {
      "cell_type": "markdown",
      "metadata": {
        "id": "7--DQ9PaYmwf"
      },
      "source": [
        "# 5. Построение модели временного ряда\n",
        "\n",
        "Построение пригодных моделей временных рядов сложнее, чем решение задачи регрессии"
      ]
    },
    {
      "cell_type": "markdown",
      "metadata": {
        "id": "SnEqgLBcYmwf"
      },
      "source": [
        "### Ключевые этапы"
      ]
    },
    {
      "cell_type": "markdown",
      "metadata": {
        "id": "Kk8XHTBjYmwf"
      },
      "source": [
        "`I`. Делаем ряд **стационарным**\n",
        "    \n",
        "  $y \\mapsto \\log{y}$\n",
        "  \n",
        "\n",
        " Добавляем:\n",
        "\n",
        "  * смещение и масштабирование\n",
        "\n",
        "  * взятие последовательных или сезонных разностей\n",
        "\n",
        "  * выделение и вычитание тренда / сезонности\n",
        "\n",
        "  * определение особых дат или событий\n",
        "    - государственные и религиозные праздники\n",
        "    - моменты замены оборудования\n",
        "    - факты пресечения границы пород\n",
        "\n",
        "  * и т.д.\n",
        "\n",
        "<span style=\"color:red;\">**ВАЖНО**</span> обратные преобразования нужно применять к прогнозам в **обратном** порядке!\n"
      ]
    },
    {
      "cell_type": "markdown",
      "metadata": {
        "id": "M2FsbFKZYmwg"
      },
      "source": [
        "`II`. **Создаем модель**\n",
        "  "
      ]
    },
    {
      "cell_type": "markdown",
      "metadata": {
        "id": "NMoWhMGqYmwg"
      },
      "source": [
        "`III`. **Визуализация остатков** \n",
        "  * смотрим на динамику ряда, на полную и частную автокорреляции, скользящие статистики\n",
        "\n",
        "  * проверяем остатки на требования спецификации модели\n",
        "\n",
        "    - *удовлетворительное* отсутствие автокорреляции\n",
        "\n",
        "    - *удовлетворительно* постоянные среднее и дисперсия"
      ]
    },
    {
      "cell_type": "markdown",
      "metadata": {
        "id": "stbyPOZbYmwg"
      },
      "source": [
        "`IV`. **Валидируем модель**\n",
        "\n",
        "  * вычисление **прогнозов на отложенной** выборке"
      ]
    },
    {
      "cell_type": "markdown",
      "metadata": {
        "id": "amkzIhy8Ymwg"
      },
      "source": [
        "Стратегия моделирования временных рядов основана на идеях, описанных в работе\n",
        "\n",
        "* Box, George; Jenkins, Gwilym (1970). *Time Series Analysis: Forecasting and Control.* San Francisco: Holden-Day."
      ]
    },
    {
      "cell_type": "markdown",
      "metadata": {
        "id": "SvAVmEHbYmwg"
      },
      "source": [
        "<br>"
      ]
    },
    {
      "cell_type": "markdown",
      "metadata": {
        "id": "kMAjEz8wYmwg"
      },
      "source": [
        "### Все модели ошибочны, но некоторые -- полезны\n",
        "\n",
        "На практике модель временного ряда необходимо обновлять и обучать заново, когда накопится достаточный объём новых данных.\n",
        "\n"
      ]
    },
    {
      "cell_type": "markdown",
      "metadata": {
        "id": "M3f9rxe5Ymwh"
      },
      "source": [
        "## `I-II-III` Остационаривание - Оценка - Визуализация"
      ]
    },
    {
      "cell_type": "markdown",
      "metadata": {
        "id": "AWrbcEjzYmwh"
      },
      "source": [
        "### Преобразования"
      ]
    },
    {
      "cell_type": "markdown",
      "metadata": {
        "id": "Ri9-SvwcYmwi"
      },
      "source": [
        "Для нашей задачи применение классический преобразований не дает улучшения предсказаний, но обычно взятие логарифмов делает оценку параметров модели устойчивее."
      ]
    },
    {
      "cell_type": "markdown",
      "metadata": {
        "id": "-etK90IYYmwj"
      },
      "source": [
        "### Модель тренда и сезонности Хольта-Уинтерса\n"
      ]
    },
    {
      "cell_type": "markdown",
      "metadata": {
        "id": "iKg33z-7Ymwj"
      },
      "source": [
        "Обобщённое сглаживание с локальными линейными трендами и сезонностью"
      ]
    },
    {
      "cell_type": "markdown",
      "metadata": {
        "id": "O0Z0XRK_Ymwj"
      },
      "source": [
        "* **+** простая модель, основанная на простых идеях\n",
        "\n",
        "* **-** обычно выделенный тренд немного \"запаздывает\"\n",
        "\n",
        "* **-** детерминированный период сезонности задаваемый вручную"
      ]
    },
    {
      "cell_type": "code",
      "metadata": {
        "id": "xIDnJoZKYmwj"
      },
      "source": [
        "from statsmodels.tsa.holtwinters import ExponentialSmoothing"
      ],
      "execution_count": null,
      "outputs": []
    },
    {
      "cell_type": "code",
      "metadata": {
        "id": "-XdhekAkYmwk"
      },
      "source": [
        "exp_smooth = ExponentialSmoothing(dataset,\n",
        "                                  trend=\"add\",         # аддитивный тренд\n",
        "                                  seasonal=\"add\",      # аддитивная сезонность\n",
        "                                  seasonal_periods=12)\n",
        "\n",
        " # обучение - подбор параметров статистической модели\n",
        "exp_smooth_fitted = exp_smooth.fit(remove_bias=True)"
      ],
      "execution_count": null,
      "outputs": []
    },
    {
      "cell_type": "markdown",
      "metadata": {
        "id": "6IRXH_5KYmwm"
      },
      "source": [
        "Посмотрим на подгонку"
      ]
    },
    {
      "cell_type": "code",
      "metadata": {
        "id": "xzHdy8O3Ymwm"
      },
      "source": [
        "series_fitted = exp_smooth_fitted.fittedvalues.to_frame()"
      ],
      "execution_count": null,
      "outputs": []
    },
    {
      "cell_type": "code",
      "metadata": {
        "colab": {
          "base_uri": "https://localhost:8080/",
          "height": 350
        },
        "id": "vtGYFqNjYmwm",
        "outputId": "1fd8710c-eefe-48a6-ff80-99dea0729dde"
      },
      "source": [
        "# создадим и настроим холст\n",
        "fig = plt.figure(figsize=(12, 5))\n",
        "ax = fig.add_subplot(111, xlabel=\"Дата\", ylabel=\"значение\", title=target_column)\n",
        "\n",
        "# нарисуем динамику всего ряда\n",
        "full_dataset[target_column].plot(ax=ax, color=\"black\",\n",
        "                                 lw=2, alpha=.25, zorder=-10)\n",
        "\n",
        "series_fitted.plot(ax=ax, color=\"C0\", lw=1, alpha=1.0,\n",
        "                         label=\"оценка H-W на трейне\")\n",
        "\n",
        "ax.grid(which=\"major\", axis=\"both\")\n",
        "ax.legend() ;\n"
      ],
      "execution_count": null,
      "outputs": [
        {
          "output_type": "display_data",
          "data": {
            "text/plain": [
              "<Figure size 864x360 with 1 Axes>"
            ],
            "image/png": "[encoded data removed]"
          },
          "metadata": {
            "needs_background": "light"
          }
        }
      ]
    },
    {
      "cell_type": "markdown",
      "metadata": {
        "id": "8Ro9LhN9Ymwn"
      },
      "source": [
        "\n",
        "**ВЫВОД** Модель экспоненциального сглаживания может быть **полезной** для прогнозирования этого процесса."
      ]
    },
    {
      "cell_type": "markdown",
      "metadata": {
        "id": "gnIdEiL5Ymwn"
      },
      "source": [
        "<br>"
      ]
    },
    {
      "cell_type": "markdown",
      "metadata": {
        "id": "545odRMsYmwn"
      },
      "source": [
        "## `IV`. Валидируем модель"
      ]
    },
    {
      "cell_type": "markdown",
      "metadata": {
        "id": "yJnh5dlkYmwn"
      },
      "source": [
        "### Прогнозирование\n",
        "\n",
        "Оставить rmse, r2_score + MAPE\n",
        "\n",
        "**Цель** -- построить траекторию прогнозов будущих значений на горизонте $h$ по доступной информации на момент $t$ *включительно*.\n",
        "\n",
        "Если в модели временного ряда участвуют **экзогенные** переменные, то обязательно требуется\n",
        "* **известная будущая траектория** экзогенных переменных $x_{t+h},\\,x_{t+h-1},\\,\\ldots$\n",
        "\n",
        "  - прогнозы $x_t$ из других моделей (в которых не должен использоваться $y_t$)"
      ]
    },
    {
      "cell_type": "markdown",
      "metadata": {
        "id": "wRAiicwXYmwo"
      },
      "source": [
        "#### Динамическое или вне-выборочное\n",
        "\n",
        "Прогнозы $\\hat{y}_{s\\mid t}$ для $s = t+1,\\,\\ldots,\\, t+h$ вычисляются по\n",
        "\n",
        "* траектории **экзогенных** переменных до момента $s$ *включительно* ($x_s,\\,x_{s-1},\\,\\ldots$)\n",
        "\n",
        "* предыстории прогнозов $\\hat{y}_{j\\mid t}$ для $j = s-1,\\,\\ldots,\\,t,\\,t-1,\\,\\ldots$, причём $\\hat{y}_{j\\mid t} = y_j$ если $j\\leq t$ -- используется фактическое историческое значение."
      ]
    },
    {
      "cell_type": "markdown",
      "metadata": {
        "id": "SnZv3SbWYmwo"
      },
      "source": [
        "\\begin{aligned}\n",
        "  & t+1\\colon\n",
        "  &\n",
        "  \\rlap{\\overbrace{\n",
        "      \\phantom{\n",
        "        \\ldots\n",
        "        , y_{t-2}\n",
        "        , y_{t-1}\n",
        "        , y_{t  }\n",
        "        \\,\\,\\Big ]\n",
        "      }}^{}\n",
        "    }\n",
        "    \\ldots\n",
        "  , y_{t-2}\n",
        "  , y_{t-1}\n",
        "  , y_{t  }\n",
        "  \\,\\,\\Big ]\n",
        "  \\,\\, \\color{blue}{\\hat{y}_{t+1\\mid t}}\n",
        "  , \\color{gray}{\\hat{y}_{t+2\\mid t}}\n",
        "  , \\ldots\n",
        "  , \\color{gray}{\\hat{y}_{t+h-1\\mid t}}\n",
        "  , \\color{gray}{\\hat{y}_{t+h\\mid t}}\n",
        "  , \\ldots\n",
        "\\end{aligned}"
      ]
    },
    {
      "cell_type": "markdown",
      "metadata": {
        "id": "xNvLyOreYmwo"
      },
      "source": [
        "\\begin{aligned}\n",
        "  & t+2\\colon\n",
        "  &\n",
        "  \\rlap{\\overbrace{\n",
        "      \\phantom{\n",
        "        \\ldots\n",
        "        , y_{t-2}\n",
        "        , y_{t-1}\n",
        "        , y_{t  }\n",
        "        \\,\\,\\Big ]\n",
        "        \\,\\, \\hat{y}_{t+1\\mid t}\n",
        "      }}^{}\n",
        "    }\n",
        "    \\ldots\n",
        "  , y_{t-2}\n",
        "  , y_{t-1}\n",
        "  , y_{t  }\n",
        "  \\,\\,\\Big ]\n",
        "  \\,\\, \\hat{y}_{t+1\\mid t}\n",
        "  , \\color{blue}{\\hat{y}_{t+2\\mid t}}\n",
        "  , \\ldots\n",
        "  , \\color{gray}{\\hat{y}_{t+h-1\\mid t}}\n",
        "  , \\color{gray}{\\hat{y}_{t+h\\mid t}}\n",
        "  , \\ldots\n",
        "\\end{aligned}"
      ]
    },
    {
      "cell_type": "markdown",
      "metadata": {
        "id": "rA-tOmz3Ymwo"
      },
      "source": [
        "\\begin{aligned}\n",
        "  & t+h\\colon\n",
        "  &\n",
        "  \\rlap{\\overbrace{\n",
        "      \\phantom{\n",
        "        \\ldots\n",
        "        , y_{t-2}\n",
        "        , y_{t-1}\n",
        "        , y_{t  }\n",
        "        \\,\\,\\Big ]\n",
        "        \\,\\, \\hat{y}_{t+1\\mid t}\n",
        "        , \\hat{y}_{t+2\\mid t}\n",
        "        , \\ldots\n",
        "        , \\hat{y}_{t+h-1\\mid t}\n",
        "      }}^{}\n",
        "    }\n",
        "    \\ldots\n",
        "  , y_{t-2}\n",
        "  , y_{t-1}\n",
        "  , y_{t  }\n",
        "  \\,\\,\\Big ]\n",
        "  \\,\\, \\hat{y}_{t+1\\mid t}\n",
        "  , \\hat{y}_{t+2\\mid t}\n",
        "  , \\ldots\n",
        "  , \\hat{y}_{t+h-1\\mid t}\n",
        "  , \\color{blue}{\\hat{y}_{t+h\\mid t}}\n",
        "  , \\ldots\n",
        "\\end{aligned}"
      ]
    },
    {
      "cell_type": "markdown",
      "metadata": {
        "id": "dlsRVV57Ymwo"
      },
      "source": [
        "#### Статическое или внутри-выборочное\n",
        "\n",
        "Вычисляются последовательные одношаговые динамические прогнозы\n",
        "$\\tilde{y}_s = \\hat{y}_{s\\mid s-1}$ для $s=t+1,\\,\\ldots,\\,t+h$\n",
        "\n",
        "- должна быть доступна **траектория значений** эндогенных переменных $y_t$ (*фактических*);\n",
        "\n",
        "Полезно\n",
        "- для валидации предобученной модели на известном датасете"
      ]
    },
    {
      "cell_type": "markdown",
      "metadata": {
        "id": "nLGeS0uoYmwp"
      },
      "source": [
        "\\begin{aligned}\n",
        "  & t+1\\colon\n",
        "  &\n",
        "  \\rlap{\\overbrace{\n",
        "      \\phantom{\n",
        "        \\ldots\n",
        "        , y_{t-2}\n",
        "        , y_{t-1}\n",
        "        , y_{t  }\n",
        "      }}^{\\color{blue}{\\hat{y}_{t+1\\mid t}}}\n",
        "    }\n",
        "    \\ldots\n",
        "  , y_{t-2}\n",
        "  , y_{t-1}\n",
        "  , y_{t  }\n",
        "  , \\color{red}{y_{t+1}}\n",
        "  , \\color{gray}{y_{t+2}}\n",
        "  , \\ldots\n",
        "  , \\color{gray}{y_{t+h-1}}\n",
        "  , \\color{gray}{y_{t+h}}\n",
        "  , \\ldots\n",
        "\\end{aligned}"
      ]
    },
    {
      "cell_type": "markdown",
      "metadata": {
        "id": "k46I_FQ2Ymwp"
      },
      "source": [
        "\\begin{aligned}\n",
        "  & t+2\\colon\n",
        "  &\n",
        "  \\rlap{\\overbrace{\n",
        "      \\phantom{\n",
        "        \\ldots\n",
        "        , y_{t-2}\n",
        "        , y_{t-1}\n",
        "        , y_{t  }\n",
        "        , y_{t+1}\n",
        "      }}^{\\color{blue}{\\hat{y}_{t+2\\mid t+1}}}\n",
        "    }\n",
        "    \\ldots\n",
        "  , y_{t-2}\n",
        "  , y_{t-1}\n",
        "  , y_{t  }\n",
        "  , y_{t+1}\n",
        "  , \\color{red}{y_{t+2}}\n",
        "  , \\ldots\n",
        "  , \\color{gray}{y_{t+h-1}}\n",
        "  , \\color{gray}{y_{t+h}}\n",
        "  , \\ldots\n",
        "\\end{aligned}"
      ]
    },
    {
      "cell_type": "markdown",
      "metadata": {
        "id": "isE5FQ_NYmwp"
      },
      "source": [
        "\\begin{aligned}\n",
        "  & t+h\\colon\n",
        "  &\n",
        "  \\rlap{\\overbrace{\n",
        "      \\phantom{\n",
        "        \\ldots\n",
        "        , y_{t-2}\n",
        "        , y_{t-1}\n",
        "        , y_{t  }\n",
        "        , y_{t+1}\n",
        "        , y_{t+2}\n",
        "        , \\ldots\n",
        "        , y_{t+h-1}\n",
        "      }}^{\\color{blue}{\\hat{y}_{t+h\\mid t+h-1}}}\n",
        "    }\n",
        "    \\ldots\n",
        "  , y_{t-2}\n",
        "  , y_{t-1}\n",
        "  , y_{t  }\n",
        "  , y_{t+1}\n",
        "  , y_{t+2}\n",
        "  , \\ldots\n",
        "  , y_{t+h-1}\n",
        "  , \\color{red}{y_{t+h}}\n",
        "  , \\ldots\n",
        "\\end{aligned}"
      ]
    },
    {
      "cell_type": "markdown",
      "metadata": {
        "id": "IV1rS_ncYmwp"
      },
      "source": [
        "<br>"
      ]
    },
    {
      "cell_type": "markdown",
      "metadata": {
        "id": "FzqSx6qxYmwp"
      },
      "source": [
        "Будем оценивать точность прогноза по этим метрикам"
      ]
    },
    {
      "cell_type": "markdown",
      "metadata": {
        "id": "ZNxpl2OiYmwq"
      },
      "source": [
        "$$\n",
        "    RMSE(y, \\hat{y}) = \\sqrt{MSE(y, \\hat{y})}\n",
        "\\,. $$"
      ]
    },
    {
      "cell_type": "code",
      "metadata": {
        "id": "83TEF46_Ymwq"
      },
      "source": [
        "def root_mean_squared_error(*args, **kwargs):\n",
        "    from sklearn.metrics import mean_squared_error\n",
        "    return np.sqrt(mean_squared_error(*args, **kwargs))"
      ],
      "execution_count": null,
      "outputs": []
    },
    {
      "cell_type": "markdown",
      "metadata": {
        "id": "fjcCoou3Ymwr"
      },
      "source": [
        "$$ \n",
        "    MAPE(y, \\hat{y})\n",
        "        = \\frac1{m} \\sum_{i=1}^m\n",
        "            \\frac{\\lvert y_i - \\hat{y}_i \\rvert}{\\lvert y_i \\rvert}\n",
        "\\,.$$"
      ]
    },
    {
      "cell_type": "code",
      "metadata": {
        "id": "q8FtB5X1Ymwr"
      },
      "source": [
        "def mean_absolute_percent_error(y_true, y_pred):\n",
        "    pct_error = abs(y_true - y_pred) / abs(y_true)\n",
        "    return pct_error.mean(axis=0) * 100"
      ],
      "execution_count": null,
      "outputs": []
    },
    {
      "cell_type": "markdown",
      "metadata": {
        "id": "SDKtb7T6Ymwr"
      },
      "source": [
        "$$\n",
        "    R^2(y, \\hat{y})\n",
        "        = 1- \\frac{\\sum_{i=1}^m (y_i - \\hat{y}_i)^2}{\\sum_{i=1}^m (y_i - \\bar{y})^2}\n",
        "\\,. $$"
      ]
    },
    {
      "cell_type": "code",
      "metadata": {
        "id": "_PrqtVt3Ymwr"
      },
      "source": [
        "from sklearn.metrics import r2_score"
      ],
      "execution_count": null,
      "outputs": []
    },
    {
      "cell_type": "markdown",
      "metadata": {
        "id": "CrxsVOtrYmws"
      },
      "source": [
        "Соберём их в список"
      ]
    },
    {
      "cell_type": "code",
      "metadata": {
        "id": "VjLiwtDBYmws"
      },
      "source": [
        "scorers = [\n",
        "\n",
        "    (\"rmse\", root_mean_squared_error),\n",
        "    (\"r2\", r2_score),\n",
        "    (\"mape\", mean_absolute_percent_error)\n",
        "]"
      ],
      "execution_count": null,
      "outputs": []
    },
    {
      "cell_type": "markdown",
      "metadata": {
        "id": "iper0SGIYmws"
      },
      "source": [
        "Посмотрим на **динамический** прогноз на $240$ месяцев вперёд"
      ]
    },
    {
      "cell_type": "code",
      "metadata": {
        "id": "HNKZQ61_Ymws"
      },
      "source": [
        "# Получаем прогноз в будущее на 240 месяцев\n",
        "exp_forecast = exp_smooth_fitted.forecast(steps=240).to_frame()\n",
        "\n",
        "exp_forecast = pd.DataFrame(exp_forecast,\n",
        "                            columns=exp_forecast.columns,\n",
        "                            index=exp_forecast.index)"
      ],
      "execution_count": null,
      "outputs": []
    },
    {
      "cell_type": "code",
      "metadata": {
        "colab": {
          "base_uri": "https://localhost:8080/",
          "height": 204
        },
        "id": "hfcB2jnCYhaN",
        "outputId": "8a3b168c-a64b-453c-d9be-8cb54b904f1d"
      },
      "source": [
        "exp_forecast.head()"
      ],
      "execution_count": null,
      "outputs": [
        {
          "output_type": "execute_result",
          "data": {
            "text/plain": [
              "                     0\n",
              "1991-01-31  355.194266\n",
              "1991-02-28  355.979051\n",
              "1991-03-31  356.954437\n",
              "1991-04-30  358.048132\n",
              "1991-05-31  358.460765"
            ],
            "text/html": [
              "\n",
              "  <div id=\"df-add53472-25d5-4372-8a78-54b698c306c6\">\n",
              "    <div class=\"colab-df-container\">\n",
              "      <div>\n",
              "<style scoped>\n",
              "    .dataframe tbody tr th:only-of-type {\n",
              "        vertical-align: middle;\n",
              "    }\n",
              "\n",
              "    .dataframe tbody tr th {\n",
              "        vertical-align: top;\n",
              "    }\n",
              "\n",
              "    .dataframe thead th {\n",
              "        text-align: right;\n",
              "    }\n",
              "</style>\n",
              "<table border=\"1\" class=\"dataframe\">\n",
              "  <thead>\n",
              "    <tr style=\"text-align: right;\">\n",
              "      <th></th>\n",
              "      <th>0</th>\n",
              "    </tr>\n",
              "  </thead>\n",
              "  <tbody>\n",
              "    <tr>\n",
              "      <th>1991-01-31</th>\n",
              "      <td>355.194266</td>\n",
              "    </tr>\n",
              "    <tr>\n",
              "      <th>1991-02-28</th>\n",
              "      <td>355.979051</td>\n",
              "    </tr>\n",
              "    <tr>\n",
              "      <th>1991-03-31</th>\n",
              "      <td>356.954437</td>\n",
              "    </tr>\n",
              "    <tr>\n",
              "      <th>1991-04-30</th>\n",
              "      <td>358.048132</td>\n",
              "    </tr>\n",
              "    <tr>\n",
              "      <th>1991-05-31</th>\n",
              "      <td>358.460765</td>\n",
              "    </tr>\n",
              "  </tbody>\n",
              "</table>\n",
              "</div>\n",
              "      <button class=\"colab-df-convert\" onclick=\"convertToInteractive('df-add53472-25d5-4372-8a78-54b698c306c6')\"\n",
              "              title=\"Convert this dataframe to an interactive table.\"\n",
              "              style=\"display:none;\">\n",
              "        \n",
              "  <svg xmlns=\"http://www.w3.org/2000/svg\" height=\"24px\"viewBox=\"0 0 24 24\"\n",
              "       width=\"24px\">\n",
              "    <path d=\"M0 0h24v24H0V0z\" fill=\"none\"/>\n",
              "    <path d=\"M18.56 5.44l.94 2.06.94-2.06 2.06-.94-2.06-.94-.94-2.06-.94 2.06-2.06.94zm-11 1L8.5 8.5l.94-2.06 2.06-.94-2.06-.94L8.5 2.5l-.94 2.06-2.06.94zm10 10l.94 2.06.94-2.06 2.06-.94-2.06-.94-.94-2.06-.94 2.06-2.06.94z\"/><path d=\"M17.41 7.96l-1.37-1.37c-.4-.4-.92-.59-1.43-.59-.52 0-1.04.2-1.43.59L10.3 9.45l-7.72 7.72c-.78.78-.78 2.05 0 2.83L4 21.41c.39.39.9.59 1.41.59.51 0 1.02-.2 1.41-.59l7.78-7.78 2.81-2.81c.8-.78.8-2.07 0-2.86zM5.41 20L4 18.59l7.72-7.72 1.47 1.35L5.41 20z\"/>\n",
              "  </svg>\n",
              "      </button>\n",
              "      \n",
              "  <style>\n",
              "    .colab-df-container {\n",
              "      display:flex;\n",
              "      flex-wrap:wrap;\n",
              "      gap: 12px;\n",
              "    }\n",
              "\n",
              "    .colab-df-convert {\n",
              "      background-color: #E8F0FE;\n",
              "      border: none;\n",
              "      border-radius: 50%;\n",
              "      cursor: pointer;\n",
              "      display: none;\n",
              "      fill: #1967D2;\n",
              "      height: 32px;\n",
              "      padding: 0 0 0 0;\n",
              "      width: 32px;\n",
              "    }\n",
              "\n",
              "    .colab-df-convert:hover {\n",
              "      background-color: #E2EBFA;\n",
              "      box-shadow: 0px 1px 2px rgba(60, 64, 67, 0.3), 0px 1px 3px 1px rgba(60, 64, 67, 0.15);\n",
              "      fill: #174EA6;\n",
              "    }\n",
              "\n",
              "    [theme=dark] .colab-df-convert {\n",
              "      background-color: #3B4455;\n",
              "      fill: #D2E3FC;\n",
              "    }\n",
              "\n",
              "    [theme=dark] .colab-df-convert:hover {\n",
              "      background-color: #434B5C;\n",
              "      box-shadow: 0px 1px 3px 1px rgba(0, 0, 0, 0.15);\n",
              "      filter: drop-shadow(0px 1px 2px rgba(0, 0, 0, 0.3));\n",
              "      fill: #FFFFFF;\n",
              "    }\n",
              "  </style>\n",
              "\n",
              "      <script>\n",
              "        const buttonEl =\n",
              "          document.querySelector('#df-add53472-25d5-4372-8a78-54b698c306c6 button.colab-df-convert');\n",
              "        buttonEl.style.display =\n",
              "          google.colab.kernel.accessAllowed ? 'block' : 'none';\n",
              "\n",
              "        async function convertToInteractive(key) {\n",
              "          const element = document.querySelector('#df-add53472-25d5-4372-8a78-54b698c306c6');\n",
              "          const dataTable =\n",
              "            await google.colab.kernel.invokeFunction('convertToInteractive',\n",
              "                                                     [key], {});\n",
              "          if (!dataTable) return;\n",
              "\n",
              "          const docLinkHtml = 'Like what you see? Visit the ' +\n",
              "            '<a target=\"_blank\" href=https://colab.research.google.com/notebooks/data_table.ipynb>data table notebook</a>'\n",
              "            + ' to learn more about interactive tables.';\n",
              "          element.innerHTML = '';\n",
              "          dataTable['output_type'] = 'display_data';\n",
              "          await google.colab.output.renderOutput(dataTable, element);\n",
              "          const docLink = document.createElement('div');\n",
              "          docLink.innerHTML = docLinkHtml;\n",
              "          element.appendChild(docLink);\n",
              "        }\n",
              "      </script>\n",
              "    </div>\n",
              "  </div>\n",
              "  "
            ]
          },
          "metadata": {},
          "execution_count": 93
        }
      ]
    },
    {
      "cell_type": "code",
      "metadata": {
        "colab": {
          "base_uri": "https://localhost:8080/",
          "height": 350
        },
        "id": "J2YBubrfYmws",
        "outputId": "de4417c0-21c3-4d1c-f956-19a005769e60"
      },
      "source": [
        "# создадим и настроим холст\n",
        "fig = plt.figure(figsize=(12, 5))\n",
        "ax = fig.add_subplot(111, xlabel=\"Дата\", ylabel=\"значение\", title=\"Тестовый интервал\")\n",
        "\n",
        "# нарисуем динамику\n",
        "holdout[target_column].plot(ax=ax, color=\"black\", lw=2, alpha=1., zorder=-10)\n",
        "\n",
        "exp_forecast[0].plot(ax=ax, color=\"C0\", lw=2, alpha=0.75, label=\"динамический прогноз H-W\")\n",
        "\n",
        "ax.grid(which=\"major\", axis=\"both\")\n",
        "ax.legend() ;"
      ],
      "execution_count": null,
      "outputs": [
        {
          "output_type": "display_data",
          "data": {
            "text/plain": [
              "<Figure size 864x360 with 1 Axes>"
            ],
            "image/png": "[encoded data removed]"
          },
          "metadata": {
            "needs_background": "light"
          }
        }
      ]
    },
    {
      "cell_type": "code",
      "metadata": {
        "colab": {
          "base_uri": "https://localhost:8080/"
        },
        "id": "Xq61gE44ZDX1",
        "outputId": "db423c18-9224-4375-cd77-694d0f9ca02e"
      },
      "source": [
        "holdout[target_column]"
      ],
      "execution_count": null,
      "outputs": [
        {
          "output_type": "execute_result",
          "data": {
            "text/plain": [
              "дата\n",
              "1991-01-31    354.925\n",
              "1991-02-28    355.950\n",
              "1991-03-31    357.400\n",
              "1991-04-30    358.700\n",
              "1991-05-31    359.100\n",
              "               ...   \n",
              "2001-08-31    369.050\n",
              "2001-09-30    367.750\n",
              "2001-10-31    368.180\n",
              "2001-11-30    369.775\n",
              "2001-12-31    371.200\n",
              "Freq: M, Name: концентрация CO2, Length: 132, dtype: float64"
            ]
          },
          "metadata": {},
          "execution_count": 95
        }
      ]
    },
    {
      "cell_type": "markdown",
      "metadata": {
        "id": "E3RL05ynYmwt"
      },
      "source": [
        "Рассчитаем метрики"
      ]
    },
    {
      "cell_type": "code",
      "metadata": {
        "colab": {
          "base_uri": "https://localhost:8080/"
        },
        "id": "ZiRtHt8yu_dY",
        "outputId": "23e54d66-43c0-4626-b450-bb48f1c83afc"
      },
      "source": [
        "for name, metric in scorers:\n",
        "  print(name)\n",
        "  print(metric(holdout[target_column], exp_forecast.iloc[:len(holdout), 0]))\n"
      ],
      "execution_count": null,
      "outputs": [
        {
          "output_type": "stream",
          "name": "stdout",
          "text": [
            "rmse\n",
            "0.952907812421045\n",
            "r2\n",
            "0.9706783831089344\n",
            "mape\n",
            "0.22175097086189044\n"
          ]
        }
      ]
    },
    {
      "cell_type": "markdown",
      "metadata": {
        "id": "6HdnDk7dYmwt"
      },
      "source": [
        "Сравним с простейшим бейзлайном -- **прогноз последним известным значением**"
      ]
    },
    {
      "cell_type": "code",
      "metadata": {
        "id": "80bYw8miYmwt"
      },
      "source": [
        "last_known_forecast = full_dataset.shift(1).loc[holdout_slice]"
      ],
      "execution_count": null,
      "outputs": []
    },
    {
      "cell_type": "markdown",
      "metadata": {
        "id": "ZOJEusIHvMBe"
      },
      "source": [
        "**Упражение**: посчитайте метрики качества для модели бейзлайна"
      ]
    },
    {
      "cell_type": "code",
      "metadata": {
        "id": "ON1mBEJIvSRn",
        "colab": {
          "base_uri": "https://localhost:8080/"
        },
        "outputId": "ec496f15-cea6-44f7-b32b-20be12cdf91b"
      },
      "source": [
        "# YOUR_CODE\n",
        "for name, metric in scorers:\n",
        "    print(name)\n",
        "    print(metric(holdout[target_column], last_known_forecast.iloc[:len(holdout), 0]))"
      ],
      "execution_count": null,
      "outputs": [
        {
          "output_type": "stream",
          "name": "stdout",
          "text": [
            "rmse\n",
            "1.2751605662413534\n",
            "r2\n",
            "0.9474931593080971\n",
            "mape\n",
            "0.31507572424226127\n"
          ]
        }
      ]
    },
    {
      "cell_type": "markdown",
      "metadata": {
        "id": "BTOe0cffkDxd"
      },
      "source": [
        "# Выводы\n",
        "\n",
        "\n",
        "**На этом семинаре мы**\n",
        "\n",
        "* Рассмотрели задачу предсказания для временных рядов\n",
        "* Изучили способы заполнения пропущенных данных во временных рядах\n",
        "* Рассмотрели задачу \"остационаривания\" временного ряда\n",
        "* Познакомились с библиотекой со статистическими моделями `statsmodels`\n",
        "* Обучили предсказательную модель для временных рядов\n",
        "* Научились валидировать модели временных рядов.\n",
        "\n",
        "---\n",
        "\n"
      ]
    }
  ]
}