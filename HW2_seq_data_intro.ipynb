{
  "cells": [
    {
      "cell_type": "markdown",
      "metadata": {
        "id": "view-in-github",
        "colab_type": "text"
      },
      "source": [
        "<a href=\"https://colab.research.google.com/github/ol3gka/Skoltech_Sequential_Data_Modelling/blob/main/HW2_seq_data_intro.ipynb\" target=\"_parent\"><img src=\"https://colab.research.google.com/assets/colab-badge.svg\" alt=\"Open In Colab\"/></a>"
      ]
    },
    {
      "cell_type": "markdown",
      "source": [
        "# Классификация временных рядов с помощью модели Transformer\n",
        "\n",
        "Максимальное чиисло баллов - 50, проходной балл - 20."
      ],
      "metadata": {
        "id": "mezqjgLK1bLA"
      }
    },
    {
      "cell_type": "markdown",
      "source": [
        "## Загрузка данных (15 баллов)"
      ],
      "metadata": {
        "id": "EoZ4T0_d1bLC"
      }
    },
    {
      "cell_type": "code",
      "execution_count": null,
      "source": [
        "import numpy as np\n",
        "\n",
        "\n",
        "def readucr(filename):\n",
        "    data = np.loadtxt(filename, delimiter=\"\\t\")\n",
        "    y = data[:, 0]\n",
        "    x = data[:, 1:]\n",
        "    return x, y.astype(int)\n",
        "\n",
        "\n",
        "root_url = \"https://raw.githubusercontent.com/hfawaz/cd-diagram/master/FordA/\"\n",
        "\n",
        "x_train, y_train = readucr(root_url + \"FordA_TRAIN.tsv\")\n",
        "x_test, y_test = readucr(root_url + \"FordA_TEST.tsv\")\n",
        "\n",
        "x_train = x_train.reshape((x_train.shape[0], x_train.shape[1], 1))\n",
        "x_test = x_test.reshape((x_test.shape[0], x_test.shape[1], 1))"
      ],
      "outputs": [],
      "metadata": {
        "id": "FMmTcbbY1bLD"
      }
    },
    {
      "cell_type": "markdown",
      "source": [
        "Зафиксируйте число уникальных меток классов в переменной n_classes (5 баллов)"
      ],
      "metadata": {
        "id": "uT83g5SA20Ks"
      }
    },
    {
      "cell_type": "code",
      "source": [
        "n_classes = "
      ],
      "metadata": {
        "id": "uXsCYi4H29Do"
      },
      "execution_count": null,
      "outputs": []
    },
    {
      "cell_type": "markdown",
      "source": [
        "Рандомно перемешайте выборки (5 баллов)\n"
      ],
      "metadata": {
        "id": "Xhpig5Sk3gkC"
      }
    },
    {
      "cell_type": "code",
      "source": [],
      "metadata": {
        "id": "32mzYhgX3kGn"
      },
      "execution_count": null,
      "outputs": []
    },
    {
      "cell_type": "markdown",
      "source": [
        "Преобразуйте метки классов в 0 и 1 (5 баллов)"
      ],
      "metadata": {
        "id": "kUJlFGBJ3V8p"
      }
    },
    {
      "cell_type": "code",
      "source": [],
      "metadata": {
        "id": "ZVckvW5u3U1l"
      },
      "execution_count": null,
      "outputs": []
    },
    {
      "cell_type": "markdown",
      "source": [
        "## Модель (15 баллов)\n",
        "\n",
        "Наша модель обрабатывает тензор формы `(размер батча, длина последовательности, признаки)`,\n",
        "где «длина последовательности» — это количество временных шагов, а «признаки» - это каждый входной временной ряд.\n"
      ],
      "metadata": {
        "id": "wi8M1vtT1bLF"
      }
    },
    {
      "cell_type": "code",
      "execution_count": null,
      "source": [
        "from tensorflow import keras\n",
        "from tensorflow.keras import layers"
      ],
      "outputs": [],
      "metadata": {
        "id": "yVfuxlzu1bLG"
      }
    },
    {
      "cell_type": "markdown",
      "source": [
        "Дополните энкодер (15 баллов)"
      ],
      "metadata": {
        "id": "Dx4wHilg4YxY"
      }
    },
    {
      "cell_type": "code",
      "execution_count": null,
      "source": [
        "def transformer_encoder(inputs, head_size, num_heads, ff_dim, dropout=0):\n",
        "    x = layers.LayerNormalization(epsilon=1e-6)(inputs)\n",
        "    x = layers.MultiHeadAttention(\n",
        "        key_dim=, num_heads=, dropout=\n",
        "    )(x, x)\n",
        "    x = layers.Dropout(=)(x)\n",
        "    res = x + inputs\n",
        "\n",
        "    # Напишите Feed Forward блок \n",
        "    x = \n",
        "    return x + res\n"
      ],
      "outputs": [],
      "metadata": {
        "id": "BlxYQeDA1bLH"
      }
    },
    {
      "cell_type": "code",
      "execution_count": null,
      "source": [
        "def build_model(\n",
        "    input_shape,\n",
        "    head_size,\n",
        "    num_heads,\n",
        "    ff_dim,\n",
        "    num_transformer_blocks,\n",
        "    mlp_units,\n",
        "    dropout=0,\n",
        "    mlp_dropout=0,\n",
        "):\n",
        "    inputs = keras.Input(shape=input_shape)\n",
        "    x = inputs\n",
        "    for _ in range(num_transformer_blocks):\n",
        "        x = transformer_encoder(x, head_size, num_heads, ff_dim, dropout)\n",
        "\n",
        "    #уменьшим выходной тензор части «TransformerEncoder» до вектора признаков для каждой точки данных в текущем батчее\n",
        "    x = layers.GlobalAveragePooling1D(data_format=\"channels_first\")(x)\n",
        "    for dim in mlp_units:\n",
        "        x = layers.Dense(dim, activation=\"relu\")(x)\n",
        "        x = layers.Dropout(mlp_dropout)(x)\n",
        "    outputs = layers.Dense(n_classes, activation=\"softmax\")(x)\n",
        "    return keras.Model(inputs, outputs)\n"
      ],
      "outputs": [],
      "metadata": {
        "id": "9PEdYsU11bLI"
      }
    },
    {
      "cell_type": "markdown",
      "source": [
        "## Обучите и оцените качетсво модели (10 баллов)"
      ],
      "metadata": {
        "id": "92pGY_IA1bLJ"
      }
    },
    {
      "cell_type": "code",
      "execution_count": null,
      "source": [
        "input_shape = x_train.shape[1:]\n",
        "\n",
        "model = build_model(\n",
        "    input_shape,\n",
        "    head_size=256,\n",
        "    num_heads=4,\n",
        "    ff_dim=4,\n",
        "    num_transformer_blocks=4,\n",
        "    mlp_units=[128],\n",
        "    mlp_dropout=0.4,\n",
        "    dropout=0.25,\n",
        ")\n",
        "\n",
        "#Скомпелируйте модель, используя sparse_categorical_crossentropy функцию потерь и sparse_categorical_accuracy метрику\n",
        "model.....\n",
        "model.summary()\n",
        "\n",
        "model.fit(\n",
        "    x_train,\n",
        "    y_train,\n",
        "    validation_split=0.2,\n",
        "    epochs=200,\n",
        "    batch_size=64\n",
        ")\n",
        "\n",
        "model.evaluate(x_test, y_test, verbose=1)"
      ],
      "outputs": [],
      "metadata": {
        "id": "iPSaxmUh1bLJ"
      }
    },
    {
      "cell_type": "markdown",
      "source": [
        "# Сделайте выводы по обучению и валидации модеели (10 баллов)"
      ],
      "metadata": {
        "id": "dgWJQHgT56aY"
      }
    }
  ],
  "metadata": {
    "colab": {
      "provenance": [],
      "include_colab_link": true
    },
    "kernelspec": {
      "display_name": "Python 3",
      "language": "python",
      "name": "python3"
    },
    "language_info": {
      "codemirror_mode": {
        "name": "ipython",
        "version": 3
      },
      "file_extension": ".py",
      "mimetype": "text/x-python",
      "name": "python",
      "nbconvert_exporter": "python",
      "pygments_lexer": "ipython3",
      "version": "3.7.0"
    }
  },
  "nbformat": 4,
  "nbformat_minor": 0
}