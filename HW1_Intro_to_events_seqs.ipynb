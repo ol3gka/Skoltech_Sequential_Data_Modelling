{
  "nbformat": 4,
  "nbformat_minor": 0,
  "metadata": {
    "colab": {
      "provenance": []
    },
    "kernelspec": {
      "name": "python3",
      "display_name": "Python 3"
    },
    "language_info": {
      "name": "python"
    }
  },
  "cells": [
    {
      "cell_type": "markdown",
      "source": [
        "# Домашнее задание 1\n",
        "В этом домашнем задании мы предлагаем вам решить задачу регрессии.\n",
        "\n",
        "### В задаче регрессии:\n",
        "вы обучите разные модели отдельно на двух наборах данных и сравните их производительность (MAPE, $R^2$).\n",
        "\n",
        "$$ \n",
        "    MAPE(y, \\hat{y})\n",
        "        = \\frac1{m} \\sum_{i=1}^m\n",
        "            \\frac{\\lvert y_i - \\hat{y}_i \\rvert}{\\lvert y_i \\rvert}\n",
        "\\,.$$\n",
        "\n",
        "\n",
        "$$\n",
        "    R^2(y, \\hat{y})\n",
        "        = 1- \\frac{\\sum_{i=1}^m (y_i - \\hat{y}_i)^2}{\\sum_{i=1}^m (y_i - \\bar{y})^2}\n",
        "\\,. $$\n",
        "\n",
        "\n",
        "Мы будем использовать два набора данных:\n",
        "\n",
        "1) Количество пассажиров авиакомпаний в 60-х (простой)\n",
        "2) Набор данных электрических трансформаторов (ETT) (сложный)\n",
        "\n",
        "Нам нужен простой набор данных, чтобы убедиться, что наша модель работает правильно и может быть применена к сложному набору данных.\n",
        "\n",
        "\n",
        "\n",
        "### Максимальное количество баллов: **50 баллов**\n",
        "### Проходной порог: **25 баллов**"
      ],
      "metadata": {
        "id": "gOPcOZScQUo7"
      }
    },
    {
      "cell_type": "code",
      "source": [
        "from sklearn.metrics import r2_score, mean_absolute_percentage_error"
      ],
      "metadata": {
        "id": "wc5_HHhJZUF_"
      },
      "execution_count": null,
      "outputs": []
    },
    {
      "cell_type": "code",
      "source": [
        "# Number of airlines passengers in 60's\n",
        "!curl https://raw.githubusercontent.com/jbrownlee/Datasets/master/airline-passengers.csv --output ./airline-passengers.csv"
      ],
      "metadata": {
        "colab": {
          "base_uri": "https://localhost:8080/"
        },
        "id": "WwbpUXsGN2bz",
        "outputId": "794e9fb0-9997-42aa-d378-df6ca955735b"
      },
      "execution_count": null,
      "outputs": [
        {
          "output_type": "stream",
          "name": "stdout",
          "text": [
            "  % Total    % Received % Xferd  Average Speed   Time    Time     Time  Current\n",
            "                                 Dload  Upload   Total   Spent    Left  Speed\n",
            "100  2180  100  2180    0     0  13797      0 --:--:-- --:--:-- --:--:-- 13797\n"
          ]
        }
      ]
    },
    {
      "cell_type": "code",
      "source": [
        "# # Electricity Transformer Dataset (ETT)\n",
        "!git clone https://github.com/zhouhaoyi/ETDataset.git"
      ],
      "metadata": {
        "id": "eDeeWU9cN2s5"
      },
      "execution_count": null,
      "outputs": []
    },
    {
      "cell_type": "markdown",
      "source": [
        "# Разведочный анализ данных EDA, **max 8 баллов.**\n",
        "\n",
        "\n"
      ],
      "metadata": {
        "id": "IM8dpvEs9Yks"
      }
    },
    {
      "cell_type": "markdown",
      "source": [
        "1)  Загрузите данные и выведите на экран первые 15 строк таблиц, **1 б.**"
      ],
      "metadata": {
        "id": "zg1kavH5Wp3e"
      }
    },
    {
      "cell_type": "code",
      "source": [
        "import pandas as pd\n",
        "import numpy as np\n",
        "import matplotlib.pyplot as plt\n",
        "import seaborn as sns"
      ],
      "metadata": {
        "id": "uMH35Lh16CqK"
      },
      "execution_count": null,
      "outputs": []
    },
    {
      "cell_type": "code",
      "source": [
        "# read & plot air passengers dataset \n",
        "air_passangers_path = './airline-passengers.csv'\n",
        "data_air = ...\n"
      ],
      "metadata": {
        "id": "YnMzVgGRdtSg"
      },
      "execution_count": null,
      "outputs": []
    },
    {
      "cell_type": "code",
      "source": [
        "# read & plot ett dataset \n",
        "ett_path = './ETDataset/ETT-small/ETTh1.csv'\n",
        "data_ett = ...\n"
      ],
      "metadata": {
        "id": "Q5SNgt3Thj5w"
      },
      "execution_count": null,
      "outputs": []
    },
    {
      "cell_type": "markdown",
      "source": [
        "3) Сглаживание данных, **2 б.**"
      ],
      "metadata": {
        "id": "5NKVOr1COcwT"
      }
    },
    {
      "cell_type": "code",
      "source": [
        "# smoothing air passengers dataset \n"
      ],
      "metadata": {
        "id": "R5HJcxxbObnr"
      },
      "execution_count": null,
      "outputs": []
    },
    {
      "cell_type": "code",
      "source": [
        "# smoothing ett dataset \n"
      ],
      "metadata": {
        "id": "IePoarLRhs2i"
      },
      "execution_count": null,
      "outputs": []
    },
    {
      "cell_type": "markdown",
      "source": [
        "4) Отрисуйте график автокорреляции, **2 б.**"
      ],
      "metadata": {
        "id": "K9VQNtXnDY4F"
      }
    },
    {
      "cell_type": "code",
      "source": [
        "from statsmodels.graphics.tsaplots import plot_acf"
      ],
      "metadata": {
        "id": "IG1htdDqSlAZ"
      },
      "execution_count": null,
      "outputs": []
    },
    {
      "cell_type": "code",
      "source": [
        "# autocorrelation curve air passengers dataset \n"
      ],
      "metadata": {
        "id": "kI6hOA1whx5L"
      },
      "execution_count": null,
      "outputs": []
    },
    {
      "cell_type": "code",
      "source": [
        "# autocorrelation curve ett dataset \n"
      ],
      "metadata": {
        "id": "qK6Ko2HnQLtf"
      },
      "execution_count": null,
      "outputs": []
    },
    {
      "cell_type": "markdown",
      "source": [
        "5) Оцените период сезонности на основе кривой полной автокорреляции, **3 б.**"
      ],
      "metadata": {
        "id": "t6cqgUTrDvGy"
      }
    },
    {
      "cell_type": "code",
      "source": [
        "# seasonality air passengers dataset \n"
      ],
      "metadata": {
        "id": "bE6TzMaF9sok"
      },
      "execution_count": null,
      "outputs": []
    },
    {
      "cell_type": "code",
      "source": [
        "# seasonality ett dataset \n"
      ],
      "metadata": {
        "id": "7u__nUydh3gX"
      },
      "execution_count": null,
      "outputs": []
    },
    {
      "cell_type": "markdown",
      "source": [
        "# Подготовьте данные к обучению, **4 б.**\n"
      ],
      "metadata": {
        "id": "kEfjnyXTFTsD"
      }
    },
    {
      "cell_type": "markdown",
      "source": [
        "1) Разделите выборку на обучающую и тестовую, **2 pt.**\n"
      ],
      "metadata": {
        "id": "Sq7Ac8XlFZgi"
      }
    },
    {
      "cell_type": "code",
      "source": [
        "X_train_air = \n",
        "Y_train_air = \n",
        "\n",
        "X_test_air = \n",
        "Y_test_air = \n",
        "\n",
        "X_train_ett = \n",
        "Y_train_ett = \n",
        "\n",
        "X_test_ett = \n",
        "Y_test_ett = "
      ],
      "metadata": {
        "id": "wQE5ovI0Fjzr"
      },
      "execution_count": null,
      "outputs": []
    },
    {
      "cell_type": "markdown",
      "source": [
        "2) Normalize data using `MinMaxScaler` or `StandartScaler`, **2 pt.**"
      ],
      "metadata": {
        "id": "tUjxv9nvHaAO"
      }
    },
    {
      "cell_type": "code",
      "source": [
        "from sklearn.pipeline import Pipeline\n",
        "from sklearn.preprocessing import StandardScaler, MinMaxScaler"
      ],
      "metadata": {
        "id": "FLNVOD8iHZeR"
      },
      "execution_count": null,
      "outputs": []
    },
    {
      "cell_type": "code",
      "source": [
        "# normalize air passengers dataset\n"
      ],
      "metadata": {
        "id": "asZq1j4tfVtd"
      },
      "execution_count": null,
      "outputs": []
    },
    {
      "cell_type": "code",
      "source": [
        "# normalize ett dataset\n"
      ],
      "metadata": {
        "id": "hEI0CCbVhKkU"
      },
      "execution_count": null,
      "outputs": []
    },
    {
      "cell_type": "markdown",
      "source": [
        "# Примените авторегрессионную модель, **max 15 баллов.**\n"
      ],
      "metadata": {
        "id": "PALr8ZHQQGQl"
      }
    },
    {
      "cell_type": "markdown",
      "source": [
        "1) ARIMA, **5 б.**"
      ],
      "metadata": {
        "id": "T2dDcNl8FFGm"
      }
    },
    {
      "cell_type": "code",
      "source": [
        "!pip install pmdarima\n",
        "import pmdarima as pm"
      ],
      "metadata": {
        "id": "LXJYH8pSNp7Q"
      },
      "execution_count": null,
      "outputs": []
    },
    {
      "cell_type": "code",
      "source": [
        "# train for air passengers dataset\n",
        "arima = pm.auto_arima(...)\n",
        "\n",
        "preds_arima = "
      ],
      "metadata": {
        "id": "fW8BYeLpQC3d"
      },
      "execution_count": null,
      "outputs": []
    },
    {
      "cell_type": "code",
      "source": [
        "r2_score(preds_arima, Y_test_air), mean_absolute_percentage_error(preds_arima, Y_test_air)"
      ],
      "metadata": {
        "id": "PXfrR2gPglGj"
      },
      "execution_count": null,
      "outputs": []
    },
    {
      "cell_type": "code",
      "source": [
        "arima.plot_diagnostics(figsize=(9,9))\n",
        "plt.show()"
      ],
      "metadata": {
        "id": "k8CxkbTagtQC"
      },
      "execution_count": null,
      "outputs": []
    },
    {
      "cell_type": "code",
      "source": [
        "# train for ett dataset\n",
        "arima = pm.auto_arima(...)\n",
        "\n",
        "preds_arima = "
      ],
      "metadata": {
        "id": "3s4ti5ymgrTW"
      },
      "execution_count": null,
      "outputs": []
    },
    {
      "cell_type": "code",
      "source": [
        "r2_score(preds_arima, Y_test_ett), mean_absolute_percentage_error(preds_arima, Y_test_ett)"
      ],
      "metadata": {
        "id": "mFA96fX9gmcI"
      },
      "execution_count": null,
      "outputs": []
    },
    {
      "cell_type": "code",
      "source": [
        "arima.plot_diagnostics(figsize=(9,9))\n",
        "plt.show()"
      ],
      "metadata": {
        "id": "8Tclc23ff4by"
      },
      "execution_count": null,
      "outputs": []
    },
    {
      "cell_type": "markdown",
      "source": [
        "2) Holt-Winters, **5 б.**"
      ],
      "metadata": {
        "id": "nxOWKDoHFGjy"
      }
    },
    {
      "cell_type": "code",
      "source": [
        "from statsmodels.tsa.holtwinters import ExponentialSmoothing"
      ],
      "metadata": {
        "colab": {
          "base_uri": "https://localhost:8080/"
        },
        "id": "bhhPJmPs9tmt",
        "outputId": "5425d31f-c208-4a71-df5f-88c094484d21"
      },
      "execution_count": null,
      "outputs": [
        {
          "output_type": "stream",
          "name": "stderr",
          "text": [
            "/usr/local/lib/python3.7/dist-packages/statsmodels/tools/_testing.py:19: FutureWarning: pandas.util.testing is deprecated. Use the functions in the public API at pandas.testing instead.\n",
            "  import pandas.util.testing as tm\n"
          ]
        }
      ]
    },
    {
      "cell_type": "code",
      "source": [
        "# train for air passengers dataset\n",
        "\n",
        "exp_smoothing = ExponentialSmoothing(...)\n",
        "\n",
        "exp_smooth_fitted = exp_smooth.fit()\n",
        "series_fitted = exp_smooth_fitted.fittedvalues.to_frame()"
      ],
      "metadata": {
        "id": "pNH_7bpUQDC7"
      },
      "execution_count": null,
      "outputs": []
    },
    {
      "cell_type": "code",
      "source": [
        "r2_score(preds_exp, Y_test_air), mean_absolute_percentage_error(preds_exp, Y_test_air)"
      ],
      "metadata": {
        "id": "nYa5LPzkga_P"
      },
      "execution_count": null,
      "outputs": []
    },
    {
      "cell_type": "code",
      "source": [
        "# train for ett dataset\n",
        "\n",
        "exp_smoothing = ExponentialSmoothing(...)\n",
        "\n",
        "exp_smooth_fitted = exp_smooth.fit()\n",
        "series_fitted = exp_smooth_fitted.fittedvalues.to_frame()"
      ],
      "metadata": {
        "id": "5c0kiZqDhTlI"
      },
      "execution_count": null,
      "outputs": []
    },
    {
      "cell_type": "code",
      "source": [
        "r2_score(preds_exp, Y_test_ett), mean_absolute_percentage_error(preds_exp, Y_test_ett)"
      ],
      "metadata": {
        "id": "QX9ZrbM6gdPd"
      },
      "execution_count": null,
      "outputs": []
    },
    {
      "cell_type": "markdown",
      "source": [
        "# Используйте RNN: LSTM и GRU, **20 б.**\n",
        "Подсказка: чтобы сделать модель более сложной, вы можете добавить слой RNN «поверх» предыдущего."
      ],
      "metadata": {
        "id": "JGoDbP0z9vqs"
      }
    },
    {
      "cell_type": "code",
      "source": [
        "import keras\n",
        "\n"
      ],
      "metadata": {
        "id": "MoDj2NBk9uXk"
      },
      "execution_count": null,
      "outputs": []
    },
    {
      "cell_type": "code",
      "source": [
        "# тренируем две модели: для авиапассажиров и набор данных ett\n",
        "\n"
      ],
      "metadata": {
        "id": "dV9_lakKR9Ta"
      },
      "execution_count": null,
      "outputs": []
    },
    {
      "cell_type": "code",
      "source": [
        "r2_score(preds_rnn, Y_test_air), mean_absolute_percentage_error(preds_rnn, Y_test_air)"
      ],
      "metadata": {
        "id": "HbNfJBncgX3q"
      },
      "execution_count": null,
      "outputs": []
    },
    {
      "cell_type": "code",
      "source": [
        "r2_score(preds_rnn, Y_test_ett), mean_absolute_percentage_error(preds_rnn, Y_test_ett)"
      ],
      "metadata": {
        "id": "msgaEZGKgYMu"
      },
      "execution_count": null,
      "outputs": []
    },
    {
      "cell_type": "markdown",
      "source": [
        "# Сделайте выводы, **3 б.**"
      ],
      "metadata": {
        "id": "v4Ea0qZWRTv1"
      }
    },
    {
      "cell_type": "markdown",
      "source": [
        "Текст тут"
      ],
      "metadata": {
        "id": "Qfx2XeV-RZLb"
      }
    }
  ]
}