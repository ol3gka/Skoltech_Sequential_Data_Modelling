{
  "cells": [
    {
      "cell_type": "markdown",
      "source": [
        "# Классификация временных рядов с помощью модели Transformer\n",
        "\n",
        "Максимальное чиисло баллов - 50, проходной балл - 20."
      ],
      "metadata": {
        "id": "mezqjgLK1bLA"
      }
    },
    {
      "cell_type": "markdown",
      "source": [
        "## Загрузка данных (15 баллов)"
      ],
      "metadata": {
        "id": "EoZ4T0_d1bLC"
      }
    },
    {
      "cell_type": "code",
      "execution_count": null,
      "source": [
        "import numpy as np\n",
        "\n",
        "\n",
        "def readucr(filename):\n",
        "    data = np.loadtxt(filename, delimiter=\"\\t\")\n",
        "    y = data[:, 0]\n",
        "    x = data[:, 1:]\n",
        "    return x, y.astype(int)\n",
        "\n",
        "\n",
        "root_url = \"https://raw.githubusercontent.com/hfawaz/cd-diagram/master/FordA/\"\n",
        "\n",
        "x_train, y_train = readucr(root_url + \"FordA_TRAIN.tsv\")\n",
        "x_test, y_test = readucr(root_url + \"FordA_TEST.tsv\")\n",
        "\n",
        "x_train = x_train.reshape((x_train.shape[0], x_train.shape[1], 1))\n",
        "x_test = x_test.reshape((x_test.shape[0], x_test.shape[1], 1))"
      ],
      "outputs": [],
      "metadata": {
        "id": "FMmTcbbY1bLD"
      }
    },
    {
      "cell_type": "markdown",
      "source": [
        "Зафиксируйте число уникальных меток классов в переменной n_classes (5 баллов)"
      ],
      "metadata": {
        "id": "uT83g5SA20Ks"
      }
    },
    {
      "cell_type": "code",
      "source": [
        "n_classes = len(np.unique(y_test))"
      ],
      "metadata": {
        "id": "uXsCYi4H29Do"
      },
      "execution_count": null,
      "outputs": []
    },
    {
      "cell_type": "markdown",
      "source": [
        "Рандомно перемешайте выборки (5 баллов)\n"
      ],
      "metadata": {
        "id": "Xhpig5Sk3gkC"
      }
    },
    {
      "cell_type": "code",
      "source": [
        "from sklearn.utils import shuffle\n",
        "x_train, y_train = shuffle(x_train, y_train, random_state=1)\n",
        "x_test, y_test = shuffle(x_test, y_test, random_state=1)"
      ],
      "metadata": {
        "id": "32mzYhgX3kGn"
      },
      "execution_count": null,
      "outputs": []
    },
    {
      "cell_type": "markdown",
      "source": [
        "Преобразуйте метки классов в 0 и 1 (5 баллов)"
      ],
      "metadata": {
        "id": "kUJlFGBJ3V8p"
      }
    },
    {
      "cell_type": "code",
      "source": [
        "y_train[y_train == -1] = 0\n",
        "y_train[y_train == 1] = 1\n",
        "\n",
        "y_test[y_test == -1] = 0\n",
        "y_test[y_test == 1] = 1"
      ],
      "metadata": {
        "id": "pz-UUIm8qVif"
      },
      "execution_count": null,
      "outputs": []
    },
    {
      "cell_type": "markdown",
      "source": [
        "## Модель (15 баллов)\n",
        "\n",
        "Наша модель обрабатывает тензор формы `(размер батча, длина последовательности, признаки)`,\n",
        "где «длина последовательности» — это количество временных шагов, а «признаки» - это каждый входной временной ряд.\n"
      ],
      "metadata": {
        "id": "wi8M1vtT1bLF"
      }
    },
    {
      "cell_type": "code",
      "execution_count": null,
      "source": [
        "from tensorflow import keras\n",
        "from tensorflow.keras import layers"
      ],
      "outputs": [],
      "metadata": {
        "id": "yVfuxlzu1bLG"
      }
    },
    {
      "cell_type": "markdown",
      "source": [
        "Дополните энкодер (15 баллов)"
      ],
      "metadata": {
        "id": "Dx4wHilg4YxY"
      }
    },
    {
      "cell_type": "code",
      "execution_count": null,
      "source": [
        "def transformer_encoder(inputs, head_size, num_heads, ff_dim, dropout=0):\n",
        "    x = layers.LayerNormalization(epsilon=1e-6)(inputs)\n",
        "    x = layers.MultiHeadAttention(\n",
        "        key_dim = head_size, num_heads = num_heads , dropout = 0\n",
        "    )(x, x)\n",
        "    x = layers.Dropout(dropout)(x)\n",
        "    res = x + inputs\n",
        "\n",
        "    # Напишите Feed Forward блок \n",
        "    x = layers.Dense(ff_dim, activation=\"relu\")(x)\n",
        "    x = layers.Dense(head_size)(x)\n",
        "    return x + res\n"
      ],
      "outputs": [],
      "metadata": {
        "id": "BlxYQeDA1bLH"
      }
    },
    {
      "cell_type": "code",
      "execution_count": null,
      "source": [
        "def build_model(\n",
        "    input_shape,\n",
        "    head_size,\n",
        "    num_heads,\n",
        "    ff_dim,\n",
        "    num_transformer_blocks,\n",
        "    mlp_units,\n",
        "    dropout=0,\n",
        "    mlp_dropout=0,\n",
        "):\n",
        "    inputs = keras.Input(shape=input_shape)\n",
        "    x = inputs\n",
        "    for _ in range(num_transformer_blocks):\n",
        "        x = transformer_encoder(x, head_size, num_heads, ff_dim, dropout)\n",
        "\n",
        "    #уменьшим выходной тензор части «TransformerEncoder» до вектора признаков для каждой точки данных в текущем батчее\n",
        "    x = layers.GlobalAveragePooling1D(data_format=\"channels_first\")(x)\n",
        "    for dim in mlp_units:\n",
        "        x = layers.Dense(dim, activation=\"relu\")(x)\n",
        "        x = layers.Dropout(mlp_dropout)(x)\n",
        "    outputs = layers.Dense(n_classes, activation=\"softmax\")(x)\n",
        "    return keras.Model(inputs, outputs)\n"
      ],
      "outputs": [],
      "metadata": {
        "id": "9PEdYsU11bLI"
      }
    },
    {
      "cell_type": "markdown",
      "source": [
        "## Обучите и оцените качетсво модели (10 баллов)"
      ],
      "metadata": {
        "id": "92pGY_IA1bLJ"
      }
    },
    {
      "cell_type": "code",
      "execution_count": null,
      "source": [
        "input_shape = x_train.shape[1:]\n",
        "\n",
        "model = build_model(\n",
        "    input_shape,\n",
        "    head_size=256,\n",
        "    num_heads=4,\n",
        "    ff_dim=4,\n",
        "    num_transformer_blocks=2,\n",
        "    mlp_units=[128],\n",
        "    mlp_dropout=0.2,\n",
        "    dropout=0.25,\n",
        ")\n",
        "\n",
        "#Скомпелируйте модель, используя sparse_categorical_crossentropy функцию потерь и sparse_categorical_accuracy метрику\n",
        "model.compile(optimizer=\"adam\",\n",
        "              loss=\"sparse_categorical_crossentropy\",\n",
        "              metrics=[\"sparse_categorical_accuracy\"])\n",
        "\n",
        "model.summary()\n",
        "\n",
        "history = model.fit(\n",
        "    x_train,\n",
        "    y_train,\n",
        "    validation_split=0.2,\n",
        "    epochs=5,\n",
        "    batch_size=64\n",
        ")\n",
        "\n",
        "model.evaluate(x_test, y_test, verbose=1)"
      ],
      "outputs": [
        {
          "output_type": "stream",
          "name": "stdout",
          "text": [
            "Model: \"model_1\"\n",
            "__________________________________________________________________________________________________\n",
            " Layer (type)                   Output Shape         Param #     Connected to                     \n",
            "==================================================================================================\n",
            " input_5 (InputLayer)           [(None, 500, 1)]     0           []                               \n",
            "                                                                                                  \n",
            " layer_normalization_5 (LayerNo  (None, 500, 1)      2           ['input_5[0][0]']                \n",
            " rmalization)                                                                                     \n",
            "                                                                                                  \n",
            " multi_head_attention_5 (MultiH  (None, 500, 1)      7169        ['layer_normalization_5[0][0]',  \n",
            " eadAttention)                                                    'layer_normalization_5[0][0]']  \n",
            "                                                                                                  \n",
            " dropout_6 (Dropout)            (None, 500, 1)       0           ['multi_head_attention_5[0][0]'] \n",
            "                                                                                                  \n",
            " dense_12 (Dense)               (None, 500, 4)       8           ['dropout_6[0][0]']              \n",
            "                                                                                                  \n",
            " dense_13 (Dense)               (None, 500, 256)     1280        ['dense_12[0][0]']               \n",
            "                                                                                                  \n",
            " tf.__operators__.add_7 (TFOpLa  (None, 500, 1)      0           ['dropout_6[0][0]',              \n",
            " mbda)                                                            'input_5[0][0]']                \n",
            "                                                                                                  \n",
            " tf.__operators__.add_8 (TFOpLa  (None, 500, 256)    0           ['dense_13[0][0]',               \n",
            " mbda)                                                            'tf.__operators__.add_7[0][0]'] \n",
            "                                                                                                  \n",
            " layer_normalization_6 (LayerNo  (None, 500, 256)    512         ['tf.__operators__.add_8[0][0]'] \n",
            " rmalization)                                                                                     \n",
            "                                                                                                  \n",
            " multi_head_attention_6 (MultiH  (None, 500, 256)    1051904     ['layer_normalization_6[0][0]',  \n",
            " eadAttention)                                                    'layer_normalization_6[0][0]']  \n",
            "                                                                                                  \n",
            " dropout_7 (Dropout)            (None, 500, 256)     0           ['multi_head_attention_6[0][0]'] \n",
            "                                                                                                  \n",
            " dense_14 (Dense)               (None, 500, 4)       1028        ['dropout_7[0][0]']              \n",
            "                                                                                                  \n",
            " dense_15 (Dense)               (None, 500, 256)     1280        ['dense_14[0][0]']               \n",
            "                                                                                                  \n",
            " tf.__operators__.add_9 (TFOpLa  (None, 500, 256)    0           ['dropout_7[0][0]',              \n",
            " mbda)                                                            'tf.__operators__.add_8[0][0]'] \n",
            "                                                                                                  \n",
            " tf.__operators__.add_10 (TFOpL  (None, 500, 256)    0           ['dense_15[0][0]',               \n",
            " ambda)                                                           'tf.__operators__.add_9[0][0]'] \n",
            "                                                                                                  \n",
            " global_average_pooling1d_1 (Gl  (None, 500)         0           ['tf.__operators__.add_10[0][0]']\n",
            " obalAveragePooling1D)                                                                            \n",
            "                                                                                                  \n",
            " dense_16 (Dense)               (None, 128)          64128       ['global_average_pooling1d_1[0][0\n",
            "                                                                 ]']                              \n",
            "                                                                                                  \n",
            " dropout_8 (Dropout)            (None, 128)          0           ['dense_16[0][0]']               \n",
            "                                                                                                  \n",
            " dense_17 (Dense)               (None, 2)            258         ['dropout_8[0][0]']              \n",
            "                                                                                                  \n",
            "==================================================================================================\n",
            "Total params: 1,127,569\n",
            "Trainable params: 1,127,569\n",
            "Non-trainable params: 0\n",
            "__________________________________________________________________________________________________\n",
            "Epoch 1/5\n",
            "45/45 [==============================] - 15s 315ms/step - loss: 0.7498 - sparse_categorical_accuracy: 0.6080 - val_loss: 0.5922 - val_sparse_categorical_accuracy: 0.6879\n",
            "Epoch 2/5\n",
            "45/45 [==============================] - 14s 321ms/step - loss: 0.5283 - sparse_categorical_accuracy: 0.7417 - val_loss: 0.5270 - val_sparse_categorical_accuracy: 0.7434\n",
            "Epoch 3/5\n",
            "45/45 [==============================] - 15s 332ms/step - loss: 0.4352 - sparse_categorical_accuracy: 0.7990 - val_loss: 0.5011 - val_sparse_categorical_accuracy: 0.7490\n",
            "Epoch 4/5\n",
            "45/45 [==============================] - 15s 331ms/step - loss: 0.3911 - sparse_categorical_accuracy: 0.8306 - val_loss: 0.4777 - val_sparse_categorical_accuracy: 0.7753\n",
            "Epoch 5/5\n",
            "45/45 [==============================] - 15s 325ms/step - loss: 0.3414 - sparse_categorical_accuracy: 0.8701 - val_loss: 0.4756 - val_sparse_categorical_accuracy: 0.7753\n",
            "42/42 [==============================] - 2s 52ms/step - loss: 0.4656 - sparse_categorical_accuracy: 0.7886\n"
          ]
        },
        {
          "output_type": "execute_result",
          "data": {
            "text/plain": [
              "[0.46555250883102417, 0.7886363863945007]"
            ]
          },
          "metadata": {},
          "execution_count": 24
        }
      ],
      "metadata": {
        "id": "iPSaxmUh1bLJ",
        "colab": {
          "base_uri": "https://localhost:8080/"
        },
        "outputId": "69f8c86b-a26f-47aa-db87-bf42648cbf15"
      }
    },
    {
      "cell_type": "markdown",
      "source": [
        "# Сделайте выводы по обучению и валидации модеели (10 баллов)"
      ],
      "metadata": {
        "id": "dgWJQHgT56aY"
      }
    },
    {
      "cell_type": "code",
      "source": [
        "import matplotlib.pyplot as plt\n",
        "import matplotlib\n",
        "import pandas as pd\n",
        "matplotlib.rcParams['figure.dpi'] = 150\n",
        "# Plotting results\n",
        "def plot1(history):\n",
        "    acc = history.history['sparse_categorical_accuracy']\n",
        "    val_acc = history.history['val_sparse_categorical_accuracy']\n",
        "    loss = history.history['loss']\n",
        "    val_loss = history.history['val_loss']\n",
        "\n",
        "    epochs = range(1, len(acc) + 1)\n",
        "    ## Accuracy plot\n",
        "    plt.plot(epochs, acc, 'bo', label='Training acc')\n",
        "    plt.plot(epochs, val_acc, 'b', label='Validation acc')\n",
        "    plt.title('Training and validation accuracy')\n",
        "    plt.legend()\n",
        "    ## Loss plot\n",
        "    plt.figure()\n",
        "\n",
        "    plt.plot(epochs, loss, 'bo', label='Training loss')\n",
        "    plt.plot(epochs, val_loss, 'b', label='Validation loss')\n",
        "    plt.title('Training and validation loss')\n",
        "    plt.legend()\n",
        "    plt.show()\n",
        "\n",
        "\n",
        "def plot2(history):\n",
        "    pd.DataFrame(history.history).plot(figsize=(8, 5))\n",
        "    plt.grid(True)\n",
        "    #plt.gca().set_ylim(0,1)\n",
        "    plt.show()"
      ],
      "metadata": {
        "id": "YS71Tjrf3Jr3"
      },
      "execution_count": null,
      "outputs": []
    },
    {
      "cell_type": "code",
      "source": [
        "print(history.history.keys())"
      ],
      "metadata": {
        "colab": {
          "base_uri": "https://localhost:8080/"
        },
        "id": "wAXms6_Y5Te6",
        "outputId": "bd2a1623-c90a-4272-e619-fe7c7726e22f"
      },
      "execution_count": null,
      "outputs": [
        {
          "output_type": "stream",
          "name": "stdout",
          "text": [
            "dict_keys(['loss', 'sparse_categorical_accuracy', 'val_loss', 'val_sparse_categorical_accuracy'])\n"
          ]
        }
      ]
    },
    {
      "cell_type": "code",
      "source": [
        "plot1(history)"
      ],
      "metadata": {
        "colab": {
          "base_uri": "https://localhost:8080/",
          "height": 1000
        },
        "id": "7ij0kqMS4q7K",
        "outputId": "15d3aba7-b7dc-40f9-8091-e0f23ef240f2"
      },
      "execution_count": null,
      "outputs": [
        {
          "output_type": "display_data",
          "data": {
            "text/plain": [
              "<Figure size 900x600 with 1 Axes>"
            ],
            "image/png": "[encoded data removed]"
          },
          "metadata": {
            "needs_background": "light"
          }
        },
        {
          "output_type": "display_data",
          "data": {
            "text/plain": [
              "<Figure size 900x600 with 1 Axes>"
            ],
            "image/png": "[encoded data removed]"
          },
          "metadata": {
            "needs_background": "light"
          }
        }
      ]
    },
    {
      "cell_type": "code",
      "source": [],
      "metadata": {
        "id": "TN-5pdR04tZX"
      },
      "execution_count": null,
      "outputs": []
    }
  ],
  "metadata": {
    "colab": {
      "provenance": []
    },
    "kernelspec": {
      "display_name": "Python 3",
      "language": "python",
      "name": "python3"
    },
    "language_info": {
      "codemirror_mode": {
        "name": "ipython",
        "version": 3
      },
      "file_extension": ".py",
      "mimetype": "text/x-python",
      "name": "python",
      "nbconvert_exporter": "python",
      "pygments_lexer": "ipython3",
      "version": "3.7.0"
    },
    "gpuClass": "standard",
    "accelerator": "GPU"
  },
  "nbformat": 4,
  "nbformat_minor": 0
}